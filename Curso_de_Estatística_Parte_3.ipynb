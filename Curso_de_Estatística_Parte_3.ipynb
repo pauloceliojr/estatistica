{
 "cells": [
  {
   "cell_type": "markdown",
   "metadata": {
    "id": "cVgsZ_E3jQKg",
    "pycharm": {
     "name": "#%% md\n"
    }
   },
   "source": [
    "# <font color=green>1 CONHECENDO OS DADOS</font>\n",
    "***"
   ]
  },
  {
   "cell_type": "markdown",
   "metadata": {
    "id": "TDjqYYNojQKh",
    "pycharm": {
     "name": "#%% md\n"
    }
   },
   "source": [
    "## <font color=green>1.1 Dataset do projeto</font>\n",
    "***"
   ]
  },
  {
   "cell_type": "markdown",
   "source": [
    "### Pesquisa Nacional por Amostra de Domicílios - 2015\n",
    "\n",
    "A <b>Pesquisa Nacional por Amostra de Domicílios - PNAD</b> investiga anualmente, de forma permanente, características gerais da população, de educação, trabalho, rendimento e habitação e outras, com periodicidade variável, de acordo com as necessidades de informação para o país, como as características sobre migração, fecundidade, nupcialidade, saúde, segurança alimentar, entre outros temas. O levantamento dessas estatísticas constitui, ao longo dos 49 anos de realização da pesquisa, um importante instrumento para formulação, validação e avaliação de políticas orientadas para o desenvolvimento socioeconômico e a melhoria das condições de vida no Brasil."
   ],
   "metadata": {
    "collapsed": false,
    "pycharm": {
     "name": "#%% md\n"
    }
   }
  },
  {
   "cell_type": "markdown",
   "source": [
    "### Fonte dos Dados\n",
    "\n",
    "https://ww2.ibge.gov.br/home/estatistica/populacao/trabalhoerendimento/pnad2015/microdados.shtm"
   ],
   "metadata": {
    "collapsed": false,
    "pycharm": {
     "name": "#%% md\n"
    }
   }
  },
  {
   "cell_type": "markdown",
   "source": [
    "### Variáveis utilizadas\n",
    "\n",
    "> ### Renda\n",
    "> ***\n",
    "\n",
    "Rendimento mensal do trabalho principal para pessoas de 10 anos ou mais de idade.\n",
    "\n",
    "> ### Idade\n",
    "> ***\n",
    "\n",
    "Idade do morador na data de referência em anos.\n",
    "\n",
    "> ### Altura (elaboração própria)\n",
    "> ***\n",
    "\n",
    "Altura do morador em metros.\n",
    "\n",
    "> ### UF\n",
    "> ***\n",
    "\n",
    "|Código|Descrição|\n",
    "|---|---|\n",
    "|11|Rondônia|\n",
    "|12|Acre|\n",
    "|13|Amazonas|\n",
    "|14|Roraima|\n",
    "|15|Pará|\n",
    "|16|Amapá|\n",
    "|17|Tocantins|\n",
    "|21|Maranhão|\n",
    "|22|Piauí|\n",
    "|23|Ceará|\n",
    "|24|Rio Grande do Norte|\n",
    "|25|Paraíba|\n",
    "|26|Pernambuco|\n",
    "|27|Alagoas|\n",
    "|28|Sergipe|\n",
    "|29|Bahia|\n",
    "|31|Minas Gerais|\n",
    "|32|Espírito Santo|\n",
    "|33|Rio de Janeiro|\n",
    "|35|São Paulo|\n",
    "|41|Paraná|\n",
    "|42|Santa Catarina|\n",
    "|43|Rio Grande do Sul|\n",
    "|50|Mato Grosso do Sul|\n",
    "|51|Mato Grosso|\n",
    "|52|Goiás|\n",
    "|53|Distrito Federal|\n",
    "\n",
    "> ### Sexo\t\n",
    "> ***\n",
    "\n",
    "|Código|Descrição|\n",
    "|---|---|\n",
    "|0|Masculino|\n",
    "|1|Feminino|\n",
    "\n",
    "> ### Anos de Estudo\n",
    "> ***\n",
    "\n",
    "|Código|Descrição|\n",
    "|---|---|\n",
    "|1|Sem instrução e menos de 1 ano|\n",
    "|2|1 ano|\n",
    "|3|2 anos|\n",
    "|4|3 anos|\n",
    "|5|4 anos|\n",
    "|6|5 anos|\n",
    "|7|6 anos|\n",
    "|8|7 anos|\n",
    "|9|8 anos|\n",
    "|10|9 anos|\n",
    "|11|10 anos|\n",
    "|12|11 anos|\n",
    "|13|12 anos|\n",
    "|14|13 anos|\n",
    "|15|14 anos|\n",
    "|16|15 anos ou mais|\n",
    "|17|Não determinados| \n",
    "||Não aplicável|\n",
    "\n",
    "> ### Cor\n",
    "> ***\n",
    "\n",
    "|Código|Descrição|\n",
    "|---|---|\n",
    "|0|Indígena|\n",
    "|2|Branca|\n",
    "|4|Preta|\n",
    "|6|Amarela|\n",
    "|8|Parda|\n",
    "|9|Sem declaração|"
   ],
   "metadata": {
    "collapsed": false,
    "pycharm": {
     "name": "#%% md\n"
    }
   }
  },
  {
   "cell_type": "markdown",
   "metadata": {
    "id": "OK1IQH5cX7Gb",
    "pycharm": {
     "name": "#%% md\n"
    }
   },
   "source": [
    "#### <font color='red'>Observação</font>\n",
    "***\n",
    "> Os seguintes tratamentos foram realizados nos dados originais:\n",
    "> 1. Foram eliminados os registros onde a <b>Renda</b> era inválida (999 999 999 999);\n",
    "> 2. Foram eliminados os registros onde a <b>Renda</b> era missing;\n",
    "> 3. Foram considerados somente os registros das <b>Pessoas de Referência</b> de cada domicílio (responsável pelo domicílio)."
   ]
  },
  {
   "cell_type": "markdown",
   "metadata": {
    "id": "8Rw70V6ojQKk",
    "pycharm": {
     "name": "#%% md\n"
    }
   },
   "source": [
    "### Importando pandas e lendo o dataset do projeto\n",
    "\n",
    "https://pandas.pydata.org/"
   ]
  },
  {
   "cell_type": "code",
   "execution_count": 2,
   "metadata": {
    "id": "8QgOpE-wjQKl",
    "pycharm": {
     "name": "#%%\n"
    }
   },
   "outputs": [],
   "source": [
    "import pandas as pd\n",
    "import numpy as np"
   ]
  },
  {
   "cell_type": "code",
   "execution_count": 3,
   "metadata": {
    "id": "ufRZ7TLwjQKo",
    "pycharm": {
     "name": "#%%\n"
    }
   },
   "outputs": [],
   "source": [
    "dados = pd.read_csv(\"dados.csv\")"
   ]
  },
  {
   "cell_type": "code",
   "execution_count": 4,
   "metadata": {
    "colab": {
     "base_uri": "https://localhost:8080/",
     "height": 206
    },
    "id": "GsC_WhLFjQKq",
    "outputId": "96a10240-8dc8-4ad1-f2e5-7bf0bdc8f031",
    "scrolled": true,
    "pycharm": {
     "name": "#%%\n"
    }
   },
   "outputs": [
    {
     "data": {
      "text/plain": "   UF  Sexo  Idade  Cor  Anos de Estudo  Renda    Altura\n0  11     0     23    8              12    800  1.603808\n1  11     1     23    2              12   1150  1.739790\n2  11     1     35    8              15    880  1.760444\n3  11     0     46    2               6   3500  1.783158\n4  11     1     47    8               9    150  1.690631",
      "text/html": "<div>\n<style scoped>\n    .dataframe tbody tr th:only-of-type {\n        vertical-align: middle;\n    }\n\n    .dataframe tbody tr th {\n        vertical-align: top;\n    }\n\n    .dataframe thead th {\n        text-align: right;\n    }\n</style>\n<table border=\"1\" class=\"dataframe\">\n  <thead>\n    <tr style=\"text-align: right;\">\n      <th></th>\n      <th>UF</th>\n      <th>Sexo</th>\n      <th>Idade</th>\n      <th>Cor</th>\n      <th>Anos de Estudo</th>\n      <th>Renda</th>\n      <th>Altura</th>\n    </tr>\n  </thead>\n  <tbody>\n    <tr>\n      <th>0</th>\n      <td>11</td>\n      <td>0</td>\n      <td>23</td>\n      <td>8</td>\n      <td>12</td>\n      <td>800</td>\n      <td>1.603808</td>\n    </tr>\n    <tr>\n      <th>1</th>\n      <td>11</td>\n      <td>1</td>\n      <td>23</td>\n      <td>2</td>\n      <td>12</td>\n      <td>1150</td>\n      <td>1.739790</td>\n    </tr>\n    <tr>\n      <th>2</th>\n      <td>11</td>\n      <td>1</td>\n      <td>35</td>\n      <td>8</td>\n      <td>15</td>\n      <td>880</td>\n      <td>1.760444</td>\n    </tr>\n    <tr>\n      <th>3</th>\n      <td>11</td>\n      <td>0</td>\n      <td>46</td>\n      <td>2</td>\n      <td>6</td>\n      <td>3500</td>\n      <td>1.783158</td>\n    </tr>\n    <tr>\n      <th>4</th>\n      <td>11</td>\n      <td>1</td>\n      <td>47</td>\n      <td>8</td>\n      <td>9</td>\n      <td>150</td>\n      <td>1.690631</td>\n    </tr>\n  </tbody>\n</table>\n</div>"
     },
     "execution_count": 4,
     "metadata": {},
     "output_type": "execute_result"
    }
   ],
   "source": [
    "dados.head()"
   ]
  },
  {
   "cell_type": "markdown",
   "metadata": {
    "id": "nk65O0lepz57",
    "pycharm": {
     "name": "#%% md\n"
    }
   },
   "source": [
    "# <font color=green>2 TESTES DE HIPÓTESES</font>\n",
    "***"
   ]
  },
  {
   "cell_type": "markdown",
   "metadata": {
    "id": "OjHpQHFHpsi3",
    "pycharm": {
     "name": "#%% md\n"
    }
   },
   "source": [
    "Testes estatísticos são regras de decisão que permitem avaliar a razoabilidade das hipóteses feitas sobre os parâmetros populacionais e aceitá-las ou rejeitá-las como provavelmente verdadeiras ou falsas tendo como base uma amostra."
   ]
  },
  {
   "cell_type": "markdown",
   "metadata": {
    "id": "qjqWccNspsi4",
    "pycharm": {
     "name": "#%% md\n"
    }
   },
   "source": [
    "## <font color=green>2.1 Teste de normalidade</font>\n",
    "***"
   ]
  },
  {
   "cell_type": "markdown",
   "metadata": {
    "id": "O79kHHwYpsi5",
    "pycharm": {
     "name": "#%% md\n"
    }
   },
   "source": [
    "### Importando bibliotecas\n",
    "https://docs.scipy.org/doc/scipy/reference/generated/scipy.stats.normaltest.html"
   ]
  },
  {
   "cell_type": "code",
   "execution_count": 5,
   "metadata": {
    "id": "3LwfaqpFpsi5",
    "pycharm": {
     "name": "#%%\n"
    }
   },
   "outputs": [],
   "source": [
    "from scipy.stats import normaltest"
   ]
  },
  {
   "cell_type": "markdown",
   "metadata": {
    "id": "abDn-nKLpsi7",
    "pycharm": {
     "name": "#%% md\n"
    }
   },
   "source": [
    "A função *normaltest* testa a hipótese nula $H_0$ de que a amostra é proveniente de uma distribuição normal."
   ]
  },
  {
   "cell_type": "markdown",
   "metadata": {
    "id": "gRDJ86zTpsi8",
    "pycharm": {
     "name": "#%% md\n"
    }
   },
   "source": [
    "### Definindo a significância do teste ($\\alpha$)"
   ]
  },
  {
   "cell_type": "code",
   "execution_count": 6,
   "metadata": {
    "id": "3s6ZAdCOpsi9",
    "pycharm": {
     "name": "#%%\n"
    }
   },
   "outputs": [],
   "source": [
    "significancia = 0.05 # nível de confiança padrão de 95%"
   ]
  },
  {
   "cell_type": "markdown",
   "metadata": {
    "id": "sppYIE51psi_",
    "pycharm": {
     "name": "#%% md\n"
    }
   },
   "source": [
    "### Testando a variável Renda"
   ]
  },
  {
   "cell_type": "code",
   "execution_count": 7,
   "metadata": {
    "colab": {
     "base_uri": "https://localhost:8080/",
     "height": 282
    },
    "id": "IZpa91lHpsi_",
    "outputId": "e758c2b8-6a47-4e95-849f-f8ae872acba1",
    "pycharm": {
     "name": "#%%\n"
    }
   },
   "outputs": [
    {
     "data": {
      "text/plain": "<AxesSubplot:>"
     },
     "execution_count": 7,
     "metadata": {},
     "output_type": "execute_result"
    },
    {
     "data": {
      "text/plain": "<Figure size 432x288 with 1 Axes>",
      "image/png": "[encoded data removed]"
     },
     "metadata": {},
     "output_type": "display_data"
    }
   ],
   "source": [
    "dados.Renda.hist(bins=50)"
   ]
  },
  {
   "cell_type": "markdown",
   "metadata": {
    "id": "qKeNZ0PUpsjC",
    "pycharm": {
     "name": "#%% md\n"
    }
   },
   "source": [
    "### <font color='red'>Critério do valor $p$</font>\n",
    "\n",
    "> ### Rejeitar $H_0$ se o valor $p\\leq 0,05$"
   ]
  },
  {
   "cell_type": "code",
   "execution_count": 8,
   "metadata": {
    "colab": {
     "base_uri": "https://localhost:8080/"
    },
    "id": "060ahVrrpsjD",
    "outputId": "21ff0509-2f49-4b7b-c774-4abddca0f870",
    "pycharm": {
     "name": "#%%\n"
    }
   },
   "outputs": [
    {
     "name": "stdout",
     "output_type": "stream",
     "text": [
      "152380.75803960307\n",
      "0.0\n"
     ]
    }
   ],
   "source": [
    "stat_teste, p_valor = normaltest(dados.Renda)\n",
    "print(stat_teste)\n",
    "print(p_valor)"
   ]
  },
  {
   "cell_type": "code",
   "execution_count": 9,
   "metadata": {
    "colab": {
     "base_uri": "https://localhost:8080/"
    },
    "id": "Q4eJFGsCpsjG",
    "outputId": "e91d0ac7-e0f3-4a32-dd23-017ed350110e",
    "pycharm": {
     "name": "#%%\n"
    }
   },
   "outputs": [
    {
     "data": {
      "text/plain": "True"
     },
     "execution_count": 9,
     "metadata": {},
     "output_type": "execute_result"
    }
   ],
   "source": [
    "p_valor <= significancia # se o p-valor for menor ou igual que o nível de significância,\n",
    "                         # há o indicativo de que não estaremos errados ao rejeitar a hipótese nula, ou seja,\n",
    "                         # podemos rejeitar que, neste caso, a distribuição da variável Renda\n",
    "                         # seja uma distribuição normal (teste de hipótese realizado)"
   ]
  },
  {
   "cell_type": "markdown",
   "metadata": {
    "id": "JkAxa9PqpsjM",
    "pycharm": {
     "name": "#%% md\n"
    }
   },
   "source": [
    "### Testando a variável Altura"
   ]
  },
  {
   "cell_type": "code",
   "execution_count": 10,
   "metadata": {
    "colab": {
     "base_uri": "https://localhost:8080/",
     "height": 282
    },
    "id": "n9r88dMKpsjN",
    "outputId": "770a293f-81f6-4c33-f906-11f1c8677634",
    "pycharm": {
     "name": "#%%\n"
    }
   },
   "outputs": [
    {
     "data": {
      "text/plain": "<AxesSubplot:>"
     },
     "execution_count": 10,
     "metadata": {},
     "output_type": "execute_result"
    },
    {
     "data": {
      "text/plain": "<Figure size 432x288 with 1 Axes>",
      "image/png": "[encoded data removed]"
     },
     "metadata": {},
     "output_type": "display_data"
    }
   ],
   "source": [
    "dados.Altura.hist(bins=50)"
   ]
  },
  {
   "cell_type": "markdown",
   "metadata": {
    "id": "1ADrwGb5psjQ",
    "pycharm": {
     "name": "#%% md\n"
    }
   },
   "source": [
    "### <font color='red'>Critério do valor $p$</font>\n",
    "\n",
    "> ### Rejeitar $H_0$ se o valor $p\\leq 0,05$"
   ]
  },
  {
   "cell_type": "code",
   "execution_count": 11,
   "metadata": {
    "colab": {
     "base_uri": "https://localhost:8080/"
    },
    "id": "aV9fx6w5psjb",
    "outputId": "114262db-15dc-4133-eabd-060e82750112",
    "pycharm": {
     "name": "#%%\n"
    }
   },
   "outputs": [
    {
     "name": "stdout",
     "output_type": "stream",
     "text": [
      "0.19973093957002253\n",
      "0.9049591541967501\n"
     ]
    }
   ],
   "source": [
    "stat_teste, p_valor = normaltest(dados.Altura)\n",
    "print(stat_teste)\n",
    "print(p_valor)"
   ]
  },
  {
   "cell_type": "code",
   "execution_count": 12,
   "metadata": {
    "colab": {
     "base_uri": "https://localhost:8080/"
    },
    "id": "pP-NZCthpsje",
    "outputId": "ec9beb87-7442-4793-ebed-0ba9bc0dde29",
    "pycharm": {
     "name": "#%%\n"
    }
   },
   "outputs": [
    {
     "data": {
      "text/plain": "False"
     },
     "execution_count": 12,
     "metadata": {},
     "output_type": "execute_result"
    }
   ],
   "source": [
    "p_valor <= significancia # se o p-valor for maior que nível de significância,\n",
    "                         # há o indicativo de que estaremos errados ao rejeitar a hipótese nula, ou seja,\n",
    "                         # não podemos rejeitar que, neste caso, a distribuição da variável Idade\n",
    "                         # seja uma distribuição normal (teste de hipótese realizado)"
   ]
  },
  {
   "cell_type": "markdown",
   "metadata": {
    "id": "rWh-HSd-psji",
    "pycharm": {
     "name": "#%% md\n"
    }
   },
   "source": [
    "## <font color=green>2.2 Etapas Básicas de um Teste</font>\n",
    "***"
   ]
  },
  {
   "cell_type": "markdown",
   "metadata": {
    "id": "DQF30K2Cpsjj",
    "pycharm": {
     "name": "#%% md\n"
    }
   },
   "source": [
    "### **Passo 1** - formulação das hipóteses $H_0$ e $H_1$;\n",
    "\n",
    "> ### <font color='red'>Pontos importantes</font>\n",
    "> - De maneira geral, o alvo do estudo deve ser formulado como a hipótese alternativa $H_1$.\n",
    "> - A hipótese nula sempre afirma uma igualdade ou propriedade populacional, e $H_1$ a desigualdade que nega $H_0$.\n",
    "> - No caso da hipótese nula $H_0$ a igualdade pode ser representada por uma igualdade simples \"$=$\" ou por \"$\\geq$\" e \"$\\leq$\". Sempre complementar ao estabelecido pela hipótese alternativa.\n",
    "> - A hipótese alternativa $H_1$ deve definir uma desigualdade que pode ser uma diferença simples \"$\\neq$\" ou dos tipos \"$>$\" e \"$<$\".\n",
    "\n",
    "\n",
    "### **Passo 2** - escolha da distribuição amostral adequada;\n",
    "\n",
    "> ### <font color='red'>Pontos importantes</font>\n",
    "> - Quando o tamanho da amostra tiver 30 elementos ou mais, deve-se utilizar a distribuição normal, como estabelecido pelo **teorema do limite central**.\n",
    "> - Para um tamanho de amostra menor que 30 elementos, e se pudermos afirmar que a população se distribui aproximadamente como uma normal e o desvio padrão populacional for conhecido, deve-se utilizar a distribuição normal.\n",
    "> - Para um tamanho de amostra menor que 30 elementos, e se pudermos afirmar que a população se distribui aproximadamente como uma normal e o desvio padrão populacional for desconhecido, deve-se utilizar a distribuição t de Student.\n",
    "\n",
    "<img src='https://caelum-online-public.s3.amazonaws.com/1229-estatistica-parte3/01/img003.png' width=70%>\n",
    "\n",
    "### **Passo 3** - fixação da significância do teste ($\\alpha$), que define as regiões de aceitação e rejeição das hipóteses (os valores mais freqüentes são 10%, 5% e 1%);\n",
    "\n",
    "> ### <font color='red'>Pontos importantes</font>\n",
    "> - O **nível de confiança** ($1 - \\alpha$) representa a probabilidade de acerto da estimativa. De forma complementar o **nível de significância** ($\\alpha$) expressa a probabilidade de erro da estimativa.\n",
    ">\n",
    "> ![Níveis de Confiança e significância](https://caelum-online-public.s3.amazonaws.com/1229-estatistica-parte3/01/img001.png)\n",
    ">\n",
    "> - O **nível de confiança** representa o grau de confiabilidade do resultado da estimativa estar dentro de determinado intervalo. Quando fixamos em uma pesquisa um **nível de confiança** de 95%, por exemplo, estamos assumindo que existe uma probabilidade de 95% dos resultados da pesquisa representarem bem a realidade, ou seja, estarem corretos.\n",
    ">\n",
    "> ![Áreas de Aceitação e Rejeição](https://caelum-online-public.s3.amazonaws.com/1229-estatistica-parte3/01/img002.png)\n",
    "\n",
    "### **Passo 4** - cálculo da estatística-teste e verificação desse valor com as áreas de aceitação e rejeição do teste;\n",
    "\n",
    "> ### <font color='red'>Pontos importantes</font>\n",
    "> - Nos testes paramétricos, distância relativa entre a estatística amostral e o valor alegado como provável.\n",
    "> - Neste passo são obtidas as estatísticas amostrais necessárias à execução do teste (média, desvio-padrão, graus de liberdade etc.)\n",
    "\n",
    "\n",
    "### **Passo 5** - Aceitação ou rejeição da hipótese nula.\n",
    "\n",
    "> ### <font color='red'>Pontos importantes</font>\n",
    "> - No caso de o intervalo de aceitação conter a estatística-teste, aceita-se $H_0$ como estatisticamente válido e rejeita-se $H_1$ como tal.\n",
    "> - No caso de o intervalo de aceitação não conter a estatística-teste, rejeita-se $H_0$ e aceita-se $H_1$ como provavelmente verdadeira. \n",
    "> - A aceitação também se verifica com a probabilidade de cauda (p-valor): se maior que $\\alpha$, aceita-se $H_0$."
   ]
  },
  {
   "cell_type": "markdown",
   "metadata": {
    "id": "TXdMM0dOpsjm",
    "pycharm": {
     "name": "#%% md\n"
    }
   },
   "source": [
    "---"
   ]
  },
  {
   "cell_type": "markdown",
   "metadata": {
    "id": "miGOADKYpsjn",
    "pycharm": {
     "name": "#%% md\n"
    }
   },
   "source": [
    "# <font color=green>3 TESTES PARAMÉTRICOS</font>\n",
    "***"
   ]
  },
  {
   "cell_type": "markdown",
   "metadata": {
    "id": "pIHY_4Sspsjn",
    "pycharm": {
     "name": "#%% md\n"
    }
   },
   "source": [
    "Quando um teste assume determinadas premissas sobre como os parâmetros de uma população se distribuem, estamos trabalhando com **Testes Paramétricos**."
   ]
  },
  {
   "cell_type": "markdown",
   "metadata": {
    "id": "rUKgxZ7_psjp",
    "pycharm": {
     "name": "#%% md\n"
    }
   },
   "source": [
    "## <font color=green>3.1 Teste Bicaudal</font>\n",
    "***"
   ]
  },
  {
   "cell_type": "markdown",
   "metadata": {
    "id": "i1PMIB5cpsjp",
    "pycharm": {
     "name": "#%% md\n"
    }
   },
   "source": [
    "## <font color='red'>Problema</font>"
   ]
  },
  {
   "cell_type": "markdown",
   "metadata": {
    "id": "vellTWzJpsjq",
    "pycharm": {
     "name": "#%% md\n"
    }
   },
   "source": [
    "A empresa **Suco Bom** produz **sucos de frutas em embalagens de 500 ml**. Seu processo de produção é quase todo automatizado e as embalagens de sucos são preenchidas por uma máquina que às vezes apresenta um certo desajuste, levando a erros no preenchimento das embalagens para mais ou menos conteúdo. Quando o volume médio cai abaixo de 500 ml, a empresa se preocupa em perder vendas e ter problemas com os orgãos fiscalizadores. Quando o volume passa de 500 ml, a empresa começa a se preocupar com prejuízos no processo de produção.\n",
    "\n",
    "O setor de controle de qualidade da empresa **Suco Bom** extrai, periodicamente, **amostras de 50 embalagens** para monitorar o processo de produção. Para cada amostra, é realizado um **teste de hipóteses** para avaliar se o maquinário se desajustou. A equipe de controle de qualidade assume um **nível de significância de 5%**.\n",
    "\n",
    "Suponha agora que uma **amostra de 50 embalagens** foi selecionada e que a **média amostral observada foi de 503,24 ml**. **Esse valor de média amostral é suficientemente maior que 500 ml para nos fazer rejeitar a hipótese de que a média do processo é de 500 ml ao nível de significância de 5%?**"
   ]
  },
  {
   "cell_type": "markdown",
   "metadata": {
    "id": "-J15nugOpsjq",
    "pycharm": {
     "name": "#%% md\n"
    }
   },
   "source": [
    "---"
   ]
  },
  {
   "cell_type": "markdown",
   "metadata": {
    "id": "076qvKgapsjr",
    "pycharm": {
     "name": "#%% md\n"
    }
   },
   "source": [
    "O **teste bicaudal** é muito utilizado em **testes de qualidade**, como o apresentado em nosso problema acima. Outro exemplo é a avaliação de peças que devem ter um encaixe perfeito (porcas e parafusos, chaves e fechaduras)."
   ]
  },
  {
   "cell_type": "markdown",
   "metadata": {
    "id": "MyGUYz88psjr",
    "pycharm": {
     "name": "#%% md\n"
    }
   },
   "source": [
    "![Teste Bicaudal](https://caelum-online-public.s3.amazonaws.com/1229-estatistica-parte3/01/img005.png)"
   ]
  },
  {
   "cell_type": "markdown",
   "metadata": {
    "id": "EOiKt64mpsjs",
    "pycharm": {
     "name": "#%% md\n"
    }
   },
   "source": [
    "---"
   ]
  },
  {
   "cell_type": "markdown",
   "metadata": {
    "id": "011wNGXtpsjs",
    "pycharm": {
     "name": "#%% md\n"
    }
   },
   "source": [
    "### Dados do problema"
   ]
  },
  {
   "cell_type": "code",
   "execution_count": 13,
   "metadata": {
    "id": "lHLlGH7upsjt",
    "pycharm": {
     "name": "#%%\n"
    }
   },
   "outputs": [],
   "source": [
    "amostra = [509, 505, 495, 510, 496, 509, 497, 502, 503, 505,\n",
    "           501, 505, 510, 505, 504, 497, 506, 506, 508, 505,\n",
    "           497, 504, 500, 498, 506, 496, 508, 497, 503, 501,\n",
    "           503, 506, 499, 498, 509, 507, 503, 499, 509, 495,\n",
    "           502, 505, 504, 509, 508, 501, 505, 497, 508, 507]"
   ]
  },
  {
   "cell_type": "code",
   "execution_count": 14,
   "metadata": {
    "colab": {
     "base_uri": "https://localhost:8080/",
     "height": 206
    },
    "id": "AJNH5RQtpsju",
    "outputId": "b7ecdbdf-4c17-4354-a020-a7258adc0cb3",
    "scrolled": false,
    "pycharm": {
     "name": "#%%\n"
    }
   },
   "outputs": [
    {
     "data": {
      "text/plain": "   Amostra\n0      509\n1      505\n2      495\n3      510\n4      496",
      "text/html": "<div>\n<style scoped>\n    .dataframe tbody tr th:only-of-type {\n        vertical-align: middle;\n    }\n\n    .dataframe tbody tr th {\n        vertical-align: top;\n    }\n\n    .dataframe thead th {\n        text-align: right;\n    }\n</style>\n<table border=\"1\" class=\"dataframe\">\n  <thead>\n    <tr style=\"text-align: right;\">\n      <th></th>\n      <th>Amostra</th>\n    </tr>\n  </thead>\n  <tbody>\n    <tr>\n      <th>0</th>\n      <td>509</td>\n    </tr>\n    <tr>\n      <th>1</th>\n      <td>505</td>\n    </tr>\n    <tr>\n      <th>2</th>\n      <td>495</td>\n    </tr>\n    <tr>\n      <th>3</th>\n      <td>510</td>\n    </tr>\n    <tr>\n      <th>4</th>\n      <td>496</td>\n    </tr>\n  </tbody>\n</table>\n</div>"
     },
     "execution_count": 14,
     "metadata": {},
     "output_type": "execute_result"
    }
   ],
   "source": [
    "amostra = pd.DataFrame(amostra, columns=['Amostra'])\n",
    "amostra.head()"
   ]
  },
  {
   "cell_type": "code",
   "execution_count": 15,
   "metadata": {
    "colab": {
     "base_uri": "https://localhost:8080/"
    },
    "id": "tnjD0A_ppsjw",
    "outputId": "d4978f61-4f93-4bfa-e0cd-3fd0b5fdbd05",
    "pycharm": {
     "name": "#%%\n"
    }
   },
   "outputs": [
    {
     "data": {
      "text/plain": "503.24"
     },
     "execution_count": 15,
     "metadata": {},
     "output_type": "execute_result"
    }
   ],
   "source": [
    "media_amostra = amostra.mean()[0]\n",
    "media_amostra"
   ]
  },
  {
   "cell_type": "code",
   "execution_count": 16,
   "metadata": {
    "colab": {
     "base_uri": "https://localhost:8080/"
    },
    "id": "JXz2IFCUpsjy",
    "outputId": "29db6ed9-7e9f-48df-f521-071a765c76fe",
    "pycharm": {
     "name": "#%%\n"
    }
   },
   "outputs": [
    {
     "data": {
      "text/plain": "4.483803050527347"
     },
     "execution_count": 16,
     "metadata": {},
     "output_type": "execute_result"
    }
   ],
   "source": [
    "desvio_padrao_amostra = amostra.std()[0]\n",
    "desvio_padrao_amostra"
   ]
  },
  {
   "cell_type": "code",
   "execution_count": 17,
   "metadata": {
    "id": "PE99TXSfpsj0",
    "pycharm": {
     "name": "#%%\n"
    }
   },
   "outputs": [],
   "source": [
    "media = 500\n",
    "significancia = 0.05\n",
    "confianca = 1 - significancia\n",
    "n = 50"
   ]
  },
  {
   "cell_type": "markdown",
   "metadata": {
    "id": "nqmFpl7wpsj2",
    "pycharm": {
     "name": "#%% md\n"
    }
   },
   "source": [
    "### **Passo 1** - formulação das hipóteses $H_0$ e $H_1$\n",
    "\n",
    "#### <font color='red'>Lembre-se, a hipótese nula sempre contém a alegação de igualdade</font>"
   ]
  },
  {
   "cell_type": "markdown",
   "metadata": {
    "id": "QVcqkHZhpsj3",
    "pycharm": {
     "name": "#%% md\n"
    }
   },
   "source": [
    "### $H_0: \\mu = 500$\n",
    "\n",
    "### $H_1: \\mu \\neq 500$"
   ]
  },
  {
   "cell_type": "markdown",
   "metadata": {
    "id": "MShPuVL6psj3",
    "pycharm": {
     "name": "#%% md\n"
    }
   },
   "source": [
    "---"
   ]
  },
  {
   "cell_type": "markdown",
   "metadata": {
    "id": "_rAz73fzpsj4",
    "pycharm": {
     "name": "#%% md\n"
    }
   },
   "source": [
    "### **Passo 2** - escolha da distribuição amostral adequada\n",
    "<img src='https://caelum-online-public.s3.amazonaws.com/1229-estatistica-parte3/01/img003.png' width=70%>"
   ]
  },
  {
   "cell_type": "markdown",
   "metadata": {
    "id": "XC1JOtU9psj4",
    "pycharm": {
     "name": "#%% md\n"
    }
   },
   "source": [
    "### O tamanho da amostra é maior que 30?\n",
    "#### Resp.: Sim\n",
    "\n",
    "### O desvio padrão populacional é conhecido?\n",
    "#### Resp.: Não"
   ]
  },
  {
   "cell_type": "markdown",
   "metadata": {
    "id": "Uq-Zq_Sxpsj5",
    "pycharm": {
     "name": "#%% md\n"
    }
   },
   "source": [
    "---"
   ]
  },
  {
   "cell_type": "markdown",
   "metadata": {
    "id": "V3OT4caspsj5",
    "pycharm": {
     "name": "#%% md\n"
    }
   },
   "source": [
    "### **Passo 3** - fixação da significância do teste ($\\alpha$)"
   ]
  },
  {
   "cell_type": "markdown",
   "metadata": {
    "id": "wI1Nhj_vpsj6",
    "pycharm": {
     "name": "#%% md\n"
    }
   },
   "source": [
    "https://docs.scipy.org/doc/scipy/reference/generated/scipy.stats.norm.html"
   ]
  },
  {
   "cell_type": "code",
   "execution_count": 18,
   "metadata": {
    "id": "nUd-6AzZpsj6",
    "pycharm": {
     "name": "#%%\n"
    }
   },
   "outputs": [],
   "source": [
    "from scipy.stats import norm"
   ]
  },
  {
   "cell_type": "code",
   "execution_count": 19,
   "metadata": {
    "colab": {
     "base_uri": "https://localhost:8080/"
    },
    "id": "2JyYCHeQpsj8",
    "outputId": "428c213e-f639-4662-9c5c-8e9a2d8f11c1",
    "pycharm": {
     "name": "#%%\n"
    }
   },
   "outputs": [
    {
     "data": {
      "text/plain": "0.975"
     },
     "execution_count": 19,
     "metadata": {},
     "output_type": "execute_result"
    }
   ],
   "source": [
    "probabilidade = 0.5 + (0.95/2)\n",
    "probabilidade"
   ]
  },
  {
   "cell_type": "markdown",
   "metadata": {
    "id": "Fu4Wbd-ipsj-",
    "pycharm": {
     "name": "#%% md\n"
    }
   },
   "source": [
    "### Obtendo $z_{\\alpha/2}$"
   ]
  },
  {
   "cell_type": "code",
   "execution_count": 20,
   "metadata": {
    "colab": {
     "base_uri": "https://localhost:8080/"
    },
    "id": "imc3GyDLpsj_",
    "outputId": "b1998c90-aa75-4571-bf48-aab177229dd8",
    "pycharm": {
     "name": "#%%\n"
    }
   },
   "outputs": [
    {
     "data": {
      "text/plain": "1.959963984540054"
     },
     "execution_count": 20,
     "metadata": {},
     "output_type": "execute_result"
    }
   ],
   "source": [
    "z_alpha_2 = norm.ppf(probabilidade)\n",
    "z_alpha_2"
   ]
  },
  {
   "cell_type": "markdown",
   "metadata": {
    "id": "d98Z21yOpskB",
    "pycharm": {
     "name": "#%% md\n"
    }
   },
   "source": [
    "![Região de Aceitação](https://caelum-online-public.s3.amazonaws.com/1229-estatistica-parte3/01/img006.png)"
   ]
  },
  {
   "cell_type": "markdown",
   "metadata": {
    "id": "eyfX7pYMpskC",
    "pycharm": {
     "name": "#%% md\n"
    }
   },
   "source": [
    "---"
   ]
  },
  {
   "cell_type": "markdown",
   "metadata": {
    "id": "aaLCZs0ApskC",
    "pycharm": {
     "name": "#%% md\n"
    }
   },
   "source": [
    "### **Passo 4** - cálculo da estatística-teste e verificação desse valor com as áreas de aceitação e rejeição do teste\n",
    "\n",
    "# $$z = \\frac{\\bar{x} - \\mu_0}{\\frac{s}{\\sqrt{n}}}$$"
   ]
  },
  {
   "cell_type": "code",
   "execution_count": 21,
   "metadata": {
    "colab": {
     "base_uri": "https://localhost:8080/"
    },
    "id": "a6zMj0YzpskC",
    "outputId": "07e884e7-0e8e-4ee1-cc49-9dfee4e40b8e",
    "pycharm": {
     "name": "#%%\n"
    }
   },
   "outputs": [
    {
     "data": {
      "text/plain": "5.109559775991877"
     },
     "execution_count": 21,
     "metadata": {},
     "output_type": "execute_result"
    }
   ],
   "source": [
    "z = (media_amostra - media) / (desvio_padrao_amostra / np.sqrt(n))\n",
    "z"
   ]
  },
  {
   "cell_type": "markdown",
   "metadata": {
    "id": "UMHqgrlupskE",
    "pycharm": {
     "name": "#%% md\n"
    }
   },
   "source": [
    "![Estatística-Teste](https://caelum-online-public.s3.amazonaws.com/1229-estatistica-parte3/01/img007.png)"
   ]
  },
  {
   "cell_type": "markdown",
   "metadata": {
    "id": "tFfJX8G9pskF",
    "pycharm": {
     "name": "#%% md\n"
    }
   },
   "source": [
    "---"
   ]
  },
  {
   "cell_type": "markdown",
   "metadata": {
    "id": "aqTnTTePpskF",
    "pycharm": {
     "name": "#%% md\n"
    }
   },
   "source": [
    "### **Passo 5** - Aceitação ou rejeição da hipótese nula"
   ]
  },
  {
   "cell_type": "markdown",
   "metadata": {
    "id": "pD1cc4DHpskG",
    "pycharm": {
     "name": "#%% md\n"
    }
   },
   "source": [
    "<img src='https://caelum-online-public.s3.amazonaws.com/1229-estatistica-parte3/01/img013.png' width=90%>"
   ]
  },
  {
   "cell_type": "markdown",
   "metadata": {
    "id": "qbnH6V15pskG",
    "pycharm": {
     "name": "#%% md\n"
    }
   },
   "source": [
    "### <font color='red'>Critério do valor crítico</font>\n",
    "\n",
    "> ### Teste Bicaudal\n",
    "> ### Rejeitar $H_0$ se $z \\leq -z_{\\alpha / 2}$ ou se $z \\geq z_{\\alpha / 2}$"
   ]
  },
  {
   "cell_type": "code",
   "execution_count": 22,
   "metadata": {
    "colab": {
     "base_uri": "https://localhost:8080/"
    },
    "id": "-MkJyqSupskG",
    "outputId": "fae7c6f7-a97a-46be-f282-54688cde4859",
    "pycharm": {
     "name": "#%%\n"
    }
   },
   "outputs": [
    {
     "data": {
      "text/plain": "False"
     },
     "execution_count": 22,
     "metadata": {},
     "output_type": "execute_result"
    }
   ],
   "source": [
    "z <= -z_alpha_2"
   ]
  },
  {
   "cell_type": "code",
   "execution_count": 23,
   "metadata": {
    "colab": {
     "base_uri": "https://localhost:8080/"
    },
    "id": "FVTIIXA3pskI",
    "outputId": "7b96b3d6-2f22-4b21-8213-2f31c9dda93b",
    "pycharm": {
     "name": "#%%\n"
    }
   },
   "outputs": [
    {
     "data": {
      "text/plain": "True"
     },
     "execution_count": 23,
     "metadata": {},
     "output_type": "execute_result"
    }
   ],
   "source": [
    "z >= z_alpha_2"
   ]
  },
  {
   "cell_type": "markdown",
   "metadata": {
    "id": "YX-xSnZFpskM",
    "pycharm": {
     "name": "#%% md\n"
    }
   },
   "source": [
    "### <font color='green'>Conclusão: Como a média amostral $\\bar{x}$ é significativamente maior que 500 ml, rejeitamos $H_0$. Neste caso, devem ser tomadas providências para ajustar o maquinário que preenche as embalagens.</font>"
   ]
  },
  {
   "cell_type": "markdown",
   "metadata": {
    "id": "Aqv_KZoYpskN",
    "pycharm": {
     "name": "#%% md\n"
    }
   },
   "source": [
    "### <font color='red'>Critério do $p-valor$</font>\n",
    "\n",
    "> ### Teste Bicaudal\n",
    "> ### Rejeitar $H_0$ se o valor $p\\leq\\alpha$"
   ]
  },
  {
   "cell_type": "code",
   "execution_count": 24,
   "metadata": {
    "colab": {
     "base_uri": "https://localhost:8080/"
    },
    "id": "ucIaKkuopskN",
    "outputId": "077e7da4-6977-420e-eda1-b33c84b88062",
    "pycharm": {
     "name": "#%%\n"
    }
   },
   "outputs": [
    {
     "data": {
      "text/plain": "3.2291031715203644e-07"
     },
     "execution_count": 24,
     "metadata": {},
     "output_type": "execute_result"
    }
   ],
   "source": [
    "p_valor = 2 * (1 - abs(norm.cdf(z)))\n",
    "p_valor"
   ]
  },
  {
   "cell_type": "code",
   "execution_count": 25,
   "metadata": {
    "colab": {
     "base_uri": "https://localhost:8080/"
    },
    "id": "wGgZS83apskO",
    "outputId": "5870dc85-2b16-4a8c-a838-af3a8f7a5480",
    "pycharm": {
     "name": "#%%\n"
    }
   },
   "outputs": [
    {
     "data": {
      "text/plain": "3.229103172445718e-07"
     },
     "execution_count": 25,
     "metadata": {},
     "output_type": "execute_result"
    }
   ],
   "source": [
    "p_valor = 2 * norm.sf(abs(z))\n",
    "p_valor"
   ]
  },
  {
   "cell_type": "code",
   "execution_count": 26,
   "metadata": {
    "colab": {
     "base_uri": "https://localhost:8080/"
    },
    "id": "vUHgYIHqpskR",
    "outputId": "25ee1120-9ffc-4b8b-b381-a7ffc1cd3c21",
    "scrolled": true,
    "pycharm": {
     "name": "#%%\n"
    }
   },
   "outputs": [
    {
     "data": {
      "text/plain": "True"
     },
     "execution_count": 26,
     "metadata": {},
     "output_type": "execute_result"
    }
   ],
   "source": [
    "p_valor <= significancia"
   ]
  },
  {
   "cell_type": "markdown",
   "metadata": {
    "id": "YRw1O5X8pskT",
    "pycharm": {
     "name": "#%% md\n"
    }
   },
   "source": [
    "https://www.statsmodels.org/stable/generated/statsmodels.stats.weightstats.ztest.html"
   ]
  },
  {
   "cell_type": "code",
   "execution_count": 27,
   "metadata": {
    "id": "rg3hUlqfpskU",
    "pycharm": {
     "name": "#%%\n"
    }
   },
   "outputs": [],
   "source": [
    "from statsmodels.stats.weightstats import ztest"
   ]
  },
  {
   "cell_type": "code",
   "execution_count": 28,
   "metadata": {
    "colab": {
     "base_uri": "https://localhost:8080/"
    },
    "id": "0pC3HAjzpskV",
    "outputId": "1c6c4dcb-3bbf-4cbd-81fd-9f3492880569",
    "pycharm": {
     "name": "#%%\n"
    }
   },
   "outputs": [
    {
     "data": {
      "text/plain": "(array([5.10955978]), array([3.22910317e-07]))"
     },
     "execution_count": 28,
     "metadata": {},
     "output_type": "execute_result"
    }
   ],
   "source": [
    "ztest(x1=amostra, value=media)"
   ]
  },
  {
   "cell_type": "markdown",
   "metadata": {
    "id": "X5MVCXS6pskX",
    "pycharm": {
     "name": "#%% md\n"
    }
   },
   "source": [
    "https://www.statsmodels.org/dev/generated/statsmodels.stats.weightstats.DescrStatsW.html"
   ]
  },
  {
   "cell_type": "code",
   "execution_count": 29,
   "metadata": {
    "id": "ke2O2P00pskX",
    "pycharm": {
     "name": "#%%\n"
    }
   },
   "outputs": [],
   "source": [
    "from statsmodels.stats.weightstats import DescrStatsW"
   ]
  },
  {
   "cell_type": "code",
   "execution_count": 30,
   "metadata": {
    "id": "Dz_iOYR4pskZ",
    "pycharm": {
     "name": "#%%\n"
    }
   },
   "outputs": [],
   "source": [
    "test = DescrStatsW(amostra)"
   ]
  },
  {
   "cell_type": "code",
   "execution_count": 31,
   "metadata": {
    "colab": {
     "base_uri": "https://localhost:8080/"
    },
    "id": "LJBxBo5dpskb",
    "outputId": "2d5b4a7f-665b-41c2-be34-3c7464182f66",
    "pycharm": {
     "name": "#%%\n"
    }
   },
   "outputs": [
    {
     "name": "stdout",
     "output_type": "stream",
     "text": [
      "5.109559775991874\n",
      "3.2291031724457596e-07\n"
     ]
    }
   ],
   "source": [
    "z, p_valor = test.ztest_mean(media)\n",
    "print(z[0])\n",
    "print(p_valor[0])"
   ]
  },
  {
   "cell_type": "markdown",
   "metadata": {
    "id": "YQQdl-Nepskv",
    "pycharm": {
     "name": "#%% md\n"
    }
   },
   "source": [
    "---"
   ]
  },
  {
   "cell_type": "markdown",
   "metadata": {
    "id": "U8OWXeVtpskv",
    "pycharm": {
     "name": "#%% md\n"
    }
   },
   "source": [
    "## <font color=green>3.2 Teste Unicaudal</font>\n",
    "***"
   ]
  },
  {
   "cell_type": "markdown",
   "metadata": {
    "id": "CPHPL4nWpskw",
    "pycharm": {
     "name": "#%% md\n"
    }
   },
   "source": [
    "## <font color='red'>Problema</font>"
   ]
  },
  {
   "cell_type": "markdown",
   "metadata": {
    "id": "vDyxOXLvpskw",
    "pycharm": {
     "name": "#%% md\n"
    }
   },
   "source": [
    "Um famoso fabricante de refrigerantes alega que uma lata de 350 ml de seu principal produto contém, **no máximo**, **37 gramas de açúcar**. Esta alegação nos leva a entender que a quantidade média de açúcar em uma lata de refrigerante deve ser **igual ou menor que 37 g**.\n",
    "\n",
    "Um consumidor desconfiado e com conhecimentos em inferência estatística resolve testar a alegação do fabricante e seleciona, aleatóriamente, em um conjunto de estabelecimentos distintos, **uma amostra de 25 latas** do refrigerante em questão. Utilizando o equipamento correto o consumidor obteve as quantidades de açúcar em todas as 25 latas de sua amostra. \n",
    "\n",
    "**Assumindo que essa população se distribua aproximadamente como uma normal e considerando um nível de significância de 5%, é possível aceitar como válida a alegação do fabricante?**"
   ]
  },
  {
   "cell_type": "markdown",
   "metadata": {
    "id": "5P5nWN0epsky",
    "pycharm": {
     "name": "#%% md\n"
    }
   },
   "source": [
    "### Construindo tabela $t$ de Student\n",
    "https://docs.scipy.org/doc/scipy/reference/generated/scipy.stats.t.html"
   ]
  },
  {
   "cell_type": "code",
   "execution_count": 32,
   "metadata": {
    "colab": {
     "base_uri": "https://localhost:8080/",
     "height": 990
    },
    "id": "lKuhGKPEpsky",
    "outputId": "a67a3ffc-14f7-460d-92ca-a6c9e06b829b",
    "scrolled": false,
    "pycharm": {
     "name": "#%%\n"
    }
   },
   "outputs": [
    {
     "data": {
      "text/plain": "Bicaudal                          0.100     0.090     0.080     0.070  \\\nUnicaudal                         0.050     0.045     0.040     0.035   \nGraus de Liberdade (n - 1) 1   6.313752  7.026366  7.915815  9.057887   \n                           2   2.919986  3.103977  3.319764  3.578247   \n                           3   2.353363  2.470807  2.605427  2.762599   \n                           4   2.131847    2.2261  2.332873  2.455892   \n                           5   2.015048  2.097837  2.190958  2.297392   \n                           6    1.94318  2.019201  2.104306  2.201059   \n                           7   1.894579  1.966153  2.046011  2.136453   \n                           8   1.859548  1.927986  2.004152  2.090166   \n                           9   1.833113  1.899222  1.972653  2.055395   \n                           10  1.812461  1.876774  1.948099  2.028327   \n                           11  1.795885  1.858772  1.928427  2.006663   \n                           12  1.782288  1.844015  1.912313  1.988934   \n                           13  1.770933    1.8317  1.898874  1.974158   \n                           14   1.76131  1.821267  1.887496  1.961656   \n                           15   1.75305  1.812316  1.877739   1.95094   \n                           16  1.745884  1.804553  1.869279  1.941654   \n                           17  1.739607  1.797755  1.861875   1.93353   \n                           18  1.734064  1.791754   1.85534  1.926362   \n                           19  1.729133  1.786417   1.84953  1.919992   \n                           20  1.724718   1.78164  1.844331  1.914292   \n                           21  1.720743  1.777339  1.839651  1.909164   \n                           22  1.717144  1.773447  1.835417  1.904524   \n                           23  1.713872  1.769907  1.831567  1.900307   \n                           24  1.710882  1.766675  1.828051  1.896457   \n                           25  1.708141  1.763711  1.824828  1.892928   \n                           26  1.705618  1.760983  1.821863  1.889682   \n                           27  1.703288  1.758466  1.819126  1.886686   \n                           28  1.701131  1.756134  1.816592  1.883912   \n                           29  1.699127  1.753968  1.814238  1.881336   \n\nBicaudal                           0.060      0.050      0.040      0.030  \\\nUnicaudal                          0.030      0.025      0.020      0.015   \nGraus de Liberdade (n - 1) 1   10.578895  12.706205  15.894545  21.204949   \n                           2    3.896425   4.302653   4.848732   5.642778   \n                           3     2.95051   3.182446   3.481909   3.896046   \n                           4    2.600762   2.776445   2.998528    3.29763   \n                           5    2.421585   2.570582   2.756509   3.002875   \n                           6    2.313263   2.446912   2.612242   2.828928   \n                           7    2.240879   2.364624   2.516752   2.714573   \n                           8    2.189155   2.306004   2.448985   2.633814   \n                           9    2.150375   2.262157   2.398441   2.573804   \n                           10   2.120234   2.228139   2.359315   2.527484   \n                           11   2.096139   2.200985    2.32814   2.490664   \n                           12   2.076441   2.178813   2.302722     2.4607   \n                           13   2.060038   2.160369   2.281604   2.435845   \n                           14   2.046169   2.144787   2.263781   2.414898   \n                           15   2.034289    2.13145    2.24854   2.397005   \n                           16      2.024   2.119905   2.235358   2.381545   \n                           17   2.015002   2.109816   2.223845   2.368055   \n                           18   2.007067   2.100922   2.213703    2.35618   \n                           19   2.000017   2.093024   2.204701   2.345648   \n                           20   1.993713   2.085963   2.196658   2.336242   \n                           21   1.988041   2.079614   2.189427   2.327792   \n                           22   1.982911   2.073873   2.182893    2.32016   \n                           23   1.978249   2.068658   2.176958   2.313231   \n                           24   1.973994   2.063899   2.171545   2.306913   \n                           25   1.970095   2.059539   2.166587    2.30113   \n                           26   1.966509   2.055529   2.162029   2.295815   \n                           27     1.9632   2.051831   2.157825   2.290914   \n                           28   1.960136   2.048407   2.153935    2.28638   \n                           29   1.957293    2.04523   2.150325   2.282175   \n\nBicaudal                           0.020      0.010  \nUnicaudal                          0.010      0.005  \nGraus de Liberdade (n - 1) 1   31.820516  63.656741  \n                           2    6.964557   9.924843  \n                           3    4.540703   5.840909  \n                           4    3.746947   4.604095  \n                           5     3.36493   4.032143  \n                           6    3.142668   3.707428  \n                           7    2.997952   3.499483  \n                           8    2.896459   3.355387  \n                           9    2.821438   3.249836  \n                           10   2.763769   3.169273  \n                           11   2.718079   3.105807  \n                           12   2.680998    3.05454  \n                           13   2.650309   3.012276  \n                           14   2.624494   2.976843  \n                           15    2.60248   2.946713  \n                           16   2.583487   2.920782  \n                           17   2.566934   2.898231  \n                           18    2.55238    2.87844  \n                           19   2.539483   2.860935  \n                           20   2.527977    2.84534  \n                           21   2.517648    2.83136  \n                           22   2.508325   2.818756  \n                           23   2.499867   2.807336  \n                           24   2.492159    2.79694  \n                           25   2.485107   2.787436  \n                           26    2.47863   2.778715  \n                           27    2.47266   2.770683  \n                           28    2.46714   2.763262  \n                           29   2.462021   2.756386  ",
      "text/html": "<div>\n<style scoped>\n    .dataframe tbody tr th:only-of-type {\n        vertical-align: middle;\n    }\n\n    .dataframe tbody tr th {\n        vertical-align: top;\n    }\n\n    .dataframe thead tr th {\n        text-align: left;\n    }\n</style>\n<table border=\"1\" class=\"dataframe\">\n  <thead>\n    <tr>\n      <th></th>\n      <th>Bicaudal</th>\n      <th>0.100</th>\n      <th>0.090</th>\n      <th>0.080</th>\n      <th>0.070</th>\n      <th>0.060</th>\n      <th>0.050</th>\n      <th>0.040</th>\n      <th>0.030</th>\n      <th>0.020</th>\n      <th>0.010</th>\n    </tr>\n    <tr>\n      <th></th>\n      <th>Unicaudal</th>\n      <th>0.050</th>\n      <th>0.045</th>\n      <th>0.040</th>\n      <th>0.035</th>\n      <th>0.030</th>\n      <th>0.025</th>\n      <th>0.020</th>\n      <th>0.015</th>\n      <th>0.010</th>\n      <th>0.005</th>\n    </tr>\n  </thead>\n  <tbody>\n    <tr>\n      <th rowspan=\"29\" valign=\"top\">Graus de Liberdade (n - 1)</th>\n      <th>1</th>\n      <td>6.313752</td>\n      <td>7.026366</td>\n      <td>7.915815</td>\n      <td>9.057887</td>\n      <td>10.578895</td>\n      <td>12.706205</td>\n      <td>15.894545</td>\n      <td>21.204949</td>\n      <td>31.820516</td>\n      <td>63.656741</td>\n    </tr>\n    <tr>\n      <th>2</th>\n      <td>2.919986</td>\n      <td>3.103977</td>\n      <td>3.319764</td>\n      <td>3.578247</td>\n      <td>3.896425</td>\n      <td>4.302653</td>\n      <td>4.848732</td>\n      <td>5.642778</td>\n      <td>6.964557</td>\n      <td>9.924843</td>\n    </tr>\n    <tr>\n      <th>3</th>\n      <td>2.353363</td>\n      <td>2.470807</td>\n      <td>2.605427</td>\n      <td>2.762599</td>\n      <td>2.95051</td>\n      <td>3.182446</td>\n      <td>3.481909</td>\n      <td>3.896046</td>\n      <td>4.540703</td>\n      <td>5.840909</td>\n    </tr>\n    <tr>\n      <th>4</th>\n      <td>2.131847</td>\n      <td>2.2261</td>\n      <td>2.332873</td>\n      <td>2.455892</td>\n      <td>2.600762</td>\n      <td>2.776445</td>\n      <td>2.998528</td>\n      <td>3.29763</td>\n      <td>3.746947</td>\n      <td>4.604095</td>\n    </tr>\n    <tr>\n      <th>5</th>\n      <td>2.015048</td>\n      <td>2.097837</td>\n      <td>2.190958</td>\n      <td>2.297392</td>\n      <td>2.421585</td>\n      <td>2.570582</td>\n      <td>2.756509</td>\n      <td>3.002875</td>\n      <td>3.36493</td>\n      <td>4.032143</td>\n    </tr>\n    <tr>\n      <th>6</th>\n      <td>1.94318</td>\n      <td>2.019201</td>\n      <td>2.104306</td>\n      <td>2.201059</td>\n      <td>2.313263</td>\n      <td>2.446912</td>\n      <td>2.612242</td>\n      <td>2.828928</td>\n      <td>3.142668</td>\n      <td>3.707428</td>\n    </tr>\n    <tr>\n      <th>7</th>\n      <td>1.894579</td>\n      <td>1.966153</td>\n      <td>2.046011</td>\n      <td>2.136453</td>\n      <td>2.240879</td>\n      <td>2.364624</td>\n      <td>2.516752</td>\n      <td>2.714573</td>\n      <td>2.997952</td>\n      <td>3.499483</td>\n    </tr>\n    <tr>\n      <th>8</th>\n      <td>1.859548</td>\n      <td>1.927986</td>\n      <td>2.004152</td>\n      <td>2.090166</td>\n      <td>2.189155</td>\n      <td>2.306004</td>\n      <td>2.448985</td>\n      <td>2.633814</td>\n      <td>2.896459</td>\n      <td>3.355387</td>\n    </tr>\n    <tr>\n      <th>9</th>\n      <td>1.833113</td>\n      <td>1.899222</td>\n      <td>1.972653</td>\n      <td>2.055395</td>\n      <td>2.150375</td>\n      <td>2.262157</td>\n      <td>2.398441</td>\n      <td>2.573804</td>\n      <td>2.821438</td>\n      <td>3.249836</td>\n    </tr>\n    <tr>\n      <th>10</th>\n      <td>1.812461</td>\n      <td>1.876774</td>\n      <td>1.948099</td>\n      <td>2.028327</td>\n      <td>2.120234</td>\n      <td>2.228139</td>\n      <td>2.359315</td>\n      <td>2.527484</td>\n      <td>2.763769</td>\n      <td>3.169273</td>\n    </tr>\n    <tr>\n      <th>11</th>\n      <td>1.795885</td>\n      <td>1.858772</td>\n      <td>1.928427</td>\n      <td>2.006663</td>\n      <td>2.096139</td>\n      <td>2.200985</td>\n      <td>2.32814</td>\n      <td>2.490664</td>\n      <td>2.718079</td>\n      <td>3.105807</td>\n    </tr>\n    <tr>\n      <th>12</th>\n      <td>1.782288</td>\n      <td>1.844015</td>\n      <td>1.912313</td>\n      <td>1.988934</td>\n      <td>2.076441</td>\n      <td>2.178813</td>\n      <td>2.302722</td>\n      <td>2.4607</td>\n      <td>2.680998</td>\n      <td>3.05454</td>\n    </tr>\n    <tr>\n      <th>13</th>\n      <td>1.770933</td>\n      <td>1.8317</td>\n      <td>1.898874</td>\n      <td>1.974158</td>\n      <td>2.060038</td>\n      <td>2.160369</td>\n      <td>2.281604</td>\n      <td>2.435845</td>\n      <td>2.650309</td>\n      <td>3.012276</td>\n    </tr>\n    <tr>\n      <th>14</th>\n      <td>1.76131</td>\n      <td>1.821267</td>\n      <td>1.887496</td>\n      <td>1.961656</td>\n      <td>2.046169</td>\n      <td>2.144787</td>\n      <td>2.263781</td>\n      <td>2.414898</td>\n      <td>2.624494</td>\n      <td>2.976843</td>\n    </tr>\n    <tr>\n      <th>15</th>\n      <td>1.75305</td>\n      <td>1.812316</td>\n      <td>1.877739</td>\n      <td>1.95094</td>\n      <td>2.034289</td>\n      <td>2.13145</td>\n      <td>2.24854</td>\n      <td>2.397005</td>\n      <td>2.60248</td>\n      <td>2.946713</td>\n    </tr>\n    <tr>\n      <th>16</th>\n      <td>1.745884</td>\n      <td>1.804553</td>\n      <td>1.869279</td>\n      <td>1.941654</td>\n      <td>2.024</td>\n      <td>2.119905</td>\n      <td>2.235358</td>\n      <td>2.381545</td>\n      <td>2.583487</td>\n      <td>2.920782</td>\n    </tr>\n    <tr>\n      <th>17</th>\n      <td>1.739607</td>\n      <td>1.797755</td>\n      <td>1.861875</td>\n      <td>1.93353</td>\n      <td>2.015002</td>\n      <td>2.109816</td>\n      <td>2.223845</td>\n      <td>2.368055</td>\n      <td>2.566934</td>\n      <td>2.898231</td>\n    </tr>\n    <tr>\n      <th>18</th>\n      <td>1.734064</td>\n      <td>1.791754</td>\n      <td>1.85534</td>\n      <td>1.926362</td>\n      <td>2.007067</td>\n      <td>2.100922</td>\n      <td>2.213703</td>\n      <td>2.35618</td>\n      <td>2.55238</td>\n      <td>2.87844</td>\n    </tr>\n    <tr>\n      <th>19</th>\n      <td>1.729133</td>\n      <td>1.786417</td>\n      <td>1.84953</td>\n      <td>1.919992</td>\n      <td>2.000017</td>\n      <td>2.093024</td>\n      <td>2.204701</td>\n      <td>2.345648</td>\n      <td>2.539483</td>\n      <td>2.860935</td>\n    </tr>\n    <tr>\n      <th>20</th>\n      <td>1.724718</td>\n      <td>1.78164</td>\n      <td>1.844331</td>\n      <td>1.914292</td>\n      <td>1.993713</td>\n      <td>2.085963</td>\n      <td>2.196658</td>\n      <td>2.336242</td>\n      <td>2.527977</td>\n      <td>2.84534</td>\n    </tr>\n    <tr>\n      <th>21</th>\n      <td>1.720743</td>\n      <td>1.777339</td>\n      <td>1.839651</td>\n      <td>1.909164</td>\n      <td>1.988041</td>\n      <td>2.079614</td>\n      <td>2.189427</td>\n      <td>2.327792</td>\n      <td>2.517648</td>\n      <td>2.83136</td>\n    </tr>\n    <tr>\n      <th>22</th>\n      <td>1.717144</td>\n      <td>1.773447</td>\n      <td>1.835417</td>\n      <td>1.904524</td>\n      <td>1.982911</td>\n      <td>2.073873</td>\n      <td>2.182893</td>\n      <td>2.32016</td>\n      <td>2.508325</td>\n      <td>2.818756</td>\n    </tr>\n    <tr>\n      <th>23</th>\n      <td>1.713872</td>\n      <td>1.769907</td>\n      <td>1.831567</td>\n      <td>1.900307</td>\n      <td>1.978249</td>\n      <td>2.068658</td>\n      <td>2.176958</td>\n      <td>2.313231</td>\n      <td>2.499867</td>\n      <td>2.807336</td>\n    </tr>\n    <tr>\n      <th>24</th>\n      <td>1.710882</td>\n      <td>1.766675</td>\n      <td>1.828051</td>\n      <td>1.896457</td>\n      <td>1.973994</td>\n      <td>2.063899</td>\n      <td>2.171545</td>\n      <td>2.306913</td>\n      <td>2.492159</td>\n      <td>2.79694</td>\n    </tr>\n    <tr>\n      <th>25</th>\n      <td>1.708141</td>\n      <td>1.763711</td>\n      <td>1.824828</td>\n      <td>1.892928</td>\n      <td>1.970095</td>\n      <td>2.059539</td>\n      <td>2.166587</td>\n      <td>2.30113</td>\n      <td>2.485107</td>\n      <td>2.787436</td>\n    </tr>\n    <tr>\n      <th>26</th>\n      <td>1.705618</td>\n      <td>1.760983</td>\n      <td>1.821863</td>\n      <td>1.889682</td>\n      <td>1.966509</td>\n      <td>2.055529</td>\n      <td>2.162029</td>\n      <td>2.295815</td>\n      <td>2.47863</td>\n      <td>2.778715</td>\n    </tr>\n    <tr>\n      <th>27</th>\n      <td>1.703288</td>\n      <td>1.758466</td>\n      <td>1.819126</td>\n      <td>1.886686</td>\n      <td>1.9632</td>\n      <td>2.051831</td>\n      <td>2.157825</td>\n      <td>2.290914</td>\n      <td>2.47266</td>\n      <td>2.770683</td>\n    </tr>\n    <tr>\n      <th>28</th>\n      <td>1.701131</td>\n      <td>1.756134</td>\n      <td>1.816592</td>\n      <td>1.883912</td>\n      <td>1.960136</td>\n      <td>2.048407</td>\n      <td>2.153935</td>\n      <td>2.28638</td>\n      <td>2.46714</td>\n      <td>2.763262</td>\n    </tr>\n    <tr>\n      <th>29</th>\n      <td>1.699127</td>\n      <td>1.753968</td>\n      <td>1.814238</td>\n      <td>1.881336</td>\n      <td>1.957293</td>\n      <td>2.04523</td>\n      <td>2.150325</td>\n      <td>2.282175</td>\n      <td>2.462021</td>\n      <td>2.756386</td>\n    </tr>\n  </tbody>\n</table>\n</div>"
     },
     "execution_count": 32,
     "metadata": {},
     "output_type": "execute_result"
    }
   ],
   "source": [
    "import pandas as pd\n",
    "from scipy.stats import t as t_student\n",
    "\n",
    "tabela_t_student = pd.DataFrame(\n",
    "    [],\n",
    "    index=[i for i in range(1, 30)],\n",
    "    columns=[i / 100 for i in range(10, 0, -1)]\n",
    ")\n",
    "\n",
    "for index in tabela_t_student.index:\n",
    "    for column in tabela_t_student.columns:\n",
    "        tabela_t_student.loc[index, column] = t_student.ppf(1 - float(column) / 2, index)\n",
    "\n",
    "index = [(\"Graus de Liberdade (n - 1)\", i) for i in range(1, 30)]\n",
    "tabela_t_student.index = pd.MultiIndex.from_tuples(index)\n",
    "\n",
    "columns = [(f\"{i / 100:0.3f}\", f\"{(i / 100) / 2:0.3f}\") for i in range(10, 0, -1)]\n",
    "tabela_t_student.columns = pd.MultiIndex.from_tuples(columns)\n",
    "\n",
    "tabela_t_student.rename_axis([\"Bicaudal\", \"Unicaudal\"], axis=1, inplace=True)\n",
    "\n",
    "tabela_t_student"
   ]
  },
  {
   "cell_type": "markdown",
   "metadata": {
    "id": "MbVu6FdNpsk0",
    "pycharm": {
     "name": "#%% md\n"
    }
   },
   "source": [
    "<img src='https://caelum-online-public.s3.amazonaws.com/1229-estatistica-parte3/01/img004.png' width='250px'>\n",
    "\n",
    "As células da tabela acima são valores de $t$ para uma área ou probabilidade na cauda superior da distribuição $t$."
   ]
  },
  {
   "cell_type": "markdown",
   "metadata": {
    "id": "UXM3qdYUpsk0",
    "pycharm": {
     "name": "#%% md\n"
    }
   },
   "source": [
    "---"
   ]
  },
  {
   "cell_type": "markdown",
   "metadata": {
    "id": "dDbUKs7-psk0",
    "pycharm": {
     "name": "#%% md\n"
    }
   },
   "source": [
    "Os **testes unicaudais** verificam as variáveis em relação a um piso ou a um teto e avaliam os valores máximos ou mínimos esperados para os parâmetros em estudo e a chance de as estatísticas amostrais serem inferiores ou superiores a dado limite."
   ]
  },
  {
   "cell_type": "markdown",
   "metadata": {
    "id": "AvnFJnUrpsk1",
    "pycharm": {
     "name": "#%% md\n"
    }
   },
   "source": [
    "<img src='https://caelum-online-public.s3.amazonaws.com/1229-estatistica-parte3/01/img008.png' width='700px'>"
   ]
  },
  {
   "cell_type": "markdown",
   "metadata": {
    "id": "IgDg23Xppsk1",
    "pycharm": {
     "name": "#%% md\n"
    }
   },
   "source": [
    "### Dados do problema"
   ]
  },
  {
   "cell_type": "code",
   "execution_count": 33,
   "metadata": {
    "id": "IKvYICfEpsk2",
    "pycharm": {
     "name": "#%%\n"
    }
   },
   "outputs": [],
   "source": [
    "amostra = [37.27, 36.42, 34.84, 34.60, 37.49,\n",
    "           36.53, 35.49, 36.90, 34.52, 37.30,\n",
    "           34.99, 36.55, 36.29, 36.06, 37.42,\n",
    "           34.47, 36.70, 35.86, 36.80, 36.92,\n",
    "           37.04, 36.39, 37.32, 36.64, 35.45]"
   ]
  },
  {
   "cell_type": "code",
   "execution_count": 34,
   "metadata": {
    "colab": {
     "base_uri": "https://localhost:8080/",
     "height": 833
    },
    "id": "CBuciT30psk3",
    "outputId": "131c8d57-adeb-46cb-ff0f-f93b45cf859e",
    "scrolled": false,
    "pycharm": {
     "name": "#%%\n"
    }
   },
   "outputs": [
    {
     "data": {
      "text/plain": "    Amostra\n0     37.27\n1     36.42\n2     34.84\n3     34.60\n4     37.49\n5     36.53\n6     35.49\n7     36.90\n8     34.52\n9     37.30\n10    34.99\n11    36.55\n12    36.29\n13    36.06\n14    37.42\n15    34.47\n16    36.70\n17    35.86\n18    36.80\n19    36.92\n20    37.04\n21    36.39\n22    37.32\n23    36.64\n24    35.45",
      "text/html": "<div>\n<style scoped>\n    .dataframe tbody tr th:only-of-type {\n        vertical-align: middle;\n    }\n\n    .dataframe tbody tr th {\n        vertical-align: top;\n    }\n\n    .dataframe thead th {\n        text-align: right;\n    }\n</style>\n<table border=\"1\" class=\"dataframe\">\n  <thead>\n    <tr style=\"text-align: right;\">\n      <th></th>\n      <th>Amostra</th>\n    </tr>\n  </thead>\n  <tbody>\n    <tr>\n      <th>0</th>\n      <td>37.27</td>\n    </tr>\n    <tr>\n      <th>1</th>\n      <td>36.42</td>\n    </tr>\n    <tr>\n      <th>2</th>\n      <td>34.84</td>\n    </tr>\n    <tr>\n      <th>3</th>\n      <td>34.60</td>\n    </tr>\n    <tr>\n      <th>4</th>\n      <td>37.49</td>\n    </tr>\n    <tr>\n      <th>5</th>\n      <td>36.53</td>\n    </tr>\n    <tr>\n      <th>6</th>\n      <td>35.49</td>\n    </tr>\n    <tr>\n      <th>7</th>\n      <td>36.90</td>\n    </tr>\n    <tr>\n      <th>8</th>\n      <td>34.52</td>\n    </tr>\n    <tr>\n      <th>9</th>\n      <td>37.30</td>\n    </tr>\n    <tr>\n      <th>10</th>\n      <td>34.99</td>\n    </tr>\n    <tr>\n      <th>11</th>\n      <td>36.55</td>\n    </tr>\n    <tr>\n      <th>12</th>\n      <td>36.29</td>\n    </tr>\n    <tr>\n      <th>13</th>\n      <td>36.06</td>\n    </tr>\n    <tr>\n      <th>14</th>\n      <td>37.42</td>\n    </tr>\n    <tr>\n      <th>15</th>\n      <td>34.47</td>\n    </tr>\n    <tr>\n      <th>16</th>\n      <td>36.70</td>\n    </tr>\n    <tr>\n      <th>17</th>\n      <td>35.86</td>\n    </tr>\n    <tr>\n      <th>18</th>\n      <td>36.80</td>\n    </tr>\n    <tr>\n      <th>19</th>\n      <td>36.92</td>\n    </tr>\n    <tr>\n      <th>20</th>\n      <td>37.04</td>\n    </tr>\n    <tr>\n      <th>21</th>\n      <td>36.39</td>\n    </tr>\n    <tr>\n      <th>22</th>\n      <td>37.32</td>\n    </tr>\n    <tr>\n      <th>23</th>\n      <td>36.64</td>\n    </tr>\n    <tr>\n      <th>24</th>\n      <td>35.45</td>\n    </tr>\n  </tbody>\n</table>\n</div>"
     },
     "execution_count": 34,
     "metadata": {},
     "output_type": "execute_result"
    }
   ],
   "source": [
    "amostra = pd.DataFrame(amostra, columns=[\"Amostra\"])\n",
    "amostra"
   ]
  },
  {
   "cell_type": "code",
   "execution_count": 35,
   "metadata": {
    "colab": {
     "base_uri": "https://localhost:8080/"
    },
    "id": "79TBzFsdpsk4",
    "outputId": "e8e39240-fe47-4ecb-b1bc-f70645b865fa",
    "pycharm": {
     "name": "#%%\n"
    }
   },
   "outputs": [
    {
     "data": {
      "text/plain": "36.250400000000006"
     },
     "execution_count": 35,
     "metadata": {},
     "output_type": "execute_result"
    }
   ],
   "source": [
    "media_amostra = amostra.mean()[0]\n",
    "media_amostra"
   ]
  },
  {
   "cell_type": "code",
   "execution_count": 36,
   "metadata": {
    "colab": {
     "base_uri": "https://localhost:8080/"
    },
    "id": "S82xbyghpsk6",
    "outputId": "49eddc39-0926-436f-c529-2cdb80812e45",
    "scrolled": true,
    "pycharm": {
     "name": "#%%\n"
    }
   },
   "outputs": [
    {
     "data": {
      "text/plain": "0.9667535018469453"
     },
     "execution_count": 36,
     "metadata": {},
     "output_type": "execute_result"
    }
   ],
   "source": [
    "desvio_padrao_amostra = amostra.std()[0]\n",
    "desvio_padrao_amostra"
   ]
  },
  {
   "cell_type": "code",
   "execution_count": 37,
   "metadata": {
    "id": "mvtiwLUWpsk8",
    "pycharm": {
     "name": "#%%\n"
    }
   },
   "outputs": [],
   "source": [
    "media = 37\n",
    "significancia = 0.05\n",
    "confianca = 1 - significancia\n",
    "n = 25\n",
    "graus_de_liberdade = n - 1"
   ]
  },
  {
   "cell_type": "markdown",
   "metadata": {
    "id": "rpLOiPU2psk9",
    "pycharm": {
     "name": "#%% md\n"
    }
   },
   "source": [
    "### **Passo 1** - formulação das hipóteses $H_0$ e $H_1$"
   ]
  },
  {
   "cell_type": "markdown",
   "metadata": {
    "id": "iMBi2jUfsc4s",
    "pycharm": {
     "name": "#%% md\n"
    }
   },
   "source": [
    "\n",
    "#### <font color='red'>Lembre-se, a hipótese nula sempre contém a alegação de igualdade</font>"
   ]
  },
  {
   "cell_type": "markdown",
   "metadata": {
    "id": "8roeH10fpsk-",
    "pycharm": {
     "name": "#%% md\n"
    }
   },
   "source": [
    "### $H_0: \\mu \\leq 37$\n",
    "\n",
    "### $H_1: \\mu > 37$"
   ]
  },
  {
   "cell_type": "markdown",
   "metadata": {
    "id": "uqE6JXGspsk-",
    "pycharm": {
     "name": "#%% md\n"
    }
   },
   "source": [
    "---"
   ]
  },
  {
   "cell_type": "markdown",
   "metadata": {
    "id": "XsOkFtncpsk_",
    "pycharm": {
     "name": "#%% md\n"
    }
   },
   "source": [
    "### **Passo 2** - escolha da distribuição amostral adequada\n",
    "<img src='https://caelum-online-public.s3.amazonaws.com/1229-estatistica-parte3/01/img003.png' width=70%>"
   ]
  },
  {
   "cell_type": "markdown",
   "metadata": {
    "id": "jpXjRqO2psk_",
    "pycharm": {
     "name": "#%% md\n"
    }
   },
   "source": [
    "### O tamanho da amostra é maior que 30?\n",
    "#### Resp.: Não\n",
    "\n",
    "### Podemos afirmar que a população se distribui aproximadamente como uma normal?\n",
    "#### Resp.: Sim\n",
    "\n",
    "### O desvio padrão populacional é conhecido?\n",
    "#### Resp.: Não"
   ]
  },
  {
   "cell_type": "markdown",
   "metadata": {
    "id": "J14v2aXOpslA",
    "pycharm": {
     "name": "#%% md\n"
    }
   },
   "source": [
    "---"
   ]
  },
  {
   "cell_type": "markdown",
   "metadata": {
    "id": "DQvwhQWnpslA",
    "pycharm": {
     "name": "#%% md\n"
    }
   },
   "source": [
    "### **Passo 3** - fixação da significância do teste ($\\alpha$)"
   ]
  },
  {
   "cell_type": "markdown",
   "metadata": {
    "id": "Qaxh6lsapslB",
    "pycharm": {
     "name": "#%% md\n"
    }
   },
   "source": [
    "https://docs.scipy.org/doc/scipy/reference/generated/scipy.stats.t.html"
   ]
  },
  {
   "cell_type": "code",
   "execution_count": 38,
   "metadata": {
    "id": "-WhDZiRopslC",
    "pycharm": {
     "name": "#%%\n"
    }
   },
   "outputs": [],
   "source": [
    "from scipy.stats import t as t_student"
   ]
  },
  {
   "cell_type": "code",
   "execution_count": 39,
   "metadata": {
    "colab": {
     "base_uri": "https://localhost:8080/",
     "height": 175
    },
    "id": "12t8QJMzpslD",
    "outputId": "1d550da9-5ac3-4667-e13d-ba861c5cee2c",
    "scrolled": true,
    "pycharm": {
     "name": "#%%\n"
    }
   },
   "outputs": [
    {
     "data": {
      "text/plain": "Bicaudal                          0.100     0.090     0.080     0.070  \\\nUnicaudal                         0.050     0.045     0.040     0.035   \nGraus de Liberdade (n - 1) 23  1.713872  1.769907  1.831567  1.900307   \n                           24  1.710882  1.766675  1.828051  1.896457   \n                           25  1.708141  1.763711  1.824828  1.892928   \n\nBicaudal                          0.060     0.050     0.040     0.030  \\\nUnicaudal                         0.030     0.025     0.020     0.015   \nGraus de Liberdade (n - 1) 23  1.978249  2.068658  2.176958  2.313231   \n                           24  1.973994  2.063899  2.171545  2.306913   \n                           25  1.970095  2.059539  2.166587   2.30113   \n\nBicaudal                          0.020     0.010  \nUnicaudal                         0.010     0.005  \nGraus de Liberdade (n - 1) 23  2.499867  2.807336  \n                           24  2.492159   2.79694  \n                           25  2.485107  2.787436  ",
      "text/html": "<div>\n<style scoped>\n    .dataframe tbody tr th:only-of-type {\n        vertical-align: middle;\n    }\n\n    .dataframe tbody tr th {\n        vertical-align: top;\n    }\n\n    .dataframe thead tr th {\n        text-align: left;\n    }\n</style>\n<table border=\"1\" class=\"dataframe\">\n  <thead>\n    <tr>\n      <th></th>\n      <th>Bicaudal</th>\n      <th>0.100</th>\n      <th>0.090</th>\n      <th>0.080</th>\n      <th>0.070</th>\n      <th>0.060</th>\n      <th>0.050</th>\n      <th>0.040</th>\n      <th>0.030</th>\n      <th>0.020</th>\n      <th>0.010</th>\n    </tr>\n    <tr>\n      <th></th>\n      <th>Unicaudal</th>\n      <th>0.050</th>\n      <th>0.045</th>\n      <th>0.040</th>\n      <th>0.035</th>\n      <th>0.030</th>\n      <th>0.025</th>\n      <th>0.020</th>\n      <th>0.015</th>\n      <th>0.010</th>\n      <th>0.005</th>\n    </tr>\n  </thead>\n  <tbody>\n    <tr>\n      <th rowspan=\"3\" valign=\"top\">Graus de Liberdade (n - 1)</th>\n      <th>23</th>\n      <td>1.713872</td>\n      <td>1.769907</td>\n      <td>1.831567</td>\n      <td>1.900307</td>\n      <td>1.978249</td>\n      <td>2.068658</td>\n      <td>2.176958</td>\n      <td>2.313231</td>\n      <td>2.499867</td>\n      <td>2.807336</td>\n    </tr>\n    <tr>\n      <th>24</th>\n      <td>1.710882</td>\n      <td>1.766675</td>\n      <td>1.828051</td>\n      <td>1.896457</td>\n      <td>1.973994</td>\n      <td>2.063899</td>\n      <td>2.171545</td>\n      <td>2.306913</td>\n      <td>2.492159</td>\n      <td>2.79694</td>\n    </tr>\n    <tr>\n      <th>25</th>\n      <td>1.708141</td>\n      <td>1.763711</td>\n      <td>1.824828</td>\n      <td>1.892928</td>\n      <td>1.970095</td>\n      <td>2.059539</td>\n      <td>2.166587</td>\n      <td>2.30113</td>\n      <td>2.485107</td>\n      <td>2.787436</td>\n    </tr>\n  </tbody>\n</table>\n</div>"
     },
     "execution_count": 39,
     "metadata": {},
     "output_type": "execute_result"
    }
   ],
   "source": [
    "tabela_t_student[22:25]"
   ]
  },
  {
   "cell_type": "markdown",
   "metadata": {
    "id": "Brk3cI1npslE",
    "pycharm": {
     "name": "#%% md\n"
    }
   },
   "source": [
    "### Obtendo $t_{\\alpha}$"
   ]
  },
  {
   "cell_type": "code",
   "execution_count": 40,
   "metadata": {
    "colab": {
     "base_uri": "https://localhost:8080/"
    },
    "id": "xXi0eYGYpslF",
    "outputId": "95b64a7d-de31-45a2-cad4-0de74528bc9a",
    "pycharm": {
     "name": "#%%\n"
    }
   },
   "outputs": [
    {
     "data": {
      "text/plain": "1.7108820799094275"
     },
     "execution_count": 40,
     "metadata": {},
     "output_type": "execute_result"
    }
   ],
   "source": [
    "t_alpha = t_student.ppf(confianca, graus_de_liberdade)\n",
    "t_alpha"
   ]
  },
  {
   "cell_type": "markdown",
   "metadata": {
    "id": "xMnBzjxLpslH",
    "pycharm": {
     "name": "#%% md\n"
    }
   },
   "source": [
    "![Região de Aceitação](https://caelum-online-public.s3.amazonaws.com/1229-estatistica-parte3/01/img009.png)"
   ]
  },
  {
   "cell_type": "markdown",
   "metadata": {
    "id": "Azy_uNSGpslI",
    "pycharm": {
     "name": "#%% md\n"
    }
   },
   "source": [
    "---"
   ]
  },
  {
   "cell_type": "markdown",
   "metadata": {
    "id": "YN4weG-1pslI",
    "pycharm": {
     "name": "#%% md\n"
    }
   },
   "source": [
    "### **Passo 4** - cálculo da estatística-teste e verificação desse valor com as áreas de aceitação e rejeição do teste\n",
    "\n",
    "# $$t = \\frac{\\bar{x} - \\mu_0}{\\frac{s}{\\sqrt{n}}}$$"
   ]
  },
  {
   "cell_type": "code",
   "execution_count": 41,
   "metadata": {
    "colab": {
     "base_uri": "https://localhost:8080/"
    },
    "id": "qY0DfIffpslI",
    "outputId": "4ef584ba-e8d5-45bc-8301-363626488009",
    "pycharm": {
     "name": "#%%\n"
    }
   },
   "outputs": [
    {
     "data": {
      "text/plain": "-3.876893119952045"
     },
     "execution_count": 41,
     "metadata": {},
     "output_type": "execute_result"
    }
   ],
   "source": [
    "t = (media_amostra - media) / (desvio_padrao_amostra / np.sqrt(n))\n",
    "t"
   ]
  },
  {
   "cell_type": "markdown",
   "metadata": {
    "id": "SCIchVxNpslK",
    "pycharm": {
     "name": "#%% md\n"
    }
   },
   "source": [
    "![Estatística-Teste](https://caelum-online-public.s3.amazonaws.com/1229-estatistica-parte3/01/img010.png)"
   ]
  },
  {
   "cell_type": "markdown",
   "metadata": {
    "id": "NiheMfTopslK",
    "pycharm": {
     "name": "#%% md\n"
    }
   },
   "source": [
    "---"
   ]
  },
  {
   "cell_type": "markdown",
   "metadata": {
    "id": "YCsJySBGpslK",
    "pycharm": {
     "name": "#%% md\n"
    }
   },
   "source": [
    "### **Passo 5** - Aceitação ou rejeição da hipótese nula"
   ]
  },
  {
   "cell_type": "markdown",
   "metadata": {
    "id": "ioLyTpbWpslL",
    "pycharm": {
     "name": "#%% md\n"
    }
   },
   "source": [
    "<img src='https://caelum-online-public.s3.amazonaws.com/1229-estatistica-parte3/01/img013.png' width=90%>"
   ]
  },
  {
   "cell_type": "markdown",
   "metadata": {
    "id": "TQcuPzbPpslL",
    "pycharm": {
     "name": "#%% md\n"
    }
   },
   "source": [
    "### <font color='red'>Critério do valor crítico</font>\n",
    "\n",
    "> ### Teste Unicaudal Superior\n",
    "> ### Rejeitar $H_0$ se $t \\geq t_{\\alpha}$"
   ]
  },
  {
   "cell_type": "code",
   "execution_count": 42,
   "outputs": [
    {
     "data": {
      "text/plain": "False"
     },
     "execution_count": 42,
     "metadata": {},
     "output_type": "execute_result"
    }
   ],
   "source": [
    "t >= t_alpha # se a hipótese nula sempre contém a hipótese de igualdade,\n",
    "             # não seria maior em vez de maior ou igual?"
   ],
   "metadata": {
    "collapsed": false,
    "pycharm": {
     "name": "#%%\n"
    }
   }
  },
  {
   "cell_type": "markdown",
   "source": [
    "### <font color='green'>Conclusão: Com um nível de confiança de 95% não podemos rejeitar $H_0$, ou seja, a alegação do fabricante é verdadeira.</font>"
   ],
   "metadata": {
    "collapsed": false,
    "pycharm": {
     "name": "#%% md\n"
    }
   }
  },
  {
   "cell_type": "markdown",
   "source": [
    "### <font color='red'>Critério do valor $p$</font>\n",
    "\n",
    "> ### Teste Unicaudal Superior\n",
    "> ### Rejeitar $H_0$ se o valor $p\\leq\\alpha$"
   ],
   "metadata": {
    "collapsed": false,
    "pycharm": {
     "name": "#%% md\n"
    }
   }
  },
  {
   "cell_type": "code",
   "execution_count": 43,
   "outputs": [
    {
     "data": {
      "text/plain": "-3.876893119952045"
     },
     "execution_count": 43,
     "metadata": {},
     "output_type": "execute_result"
    }
   ],
   "source": [
    "t"
   ],
   "metadata": {
    "collapsed": false,
    "pycharm": {
     "name": "#%%\n"
    }
   }
  },
  {
   "cell_type": "code",
   "execution_count": 44,
   "outputs": [
    {
     "data": {
      "text/plain": "0.999640617030382"
     },
     "execution_count": 44,
     "metadata": {},
     "output_type": "execute_result"
    }
   ],
   "source": [
    "p_valor = t_student.sf(t, df=graus_de_liberdade)\n",
    "p_valor"
   ],
   "metadata": {
    "collapsed": false,
    "pycharm": {
     "name": "#%%\n"
    }
   }
  },
  {
   "cell_type": "code",
   "execution_count": 45,
   "outputs": [
    {
     "data": {
      "text/plain": "False"
     },
     "execution_count": 45,
     "metadata": {},
     "output_type": "execute_result"
    }
   ],
   "source": [
    "p_valor <= significancia"
   ],
   "metadata": {
    "collapsed": false,
    "pycharm": {
     "name": "#%%\n"
    }
   }
  },
  {
   "cell_type": "markdown",
   "source": [
    "https://www.statsmodels.org/dev/generated/statsmodels.stats.weightstats.DescrStatsW.html"
   ],
   "metadata": {
    "collapsed": false,
    "pycharm": {
     "name": "#%% md\n"
    }
   }
  },
  {
   "cell_type": "code",
   "execution_count": 46,
   "outputs": [],
   "source": [
    "from statsmodels.stats.weightstats import DescrStatsW"
   ],
   "metadata": {
    "collapsed": false,
    "pycharm": {
     "name": "#%%\n"
    }
   }
  },
  {
   "cell_type": "code",
   "execution_count": 47,
   "outputs": [],
   "source": [
    "test = DescrStatsW(amostra)"
   ],
   "metadata": {
    "collapsed": false,
    "pycharm": {
     "name": "#%%\n"
    }
   }
  },
  {
   "cell_type": "code",
   "execution_count": 48,
   "outputs": [
    {
     "name": "stdout",
     "output_type": "stream",
     "text": [
      "-3.87689311995208\n",
      "0.9996406170303819\n",
      "24.0\n"
     ]
    }
   ],
   "source": [
    "t, p_valor, df = test.ttest_mean(value=media, alternative=\"larger\")\n",
    "print(t[0])\n",
    "print(p_valor[0])\n",
    "print(df)"
   ],
   "metadata": {
    "collapsed": false,
    "pycharm": {
     "name": "#%%\n"
    }
   }
  },
  {
   "cell_type": "code",
   "execution_count": 49,
   "outputs": [
    {
     "data": {
      "text/plain": "False"
     },
     "execution_count": 49,
     "metadata": {},
     "output_type": "execute_result"
    }
   ],
   "source": [
    "p_valor[0] <= significancia"
   ],
   "metadata": {
    "collapsed": false,
    "pycharm": {
     "name": "#%%\n"
    }
   }
  },
  {
   "cell_type": "markdown",
   "source": [
    "---"
   ],
   "metadata": {
    "collapsed": false,
    "pycharm": {
     "name": "#%% md\n"
    }
   }
  },
  {
   "cell_type": "markdown",
   "source": [
    "## <font color=green>3.4 Testes para Duas Amostras</font>\n",
    "***"
   ],
   "metadata": {
    "collapsed": false,
    "pycharm": {
     "name": "#%% md\n"
    }
   }
  },
  {
   "cell_type": "markdown",
   "source": [
    "## <font color='red'>Problema</font>"
   ],
   "metadata": {
    "collapsed": false,
    "pycharm": {
     "name": "#%% md\n"
    }
   }
  },
  {
   "cell_type": "markdown",
   "source": [
    "Em nosso dataset temos os rendimento dos chefes de domicílio obtidos da Pesquisa Nacional por Amostra de Domicílios - PNAD no ano de 2015. Um problema bastante conhecido em nosso país diz respeito a desigualdade de renda, principalmente entre homens e mulheres.\n",
    "\n",
    "Duas amostras aleatórias, uma de **500 homens** e outra com **500 mulheres**, foram selecionadas em nosso dataset. Com o objetivo de comprovar tal desigualdade, **teste a igualdade das médias** entre estas duas amostras com um nível de **significância de 1%**."
   ],
   "metadata": {
    "collapsed": false,
    "pycharm": {
     "name": "#%% md\n"
    }
   }
  },
  {
   "cell_type": "markdown",
   "source": [
    "---"
   ],
   "metadata": {
    "collapsed": false,
    "pycharm": {
     "name": "#%% md\n"
    }
   }
  },
  {
   "cell_type": "markdown",
   "source": [
    "É possível também utilizar testes de hipóteses para comparar duas diferentes amostras. Neste tipo de teste se deseja decidir se uma amostra é diferente da outra."
   ],
   "metadata": {
    "collapsed": false,
    "pycharm": {
     "name": "#%% md\n"
    }
   }
  },
  {
   "cell_type": "markdown",
   "source": [
    "### Seleção das amostras"
   ],
   "metadata": {
    "collapsed": false,
    "pycharm": {
     "name": "#%% md\n"
    }
   }
  },
  {
   "cell_type": "code",
   "execution_count": 50,
   "outputs": [
    {
     "data": {
      "text/plain": "26241     300\n65579    1000\n58984    4000\n65931    5000\n25501     300\n         ... \n25494     220\n1452      600\n29454     788\n5289     1750\n54618    7000\nName: Renda, Length: 500, dtype: int64"
     },
     "execution_count": 50,
     "metadata": {},
     "output_type": "execute_result"
    }
   ],
   "source": [
    "n_h = 500\n",
    "homens = dados.query(\"Sexo == 0\").sample(n=n_h, random_state=101).Renda\n",
    "homens"
   ],
   "metadata": {
    "collapsed": false,
    "pycharm": {
     "name": "#%%\n"
    }
   }
  },
  {
   "cell_type": "code",
   "execution_count": 51,
   "outputs": [
    {
     "data": {
      "text/plain": "10179     788\n43943    1200\n75223    6000\n33243    1000\n5189      788\n         ... \n7383     1000\n70775     400\n56737    2000\n35947     200\n47913    1600\nName: Renda, Length: 500, dtype: int64"
     },
     "execution_count": 51,
     "metadata": {},
     "output_type": "execute_result"
    }
   ],
   "source": [
    "n_m = 500\n",
    "mulheres = dados.query(\"Sexo == 1\").Renda.sample(n=n_m, random_state=101)\n",
    "mulheres"
   ],
   "metadata": {
    "collapsed": false,
    "pycharm": {
     "name": "#%%\n"
    }
   }
  },
  {
   "cell_type": "markdown",
   "source": [
    "### Dados do problema"
   ],
   "metadata": {
    "collapsed": false,
    "pycharm": {
     "name": "#%% md\n"
    }
   }
  },
  {
   "cell_type": "code",
   "execution_count": 52,
   "outputs": [
    {
     "data": {
      "text/plain": "2142.608"
     },
     "execution_count": 52,
     "metadata": {},
     "output_type": "execute_result"
    }
   ],
   "source": [
    "media_amostra_h = homens.mean()\n",
    "media_amostra_h"
   ],
   "metadata": {
    "collapsed": false,
    "pycharm": {
     "name": "#%%\n"
    }
   }
  },
  {
   "cell_type": "code",
   "execution_count": 53,
   "outputs": [
    {
     "data": {
      "text/plain": "2548.050802499875"
     },
     "execution_count": 53,
     "metadata": {},
     "output_type": "execute_result"
    }
   ],
   "source": [
    "desvio_padrao_amostra_h = homens.std()\n",
    "desvio_padrao_amostra_h"
   ],
   "metadata": {
    "collapsed": false,
    "pycharm": {
     "name": "#%%\n"
    }
   }
  },
  {
   "cell_type": "code",
   "execution_count": 54,
   "outputs": [
    {
     "data": {
      "text/plain": "1357.528"
     },
     "execution_count": 54,
     "metadata": {},
     "output_type": "execute_result"
    }
   ],
   "source": [
    "media_amostra_m = mulheres.mean()\n",
    "media_amostra_m"
   ],
   "metadata": {
    "collapsed": false,
    "pycharm": {
     "name": "#%%\n"
    }
   }
  },
  {
   "cell_type": "code",
   "execution_count": 55,
   "outputs": [
    {
     "data": {
      "text/plain": "1569.9011907484578"
     },
     "execution_count": 55,
     "metadata": {},
     "output_type": "execute_result"
    }
   ],
   "source": [
    "desvio_padrao_amostra_m = mulheres.std()\n",
    "desvio_padrao_amostra_m"
   ],
   "metadata": {
    "collapsed": false,
    "pycharm": {
     "name": "#%%\n"
    }
   }
  },
  {
   "cell_type": "code",
   "execution_count": 56,
   "outputs": [],
   "source": [
    "significancia = 0.01\n",
    "confianca = 1 - significancia\n",
    "d_0 = 0 # diferença entre as médias a serem testadas"
   ],
   "metadata": {
    "collapsed": false,
    "pycharm": {
     "name": "#%%\n"
    }
   }
  },
  {
   "cell_type": "markdown",
   "source": [
    "---"
   ],
   "metadata": {
    "collapsed": false,
    "pycharm": {
     "name": "#%% md\n"
    }
   }
  },
  {
   "cell_type": "markdown",
   "source": [
    "### **Passo 1** - formulação das hipóteses $H_0$ e $H_1$\n",
    "\n",
    "#### <font color='red'>Lembre-se, a hipótese nula sempre contém a alegação de igualdade</font>"
   ],
   "metadata": {
    "collapsed": false,
    "pycharm": {
     "name": "#%% md\n"
    }
   }
  },
  {
   "cell_type": "markdown",
   "source": [
    "### $\\mu_1 \\Rightarrow$ Média das rendas dos chefes de domicílios do sexo masculino\n",
    "### $\\mu_2 \\Rightarrow$ Média das rendas dos chefes de domicílios do sexo feminino\n",
    "\n",
    "### $\n",
    "\\begin{cases}\n",
    "H_0: \\mu_1 \\leq \\mu_2\\\\\n",
    "H_1: \\mu_1 > \\mu_2\n",
    "\\end{cases}\n",
    "$\n",
    "\n",
    "### ou\n",
    "\n",
    "### $\n",
    "\\begin{cases}\n",
    "H_0: \\mu_1 -\\mu_2 \\leq 0\\\\\n",
    "H_1: \\mu_1 -\\mu_2 > 0\n",
    "\\end{cases}\n",
    "$"
   ],
   "metadata": {
    "collapsed": false,
    "pycharm": {
     "name": "#%% md\n"
    }
   }
  },
  {
   "cell_type": "markdown",
   "source": [
    "---"
   ],
   "metadata": {
    "collapsed": false,
    "pycharm": {
     "name": "#%% md\n"
    }
   }
  },
  {
   "cell_type": "markdown",
   "source": [
    "### O tamanho da amostra é maior que 30?\n",
    "#### Resp.: Sim\n",
    "\n",
    "### O desvio padrão populacional é conhecido?\n",
    "#### Resp.: Não"
   ],
   "metadata": {
    "collapsed": false,
    "pycharm": {
     "name": "#%% md\n"
    }
   }
  },
  {
   "cell_type": "markdown",
   "source": [
    "---"
   ],
   "metadata": {
    "collapsed": false,
    "pycharm": {
     "name": "#%% md\n"
    }
   }
  },
  {
   "cell_type": "markdown",
   "source": [
    "### **Passo 3** - fixação da significância do teste ($\\alpha$)"
   ],
   "metadata": {
    "collapsed": false,
    "pycharm": {
     "name": "#%% md\n"
    }
   }
  },
  {
   "cell_type": "code",
   "execution_count": 57,
   "outputs": [
    {
     "data": {
      "text/plain": "0.99"
     },
     "execution_count": 57,
     "metadata": {},
     "output_type": "execute_result"
    }
   ],
   "source": [
    "probabilidade = confianca\n",
    "probabilidade"
   ],
   "metadata": {
    "collapsed": false,
    "pycharm": {
     "name": "#%%\n"
    }
   }
  },
  {
   "cell_type": "code",
   "execution_count": 58,
   "outputs": [
    {
     "data": {
      "text/plain": "2.33"
     },
     "execution_count": 58,
     "metadata": {},
     "output_type": "execute_result"
    }
   ],
   "source": [
    "z_alpha = norm.ppf(probabilidade)\n",
    "z_alpha.round(2)"
   ],
   "metadata": {
    "collapsed": false,
    "pycharm": {
     "name": "#%%\n"
    }
   }
  },
  {
   "cell_type": "markdown",
   "source": [
    "![Região de Aceitação](https://caelum-online-public.s3.amazonaws.com/1229-estatistica-parte3/01/img011.png)"
   ],
   "metadata": {
    "collapsed": false,
    "pycharm": {
     "name": "#%% md\n"
    }
   }
  },
  {
   "cell_type": "markdown",
   "source": [
    "---"
   ],
   "metadata": {
    "collapsed": false,
    "pycharm": {
     "name": "#%% md\n"
    }
   }
  },
  {
   "cell_type": "markdown",
   "source": [
    "### **Passo 2** - escolha da distribuição amostral adequada\n",
    "<img src='https://caelum-online-public.s3.amazonaws.com/1229-estatistica-parte3/01/img003.png' width=70%>\n",
    "\n",
    "### <font color='red'>Observação importante</font>\n",
    "> Em testes que envolvam duas amostras com o emprego da tabela $t$ de Student, o número de graus de liberdade será sempre igual a $n_1 + n_2 - 2$"
   ],
   "metadata": {
    "collapsed": false,
    "pycharm": {
     "name": "#%% md\n"
    }
   }
  },
  {
   "cell_type": "markdown",
   "source": [
    "### **Passo 4** - cálculo da estatística-teste e verificação desse valor com as áreas de aceitação e rejeição do teste\n",
    "\n",
    "# $$z = \\frac{(\\bar{x_1} - \\bar{x_2})-D_0}{\\sqrt{\\frac{s_1^2}{n_1} + \\frac{s_2^2}{n_2}}}$$"
   ],
   "metadata": {
    "collapsed": false,
    "pycharm": {
     "name": "#%% md\n"
    }
   }
  },
  {
   "cell_type": "code",
   "execution_count": 59,
   "outputs": [
    {
     "data": {
      "text/plain": "5.86562005776475"
     },
     "execution_count": 59,
     "metadata": {},
     "output_type": "execute_result"
    }
   ],
   "source": [
    "numerador = (media_amostra_h - media_amostra_m) - d_0\n",
    "denominador = np.sqrt((desvio_padrao_amostra_h ** 2 / n_h) + (desvio_padrao_amostra_m ** 2 / n_m))\n",
    "z = numerador / denominador\n",
    "z"
   ],
   "metadata": {
    "collapsed": false,
    "pycharm": {
     "name": "#%%\n"
    }
   }
  },
  {
   "cell_type": "markdown",
   "source": [
    "![Estatística-Teste](https://caelum-online-public.s3.amazonaws.com/1229-estatistica-parte3/01/img012.png)"
   ],
   "metadata": {
    "collapsed": false,
    "pycharm": {
     "name": "#%% md\n"
    }
   }
  },
  {
   "cell_type": "markdown",
   "source": [
    "---"
   ],
   "metadata": {
    "collapsed": false,
    "pycharm": {
     "name": "#%% md\n"
    }
   }
  },
  {
   "cell_type": "markdown",
   "source": [
    "### **Passo 5** - Aceitação ou rejeição da hipótese nula"
   ],
   "metadata": {
    "collapsed": false,
    "pycharm": {
     "name": "#%% md\n"
    }
   }
  },
  {
   "cell_type": "markdown",
   "source": [
    "<img src='https://caelum-online-public.s3.amazonaws.com/1229-estatistica-parte3/01/img014.png' width=90%>"
   ],
   "metadata": {
    "collapsed": false,
    "pycharm": {
     "name": "#%% md\n"
    }
   }
  },
  {
   "cell_type": "markdown",
   "source": [
    "### <font color='red'>Critério do valor crítico</font>\n",
    "\n",
    "> ### Teste Unicaudal\n",
    "> ### Rejeitar $H_0$ se $z \\geq z_{\\alpha}$"
   ],
   "metadata": {
    "collapsed": false,
    "pycharm": {
     "name": "#%% md\n"
    }
   }
  },
  {
   "cell_type": "code",
   "execution_count": 60,
   "outputs": [
    {
     "name": "stdout",
     "output_type": "stream",
     "text": [
      "Hipótese Nula H0 (média das rendas dos homens <= média das rendas das mulheres): Rejeitada\n"
     ]
    }
   ],
   "source": [
    "print(f\"Hipótese Nula H0 (média das rendas dos homens <= média das rendas das mulheres): {'Rejeitada' if z >= z_alpha else 'Não Rejeitada'}\")"
   ],
   "metadata": {
    "collapsed": false,
    "pycharm": {
     "name": "#%%\n"
    }
   }
  },
  {
   "cell_type": "markdown",
   "source": [
    "### <font color='green'>Conclusão: Com um nível de confiança de 99% rejeitamos $H_0$, isto é, concluímos que a média das rendas dos chefes de domicílios do sexo masculino é maior que a média das rendas das chefes de domicílios do sexo feminino. Confirmando a alegação de desigualdade de renda entre os sexos.</font>"
   ],
   "metadata": {
    "collapsed": false,
    "pycharm": {
     "name": "#%% md\n"
    }
   }
  },
  {
   "cell_type": "markdown",
   "source": [
    "### <font color='red'>Critério do valor $p$</font>\n",
    "\n",
    "> ### Teste Unicaudal\n",
    "> ### Rejeitar $H_0$ se o valor $p\\leq\\alpha$"
   ],
   "metadata": {
    "collapsed": false,
    "pycharm": {
     "name": "#%% md\n"
    }
   }
  },
  {
   "cell_type": "markdown",
   "source": [
    "https://www.statsmodels.org/dev/generated/statsmodels.stats.weightstats.DescrStatsW.html\n",
    "\n",
    "https://www.statsmodels.org/dev/generated/statsmodels.stats.weightstats.CompareMeans.ttest_ind.html"
   ],
   "metadata": {
    "collapsed": false,
    "pycharm": {
     "name": "#%% md\n"
    }
   }
  },
  {
   "cell_type": "code",
   "execution_count": 61,
   "outputs": [],
   "source": [
    "from statsmodels.stats.weightstats import DescrStatsW, CompareMeans"
   ],
   "metadata": {
    "collapsed": false,
    "pycharm": {
     "name": "#%%\n"
    }
   }
  },
  {
   "cell_type": "code",
   "execution_count": 62,
   "outputs": [],
   "source": [
    "test_h = DescrStatsW(homens)"
   ],
   "metadata": {
    "collapsed": false,
    "pycharm": {
     "name": "#%%\n"
    }
   }
  },
  {
   "cell_type": "code",
   "execution_count": 63,
   "outputs": [],
   "source": [
    "test_m = DescrStatsW(mulheres)"
   ],
   "metadata": {
    "collapsed": false,
    "pycharm": {
     "name": "#%%\n"
    }
   }
  },
  {
   "cell_type": "code",
   "execution_count": 64,
   "outputs": [],
   "source": [
    "test_a = test_h.get_compare(test_m)"
   ],
   "metadata": {
    "collapsed": false,
    "pycharm": {
     "name": "#%%\n"
    }
   }
  },
  {
   "cell_type": "code",
   "execution_count": 65,
   "outputs": [
    {
     "data": {
      "text/plain": "2.2372867859458255e-09"
     },
     "execution_count": 65,
     "metadata": {},
     "output_type": "execute_result"
    }
   ],
   "source": [
    "z, p_valor = test_a.ztest_ind(alternative=\"larger\", value=d_0)\n",
    "p_valor"
   ],
   "metadata": {
    "collapsed": false,
    "pycharm": {
     "name": "#%%\n"
    }
   }
  },
  {
   "cell_type": "code",
   "execution_count": 66,
   "outputs": [],
   "source": [
    "test_b = CompareMeans(test_h, test_m)"
   ],
   "metadata": {
    "collapsed": false,
    "pycharm": {
     "name": "#%%\n"
    }
   }
  },
  {
   "cell_type": "code",
   "execution_count": 67,
   "outputs": [
    {
     "data": {
      "text/plain": "2.2372867859458255e-09"
     },
     "execution_count": 67,
     "metadata": {},
     "output_type": "execute_result"
    }
   ],
   "source": [
    "z, p_valor = test_b.ztest_ind(alternative=\"larger\", value=d_0)\n",
    "p_valor"
   ],
   "metadata": {
    "collapsed": false,
    "pycharm": {
     "name": "#%%\n"
    }
   }
  },
  {
   "cell_type": "code",
   "execution_count": 68,
   "outputs": [
    {
     "data": {
      "text/plain": "True"
     },
     "execution_count": 68,
     "metadata": {},
     "output_type": "execute_result"
    }
   ],
   "source": [
    "p_valor <= significancia"
   ],
   "metadata": {
    "collapsed": false,
    "pycharm": {
     "name": "#%%\n"
    }
   }
  },
  {
   "cell_type": "markdown",
   "metadata": {
    "id": "0gxk-t4jpsl8",
    "pycharm": {
     "name": "#%% md\n"
    }
   },
   "source": [
    "---"
   ]
  },
  {
   "cell_type": "markdown",
   "metadata": {
    "id": "IEHa9ZC_psl8",
    "pycharm": {
     "name": "#%% md\n"
    }
   },
   "source": [
    "# <font color=green>4 TESTES NÃO PARAMÉTRICOS</font>\n",
    "***"
   ]
  },
  {
   "cell_type": "markdown",
   "metadata": {
    "id": "8iRwKn9Wpsl8",
    "pycharm": {
     "name": "#%% md\n"
    }
   },
   "source": [
    "O trabalho com pequenas amostras pode levar a não aceitação da validade do teorema central do limite e também na impossibilidade de fazer suposições sobre a distribuição da variável avaliada. Quando isso ocorre torna-se necessária a aplicação de testes não paramétricos. Nos testes não paramétricos, não fazemos hipóteses sobre a distribuição (de probabilidade) das quais as observações são extraídas."
   ]
  },
  {
   "cell_type": "markdown",
   "metadata": {
    "id": "ngqmtRxFpsl9",
    "pycharm": {
     "name": "#%% md\n"
    }
   },
   "source": [
    "## <font color='red'>Problema</font>"
   ]
  },
  {
   "cell_type": "markdown",
   "metadata": {
    "id": "Al0BiC02psl9",
    "pycharm": {
     "name": "#%% md\n"
    }
   },
   "source": [
    "Antes de cada partida do campeonato nacional de futebol, as moedas utilizadas pelos árbitros devem ser verificadas para se ter certeza de que não são viciadas, ou seja, que não tendam para determinado resultado. Para isso um teste simples deve ser realizado antes de cada partida. Este teste consiste em lançar a moeda do jogo **50 vezes** e contar as frequências de **CARAS** e **COROAS** obtidas. A tabela abaixo mostra o resultado obtido no experimento:\n",
    "\n",
    "\n",
    "|           | CARA | COROA |\n",
    "|:----------|:----:|:-----:|\n",
    "| Observado |  17  |  33   |\n",
    "| Esperado  |  25  |  25   |\n",
    "\n",
    "\n",
    "A um **nível de significância de 5%**, é possível afirmar que a moeda não é honesta, isto é, que a moeda apresenta uma probabilidade maior de cair com a face **CARA** voltada para cima?"
   ]
  },
  {
   "cell_type": "markdown",
   "metadata": {
    "id": "56KA3Hnupsl9",
    "pycharm": {
     "name": "#%% md\n"
    }
   },
   "source": [
    "## <font color=green>4.1 Teste do Qui-Quadrado ( $\\chi^2$)</font>\n",
    "***"
   ]
  },
  {
   "cell_type": "markdown",
   "metadata": {
    "id": "GxTlvB4Zpsl9",
    "pycharm": {
     "name": "#%% md\n"
    }
   },
   "source": [
    "Também conhecido como teste de adequação ao ajustamento, seu nome se deve ao fato de utilizar uma variável estatística padronizada, representada pela letra grega qui ( $\\chi$) elevada ao quadrado. A tabela com os valores padronizados e como obtê-la podem ser vistos logo abaixo.\n",
    "\n",
    "O teste do $\\chi^2$ testa a hipótese nula de não haver diferença entre as frequências observadas de um determinado evento e as frequências que são realmente esperadas para este evento.\n",
    "\n",
    "Os passos de aplicação do teste são bem parecidos aos vistos para os testes paramétricos.\n",
    "\n",
    "![Região de Aceitação](https://caelum-online-public.s3.amazonaws.com/1229-estatistica-parte3/01/img017.png)"
   ]
  },
  {
   "cell_type": "markdown",
   "metadata": {
    "id": "1lbHtKGfpsl9",
    "pycharm": {
     "name": "#%% md\n"
    }
   },
   "source": [
    "### Construindo tabela $\\chi^2$\n",
    "https://docs.scipy.org/doc/scipy/reference/generated/scipy.stats.chi.html"
   ]
  },
  {
   "cell_type": "code",
   "execution_count": 69,
   "metadata": {
    "id": "k7sZCK8dpsl-",
    "scrolled": false,
    "pycharm": {
     "name": "#%%\n"
    }
   },
   "outputs": [
    {
     "data": {
      "text/plain": "p                     0.005    0.010    0.025    0.050    0.100    0.250  \\\nGraus de Liberdade                                                         \n1                    0.0000   0.0002   0.0010   0.0039   0.0158   0.1015   \n2                    0.0100   0.0201   0.0506   0.1026   0.2107   0.5754   \n3                    0.0717   0.1148   0.2158   0.3518   0.5844   1.2125   \n4                    0.2070   0.2971   0.4844   0.7107   1.0636   1.9226   \n5                    0.4117   0.5543   0.8312   1.1455   1.6103   2.6746   \n6                    0.6757   0.8721   1.2373   1.6354   2.2041   3.4546   \n7                    0.9893   1.2390   1.6899   2.1673   2.8331   4.2549   \n8                    1.3444   1.6465   2.1797   2.7326   3.4895   5.0706   \n9                    1.7349   2.0879   2.7004   3.3251   4.1682   5.8988   \n10                   2.1559   2.5582   3.2470   3.9403   4.8652   6.7372   \n11                   2.6032   3.0535   3.8157   4.5748   5.5778   7.5841   \n12                   3.0738   3.5706   4.4038   5.2260   6.3038   8.4384   \n13                   3.5650   4.1069   5.0088   5.8919   7.0415   9.2991   \n14                   4.0747   4.6604   5.6287   6.5706   7.7895  10.1653   \n15                   4.6009   5.2293   6.2621   7.2609   8.5468  11.0365   \n16                   5.1422   5.8122   6.9077   7.9616   9.3122  11.9122   \n17                   5.6972   6.4078   7.5642   8.6718  10.0852  12.7919   \n18                   6.2648   7.0149   8.2307   9.3905  10.8649  13.6753   \n19                   6.8440   7.6327   8.9065  10.1170  11.6509  14.5620   \n20                   7.4338   8.2604   9.5908  10.8508  12.4426  15.4518   \n21                   8.0337   8.8972  10.2829  11.5913  13.2396  16.3444   \n22                   8.6427   9.5425  10.9823  12.3380  14.0415  17.2396   \n23                   9.2604  10.1957  11.6886  13.0905  14.8480  18.1373   \n24                   9.8862  10.8564  12.4012  13.8484  15.6587  19.0373   \n25                  10.5197  11.5240  13.1197  14.6114  16.4734  19.9393   \n26                  11.1602  12.1981  13.8439  15.3792  17.2919  20.8434   \n27                  11.8076  12.8785  14.5734  16.1514  18.1139  21.7494   \n28                  12.4613  13.5647  15.3079  16.9279  18.9392  22.6572   \n29                  13.1211  14.2565  16.0471  17.7084  19.7677  23.5666   \n30                  13.7867  14.9535  16.7908  18.4927  20.5992  24.4776   \n\np                     0.500    0.750    0.900    0.975    0.950    0.990  \\\nGraus de Liberdade                                                         \n1                    0.4549   1.3233   2.7055   5.0239   3.8415   6.6349   \n2                    1.3863   2.7726   4.6052   7.3778   5.9915   9.2103   \n3                    2.3660   4.1083   6.2514   9.3484   7.8147  11.3449   \n4                    3.3567   5.3853   7.7794  11.1433   9.4877  13.2767   \n5                    4.3515   6.6257   9.2364  12.8325  11.0705  15.0863   \n6                    5.3481   7.8408  10.6446  14.4494  12.5916  16.8119   \n7                    6.3458   9.0371  12.0170  16.0128  14.0671  18.4753   \n8                    7.3441  10.2189  13.3616  17.5345  15.5073  20.0902   \n9                    8.3428  11.3888  14.6837  19.0228  16.9190  21.6660   \n10                   9.3418  12.5489  15.9872  20.4832  18.3070  23.2093   \n11                  10.3410  13.7007  17.2750  21.9200  19.6751  24.7250   \n12                  11.3403  14.8454  18.5493  23.3367  21.0261  26.2170   \n13                  12.3398  15.9839  19.8119  24.7356  22.3620  27.6882   \n14                  13.3393  17.1169  21.0641  26.1189  23.6848  29.1412   \n15                  14.3389  18.2451  22.3071  27.4884  24.9958  30.5779   \n16                  15.3385  19.3689  23.5418  28.8454  26.2962  31.9999   \n17                  16.3382  20.4887  24.7690  30.1910  27.5871  33.4087   \n18                  17.3379  21.6049  25.9894  31.5264  28.8693  34.8053   \n19                  18.3377  22.7178  27.2036  32.8523  30.1435  36.1909   \n20                  19.3374  23.8277  28.4120  34.1696  31.4104  37.5662   \n21                  20.3372  24.9348  29.6151  35.4789  32.6706  38.9322   \n22                  21.3370  26.0393  30.8133  36.7807  33.9244  40.2894   \n23                  22.3369  27.1413  32.0069  38.0756  35.1725  41.6384   \n24                  23.3367  28.2412  33.1962  39.3641  36.4150  42.9798   \n25                  24.3366  29.3389  34.3816  40.6465  37.6525  44.3141   \n26                  25.3365  30.4346  35.5632  41.9232  38.8851  45.6417   \n27                  26.3363  31.5284  36.7412  43.1945  40.1133  46.9629   \n28                  27.3362  32.6205  37.9159  44.4608  41.3371  48.2782   \n29                  28.3361  33.7109  39.0875  45.7223  42.5570  49.5879   \n30                  29.3360  34.7997  40.2560  46.9792  43.7730  50.8922   \n\np                     0.995  \nGraus de Liberdade           \n1                    7.8794  \n2                   10.5966  \n3                   12.8382  \n4                   14.8603  \n5                   16.7496  \n6                   18.5476  \n7                   20.2777  \n8                   21.9550  \n9                   23.5894  \n10                  25.1882  \n11                  26.7568  \n12                  28.2995  \n13                  29.8195  \n14                  31.3193  \n15                  32.8013  \n16                  34.2672  \n17                  35.7185  \n18                  37.1565  \n19                  38.5823  \n20                  39.9968  \n21                  41.4011  \n22                  42.7957  \n23                  44.1813  \n24                  45.5585  \n25                  46.9279  \n26                  48.2899  \n27                  49.6449  \n28                  50.9934  \n29                  52.3356  \n30                  53.6720  ",
      "text/html": "<div>\n<style scoped>\n    .dataframe tbody tr th:only-of-type {\n        vertical-align: middle;\n    }\n\n    .dataframe tbody tr th {\n        vertical-align: top;\n    }\n\n    .dataframe thead th {\n        text-align: right;\n    }\n</style>\n<table border=\"1\" class=\"dataframe\">\n  <thead>\n    <tr style=\"text-align: right;\">\n      <th>p</th>\n      <th>0.005</th>\n      <th>0.010</th>\n      <th>0.025</th>\n      <th>0.050</th>\n      <th>0.100</th>\n      <th>0.250</th>\n      <th>0.500</th>\n      <th>0.750</th>\n      <th>0.900</th>\n      <th>0.975</th>\n      <th>0.950</th>\n      <th>0.990</th>\n      <th>0.995</th>\n    </tr>\n    <tr>\n      <th>Graus de Liberdade</th>\n      <th></th>\n      <th></th>\n      <th></th>\n      <th></th>\n      <th></th>\n      <th></th>\n      <th></th>\n      <th></th>\n      <th></th>\n      <th></th>\n      <th></th>\n      <th></th>\n      <th></th>\n    </tr>\n  </thead>\n  <tbody>\n    <tr>\n      <th>1</th>\n      <td>0.0000</td>\n      <td>0.0002</td>\n      <td>0.0010</td>\n      <td>0.0039</td>\n      <td>0.0158</td>\n      <td>0.1015</td>\n      <td>0.4549</td>\n      <td>1.3233</td>\n      <td>2.7055</td>\n      <td>5.0239</td>\n      <td>3.8415</td>\n      <td>6.6349</td>\n      <td>7.8794</td>\n    </tr>\n    <tr>\n      <th>2</th>\n      <td>0.0100</td>\n      <td>0.0201</td>\n      <td>0.0506</td>\n      <td>0.1026</td>\n      <td>0.2107</td>\n      <td>0.5754</td>\n      <td>1.3863</td>\n      <td>2.7726</td>\n      <td>4.6052</td>\n      <td>7.3778</td>\n      <td>5.9915</td>\n      <td>9.2103</td>\n      <td>10.5966</td>\n    </tr>\n    <tr>\n      <th>3</th>\n      <td>0.0717</td>\n      <td>0.1148</td>\n      <td>0.2158</td>\n      <td>0.3518</td>\n      <td>0.5844</td>\n      <td>1.2125</td>\n      <td>2.3660</td>\n      <td>4.1083</td>\n      <td>6.2514</td>\n      <td>9.3484</td>\n      <td>7.8147</td>\n      <td>11.3449</td>\n      <td>12.8382</td>\n    </tr>\n    <tr>\n      <th>4</th>\n      <td>0.2070</td>\n      <td>0.2971</td>\n      <td>0.4844</td>\n      <td>0.7107</td>\n      <td>1.0636</td>\n      <td>1.9226</td>\n      <td>3.3567</td>\n      <td>5.3853</td>\n      <td>7.7794</td>\n      <td>11.1433</td>\n      <td>9.4877</td>\n      <td>13.2767</td>\n      <td>14.8603</td>\n    </tr>\n    <tr>\n      <th>5</th>\n      <td>0.4117</td>\n      <td>0.5543</td>\n      <td>0.8312</td>\n      <td>1.1455</td>\n      <td>1.6103</td>\n      <td>2.6746</td>\n      <td>4.3515</td>\n      <td>6.6257</td>\n      <td>9.2364</td>\n      <td>12.8325</td>\n      <td>11.0705</td>\n      <td>15.0863</td>\n      <td>16.7496</td>\n    </tr>\n    <tr>\n      <th>6</th>\n      <td>0.6757</td>\n      <td>0.8721</td>\n      <td>1.2373</td>\n      <td>1.6354</td>\n      <td>2.2041</td>\n      <td>3.4546</td>\n      <td>5.3481</td>\n      <td>7.8408</td>\n      <td>10.6446</td>\n      <td>14.4494</td>\n      <td>12.5916</td>\n      <td>16.8119</td>\n      <td>18.5476</td>\n    </tr>\n    <tr>\n      <th>7</th>\n      <td>0.9893</td>\n      <td>1.2390</td>\n      <td>1.6899</td>\n      <td>2.1673</td>\n      <td>2.8331</td>\n      <td>4.2549</td>\n      <td>6.3458</td>\n      <td>9.0371</td>\n      <td>12.0170</td>\n      <td>16.0128</td>\n      <td>14.0671</td>\n      <td>18.4753</td>\n      <td>20.2777</td>\n    </tr>\n    <tr>\n      <th>8</th>\n      <td>1.3444</td>\n      <td>1.6465</td>\n      <td>2.1797</td>\n      <td>2.7326</td>\n      <td>3.4895</td>\n      <td>5.0706</td>\n      <td>7.3441</td>\n      <td>10.2189</td>\n      <td>13.3616</td>\n      <td>17.5345</td>\n      <td>15.5073</td>\n      <td>20.0902</td>\n      <td>21.9550</td>\n    </tr>\n    <tr>\n      <th>9</th>\n      <td>1.7349</td>\n      <td>2.0879</td>\n      <td>2.7004</td>\n      <td>3.3251</td>\n      <td>4.1682</td>\n      <td>5.8988</td>\n      <td>8.3428</td>\n      <td>11.3888</td>\n      <td>14.6837</td>\n      <td>19.0228</td>\n      <td>16.9190</td>\n      <td>21.6660</td>\n      <td>23.5894</td>\n    </tr>\n    <tr>\n      <th>10</th>\n      <td>2.1559</td>\n      <td>2.5582</td>\n      <td>3.2470</td>\n      <td>3.9403</td>\n      <td>4.8652</td>\n      <td>6.7372</td>\n      <td>9.3418</td>\n      <td>12.5489</td>\n      <td>15.9872</td>\n      <td>20.4832</td>\n      <td>18.3070</td>\n      <td>23.2093</td>\n      <td>25.1882</td>\n    </tr>\n    <tr>\n      <th>11</th>\n      <td>2.6032</td>\n      <td>3.0535</td>\n      <td>3.8157</td>\n      <td>4.5748</td>\n      <td>5.5778</td>\n      <td>7.5841</td>\n      <td>10.3410</td>\n      <td>13.7007</td>\n      <td>17.2750</td>\n      <td>21.9200</td>\n      <td>19.6751</td>\n      <td>24.7250</td>\n      <td>26.7568</td>\n    </tr>\n    <tr>\n      <th>12</th>\n      <td>3.0738</td>\n      <td>3.5706</td>\n      <td>4.4038</td>\n      <td>5.2260</td>\n      <td>6.3038</td>\n      <td>8.4384</td>\n      <td>11.3403</td>\n      <td>14.8454</td>\n      <td>18.5493</td>\n      <td>23.3367</td>\n      <td>21.0261</td>\n      <td>26.2170</td>\n      <td>28.2995</td>\n    </tr>\n    <tr>\n      <th>13</th>\n      <td>3.5650</td>\n      <td>4.1069</td>\n      <td>5.0088</td>\n      <td>5.8919</td>\n      <td>7.0415</td>\n      <td>9.2991</td>\n      <td>12.3398</td>\n      <td>15.9839</td>\n      <td>19.8119</td>\n      <td>24.7356</td>\n      <td>22.3620</td>\n      <td>27.6882</td>\n      <td>29.8195</td>\n    </tr>\n    <tr>\n      <th>14</th>\n      <td>4.0747</td>\n      <td>4.6604</td>\n      <td>5.6287</td>\n      <td>6.5706</td>\n      <td>7.7895</td>\n      <td>10.1653</td>\n      <td>13.3393</td>\n      <td>17.1169</td>\n      <td>21.0641</td>\n      <td>26.1189</td>\n      <td>23.6848</td>\n      <td>29.1412</td>\n      <td>31.3193</td>\n    </tr>\n    <tr>\n      <th>15</th>\n      <td>4.6009</td>\n      <td>5.2293</td>\n      <td>6.2621</td>\n      <td>7.2609</td>\n      <td>8.5468</td>\n      <td>11.0365</td>\n      <td>14.3389</td>\n      <td>18.2451</td>\n      <td>22.3071</td>\n      <td>27.4884</td>\n      <td>24.9958</td>\n      <td>30.5779</td>\n      <td>32.8013</td>\n    </tr>\n    <tr>\n      <th>16</th>\n      <td>5.1422</td>\n      <td>5.8122</td>\n      <td>6.9077</td>\n      <td>7.9616</td>\n      <td>9.3122</td>\n      <td>11.9122</td>\n      <td>15.3385</td>\n      <td>19.3689</td>\n      <td>23.5418</td>\n      <td>28.8454</td>\n      <td>26.2962</td>\n      <td>31.9999</td>\n      <td>34.2672</td>\n    </tr>\n    <tr>\n      <th>17</th>\n      <td>5.6972</td>\n      <td>6.4078</td>\n      <td>7.5642</td>\n      <td>8.6718</td>\n      <td>10.0852</td>\n      <td>12.7919</td>\n      <td>16.3382</td>\n      <td>20.4887</td>\n      <td>24.7690</td>\n      <td>30.1910</td>\n      <td>27.5871</td>\n      <td>33.4087</td>\n      <td>35.7185</td>\n    </tr>\n    <tr>\n      <th>18</th>\n      <td>6.2648</td>\n      <td>7.0149</td>\n      <td>8.2307</td>\n      <td>9.3905</td>\n      <td>10.8649</td>\n      <td>13.6753</td>\n      <td>17.3379</td>\n      <td>21.6049</td>\n      <td>25.9894</td>\n      <td>31.5264</td>\n      <td>28.8693</td>\n      <td>34.8053</td>\n      <td>37.1565</td>\n    </tr>\n    <tr>\n      <th>19</th>\n      <td>6.8440</td>\n      <td>7.6327</td>\n      <td>8.9065</td>\n      <td>10.1170</td>\n      <td>11.6509</td>\n      <td>14.5620</td>\n      <td>18.3377</td>\n      <td>22.7178</td>\n      <td>27.2036</td>\n      <td>32.8523</td>\n      <td>30.1435</td>\n      <td>36.1909</td>\n      <td>38.5823</td>\n    </tr>\n    <tr>\n      <th>20</th>\n      <td>7.4338</td>\n      <td>8.2604</td>\n      <td>9.5908</td>\n      <td>10.8508</td>\n      <td>12.4426</td>\n      <td>15.4518</td>\n      <td>19.3374</td>\n      <td>23.8277</td>\n      <td>28.4120</td>\n      <td>34.1696</td>\n      <td>31.4104</td>\n      <td>37.5662</td>\n      <td>39.9968</td>\n    </tr>\n    <tr>\n      <th>21</th>\n      <td>8.0337</td>\n      <td>8.8972</td>\n      <td>10.2829</td>\n      <td>11.5913</td>\n      <td>13.2396</td>\n      <td>16.3444</td>\n      <td>20.3372</td>\n      <td>24.9348</td>\n      <td>29.6151</td>\n      <td>35.4789</td>\n      <td>32.6706</td>\n      <td>38.9322</td>\n      <td>41.4011</td>\n    </tr>\n    <tr>\n      <th>22</th>\n      <td>8.6427</td>\n      <td>9.5425</td>\n      <td>10.9823</td>\n      <td>12.3380</td>\n      <td>14.0415</td>\n      <td>17.2396</td>\n      <td>21.3370</td>\n      <td>26.0393</td>\n      <td>30.8133</td>\n      <td>36.7807</td>\n      <td>33.9244</td>\n      <td>40.2894</td>\n      <td>42.7957</td>\n    </tr>\n    <tr>\n      <th>23</th>\n      <td>9.2604</td>\n      <td>10.1957</td>\n      <td>11.6886</td>\n      <td>13.0905</td>\n      <td>14.8480</td>\n      <td>18.1373</td>\n      <td>22.3369</td>\n      <td>27.1413</td>\n      <td>32.0069</td>\n      <td>38.0756</td>\n      <td>35.1725</td>\n      <td>41.6384</td>\n      <td>44.1813</td>\n    </tr>\n    <tr>\n      <th>24</th>\n      <td>9.8862</td>\n      <td>10.8564</td>\n      <td>12.4012</td>\n      <td>13.8484</td>\n      <td>15.6587</td>\n      <td>19.0373</td>\n      <td>23.3367</td>\n      <td>28.2412</td>\n      <td>33.1962</td>\n      <td>39.3641</td>\n      <td>36.4150</td>\n      <td>42.9798</td>\n      <td>45.5585</td>\n    </tr>\n    <tr>\n      <th>25</th>\n      <td>10.5197</td>\n      <td>11.5240</td>\n      <td>13.1197</td>\n      <td>14.6114</td>\n      <td>16.4734</td>\n      <td>19.9393</td>\n      <td>24.3366</td>\n      <td>29.3389</td>\n      <td>34.3816</td>\n      <td>40.6465</td>\n      <td>37.6525</td>\n      <td>44.3141</td>\n      <td>46.9279</td>\n    </tr>\n    <tr>\n      <th>26</th>\n      <td>11.1602</td>\n      <td>12.1981</td>\n      <td>13.8439</td>\n      <td>15.3792</td>\n      <td>17.2919</td>\n      <td>20.8434</td>\n      <td>25.3365</td>\n      <td>30.4346</td>\n      <td>35.5632</td>\n      <td>41.9232</td>\n      <td>38.8851</td>\n      <td>45.6417</td>\n      <td>48.2899</td>\n    </tr>\n    <tr>\n      <th>27</th>\n      <td>11.8076</td>\n      <td>12.8785</td>\n      <td>14.5734</td>\n      <td>16.1514</td>\n      <td>18.1139</td>\n      <td>21.7494</td>\n      <td>26.3363</td>\n      <td>31.5284</td>\n      <td>36.7412</td>\n      <td>43.1945</td>\n      <td>40.1133</td>\n      <td>46.9629</td>\n      <td>49.6449</td>\n    </tr>\n    <tr>\n      <th>28</th>\n      <td>12.4613</td>\n      <td>13.5647</td>\n      <td>15.3079</td>\n      <td>16.9279</td>\n      <td>18.9392</td>\n      <td>22.6572</td>\n      <td>27.3362</td>\n      <td>32.6205</td>\n      <td>37.9159</td>\n      <td>44.4608</td>\n      <td>41.3371</td>\n      <td>48.2782</td>\n      <td>50.9934</td>\n    </tr>\n    <tr>\n      <th>29</th>\n      <td>13.1211</td>\n      <td>14.2565</td>\n      <td>16.0471</td>\n      <td>17.7084</td>\n      <td>19.7677</td>\n      <td>23.5666</td>\n      <td>28.3361</td>\n      <td>33.7109</td>\n      <td>39.0875</td>\n      <td>45.7223</td>\n      <td>42.5570</td>\n      <td>49.5879</td>\n      <td>52.3356</td>\n    </tr>\n    <tr>\n      <th>30</th>\n      <td>13.7867</td>\n      <td>14.9535</td>\n      <td>16.7908</td>\n      <td>18.4927</td>\n      <td>20.5992</td>\n      <td>24.4776</td>\n      <td>29.3360</td>\n      <td>34.7997</td>\n      <td>40.2560</td>\n      <td>46.9792</td>\n      <td>43.7730</td>\n      <td>50.8922</td>\n      <td>53.6720</td>\n    </tr>\n  </tbody>\n</table>\n</div>"
     },
     "execution_count": 69,
     "metadata": {},
     "output_type": "execute_result"
    }
   ],
   "source": [
    "from scipy.stats import chi\n",
    "\n",
    "tabela_t_chi_2 = pd.DataFrame(\n",
    "    [],\n",
    "    index=[i for i in range(1,31)],\n",
    "    columns=[0.005, 0.01, 0.025, 0.05, 0.1, 0.25, 0.5, 0.75, 0.9, 0.975, 0.95, 0.99, 0.995]\n",
    ")\n",
    "\n",
    "for index in tabela_t_chi_2.index:\n",
    "    for column in tabela_t_chi_2.columns:\n",
    "        tabela_t_chi_2.loc[index, column] = f\"{chi.ppf(float(column), index) ** 2:0.4f}\"\n",
    "\n",
    "tabela_t_chi_2.index.name = \"Graus de Liberdade\"\n",
    "tabela_t_chi_2.rename_axis([\"p\"], axis=1, inplace=True)\n",
    "\n",
    "tabela_t_chi_2"
   ]
  },
  {
   "cell_type": "markdown",
   "metadata": {
    "id": "UkzhYAPDpsl_",
    "pycharm": {
     "name": "#%% md\n"
    }
   },
   "source": [
    "<img src='https://caelum-online-public.s3.amazonaws.com/1229-estatistica-parte3/01/img016.png' width='250px'>\n",
    "\n",
    "Tabela com os valores de $\\chi_p^2$ em função dos graus de liberdade $(n - 1)$ e de $p = P(\\chi^2 \\leq \\chi_p^2)$"
   ]
  },
  {
   "cell_type": "markdown",
   "metadata": {
    "id": "cCPOqVFKpsl_",
    "pycharm": {
     "name": "#%% md\n"
    }
   },
   "source": [
    "## <font color='red'>Problema</font>"
   ]
  },
  {
   "cell_type": "markdown",
   "metadata": {
    "id": "GTq1wpkbpsl_",
    "pycharm": {
     "name": "#%% md\n"
    }
   },
   "source": [
    "Antes de cada partida do campeonato nacional de futebol, as moedas utilizadas pelos árbitros devem ser verificadas para se ter certeza de que não são viciadas, ou seja, que não tendam para determinado resultado. Para isso um teste simples deve ser realizado antes de cada partida. Este teste consiste em lançar a moeda do jogo **50 vezes** e contar as frequências de **CARAS** e **COROAS** obtidas. A tabela abaixo mostra o resultado obtido no experimento:\n",
    "\n",
    "|           | CARA | COROA |\n",
    "|:----------|:----:|:-----:|\n",
    "| Observado |  17  |  33   |\n",
    "| Esperado  |  25  |  25   |\n",
    "\n",
    "A um **nível de significância de 5%**, é possível afirmar que a moeda não é honesta, isto é, que a moeda apresenta uma probabilidade maior de cair com a face **CARA** voltada para cima?"
   ]
  },
  {
   "cell_type": "markdown",
   "metadata": {
    "id": "CSlCI1wUpsl_",
    "pycharm": {
     "name": "#%% md\n"
    }
   },
   "source": [
    "---"
   ]
  },
  {
   "cell_type": "markdown",
   "metadata": {
    "id": "Op26YDWnpsmA",
    "pycharm": {
     "name": "#%% md\n"
    }
   },
   "source": [
    "### Dados do problema"
   ]
  },
  {
   "cell_type": "code",
   "execution_count": 70,
   "metadata": {
    "id": "p5iOqxk2psmA",
    "pycharm": {
     "name": "#%%\n"
    }
   },
   "outputs": [],
   "source": [
    "freq_observada = [17, 33]\n",
    "freq_esperada = [25, 25]\n",
    "significancia = 0.05\n",
    "confianca = 1 - significancia\n",
    "k = 2 # número de eventos possíveis\n",
    "graus_de_liberdade = k - 1"
   ]
  },
  {
   "cell_type": "markdown",
   "metadata": {
    "id": "w6A74pM-psmB",
    "pycharm": {
     "name": "#%% md\n"
    }
   },
   "source": [
    "### **Passo 1** - formulação das hipóteses $H_0$ e $H_1$\n",
    "\n",
    "#### <font color='red'>Lembre-se, a hipótese nula sempre contém a alegação de igualdade</font>"
   ]
  },
  {
   "cell_type": "markdown",
   "metadata": {
    "id": "zA4AD5_8psmB",
    "pycharm": {
     "name": "#%% md\n"
    }
   },
   "source": [
    "### $H_0: F_{CARA} = F_{COROA}$\n",
    "\n",
    "### $H_1: F_{CARA} \\neq F_{COROA}$"
   ]
  },
  {
   "cell_type": "markdown",
   "metadata": {
    "id": "rUtuw6_bpsmB",
    "pycharm": {
     "name": "#%% md\n"
    }
   },
   "source": [
    "---"
   ]
  },
  {
   "cell_type": "markdown",
   "metadata": {
    "id": "Zi2oE6ZbpsmB",
    "pycharm": {
     "name": "#%% md\n"
    }
   },
   "source": [
    "### **Passo 2** - fixação da significância do teste ($\\alpha$)"
   ]
  },
  {
   "cell_type": "markdown",
   "metadata": {
    "id": "cCL8Wyy7psmC",
    "pycharm": {
     "name": "#%% md\n"
    }
   },
   "source": [
    "https://docs.scipy.org/doc/scipy/reference/generated/scipy.stats.chi.html"
   ]
  },
  {
   "cell_type": "code",
   "execution_count": 71,
   "metadata": {
    "id": "5bF7GEd-psmD",
    "pycharm": {
     "name": "#%%\n"
    }
   },
   "outputs": [],
   "source": [
    "from scipy.stats import chi"
   ]
  },
  {
   "cell_type": "code",
   "execution_count": 72,
   "metadata": {
    "id": "WRsJSXxGpsmE",
    "scrolled": true,
    "pycharm": {
     "name": "#%%\n"
    }
   },
   "outputs": [
    {
     "data": {
      "text/plain": "p                    0.005   0.010   0.025   0.050   0.100   0.250   0.500  \\\nGraus de Liberdade                                                           \n1                   0.0000  0.0002  0.0010  0.0039  0.0158  0.1015  0.4549   \n2                   0.0100  0.0201  0.0506  0.1026  0.2107  0.5754  1.3863   \n3                   0.0717  0.1148  0.2158  0.3518  0.5844  1.2125  2.3660   \n\np                    0.750   0.900   0.975   0.950    0.990    0.995  \nGraus de Liberdade                                                    \n1                   1.3233  2.7055  5.0239  3.8415   6.6349   7.8794  \n2                   2.7726  4.6052  7.3778  5.9915   9.2103  10.5966  \n3                   4.1083  6.2514  9.3484  7.8147  11.3449  12.8382  ",
      "text/html": "<div>\n<style scoped>\n    .dataframe tbody tr th:only-of-type {\n        vertical-align: middle;\n    }\n\n    .dataframe tbody tr th {\n        vertical-align: top;\n    }\n\n    .dataframe thead th {\n        text-align: right;\n    }\n</style>\n<table border=\"1\" class=\"dataframe\">\n  <thead>\n    <tr style=\"text-align: right;\">\n      <th>p</th>\n      <th>0.005</th>\n      <th>0.010</th>\n      <th>0.025</th>\n      <th>0.050</th>\n      <th>0.100</th>\n      <th>0.250</th>\n      <th>0.500</th>\n      <th>0.750</th>\n      <th>0.900</th>\n      <th>0.975</th>\n      <th>0.950</th>\n      <th>0.990</th>\n      <th>0.995</th>\n    </tr>\n    <tr>\n      <th>Graus de Liberdade</th>\n      <th></th>\n      <th></th>\n      <th></th>\n      <th></th>\n      <th></th>\n      <th></th>\n      <th></th>\n      <th></th>\n      <th></th>\n      <th></th>\n      <th></th>\n      <th></th>\n      <th></th>\n    </tr>\n  </thead>\n  <tbody>\n    <tr>\n      <th>1</th>\n      <td>0.0000</td>\n      <td>0.0002</td>\n      <td>0.0010</td>\n      <td>0.0039</td>\n      <td>0.0158</td>\n      <td>0.1015</td>\n      <td>0.4549</td>\n      <td>1.3233</td>\n      <td>2.7055</td>\n      <td>5.0239</td>\n      <td>3.8415</td>\n      <td>6.6349</td>\n      <td>7.8794</td>\n    </tr>\n    <tr>\n      <th>2</th>\n      <td>0.0100</td>\n      <td>0.0201</td>\n      <td>0.0506</td>\n      <td>0.1026</td>\n      <td>0.2107</td>\n      <td>0.5754</td>\n      <td>1.3863</td>\n      <td>2.7726</td>\n      <td>4.6052</td>\n      <td>7.3778</td>\n      <td>5.9915</td>\n      <td>9.2103</td>\n      <td>10.5966</td>\n    </tr>\n    <tr>\n      <th>3</th>\n      <td>0.0717</td>\n      <td>0.1148</td>\n      <td>0.2158</td>\n      <td>0.3518</td>\n      <td>0.5844</td>\n      <td>1.2125</td>\n      <td>2.3660</td>\n      <td>4.1083</td>\n      <td>6.2514</td>\n      <td>9.3484</td>\n      <td>7.8147</td>\n      <td>11.3449</td>\n      <td>12.8382</td>\n    </tr>\n  </tbody>\n</table>\n</div>"
     },
     "execution_count": 72,
     "metadata": {},
     "output_type": "execute_result"
    }
   ],
   "source": [
    "tabela_t_chi_2[:3]"
   ]
  },
  {
   "cell_type": "markdown",
   "metadata": {
    "id": "0RRjHQm7psmF",
    "pycharm": {
     "name": "#%% md\n"
    }
   },
   "source": [
    "### Obtendo $\\chi_{\\alpha}^2$"
   ]
  },
  {
   "cell_type": "code",
   "execution_count": 73,
   "metadata": {
    "id": "6rXyih-lpsmH",
    "pycharm": {
     "name": "#%%\n"
    }
   },
   "outputs": [
    {
     "data": {
      "text/plain": "3.8414588206941245"
     },
     "execution_count": 73,
     "metadata": {},
     "output_type": "execute_result"
    }
   ],
   "source": [
    "chi_2_alpha = chi.ppf(confianca, graus_de_liberdade) ** 2 # tem que elevar à segunda potência por ser chi quadrado\n",
    "chi_2_alpha"
   ]
  },
  {
   "cell_type": "markdown",
   "metadata": {
    "id": "aHxm3ZCupsmJ",
    "pycharm": {
     "name": "#%% md\n"
    }
   },
   "source": [
    "![Região de Aceitação](https://caelum-online-public.s3.amazonaws.com/1229-estatistica-parte3/01/img018.png)"
   ]
  },
  {
   "cell_type": "markdown",
   "metadata": {
    "id": "FxLr2OnDpsmJ",
    "pycharm": {
     "name": "#%% md\n"
    }
   },
   "source": [
    "---"
   ]
  },
  {
   "cell_type": "markdown",
   "metadata": {
    "id": "JcUvBM5OpsmJ",
    "pycharm": {
     "name": "#%% md\n"
    }
   },
   "source": [
    "### **Passo 3** - cálculo da estatística-teste e verificação desse valor com as áreas de aceitação e rejeição do teste\n",
    "\n",
    "# $$\\chi^2 = \\sum_{i=1}^{k}{\\frac{(F_{i}^{Obs} - F_{i}^{Esp})^2}{F_{i}^{Esp}}}$$\n",
    "\n",
    "Onde\n",
    "\n",
    "$F_{i}^{Obs}$ = frequência observada para o evento $i$\n",
    "\n",
    "$F_{i}^{Esp}$ = frequência esperada para o evento $i$\n",
    "\n",
    "$k$ = total de eventos possíveis"
   ]
  },
  {
   "cell_type": "code",
   "execution_count": 74,
   "metadata": {
    "id": "2b32Y6HiuT-u",
    "pycharm": {
     "name": "#%%\n"
    }
   },
   "outputs": [
    {
     "data": {
      "text/plain": "5.12"
     },
     "execution_count": 74,
     "metadata": {},
     "output_type": "execute_result"
    }
   ],
   "source": [
    "chi_2 = ((freq_observada[0] - freq_esperada[0]) ** 2 / freq_esperada[0]) + ((freq_observada[1] - freq_esperada[1]) ** 2 / freq_esperada[1])\n",
    "chi_2"
   ]
  },
  {
   "cell_type": "code",
   "execution_count": 75,
   "metadata": {
    "id": "7eL97ts8psmJ",
    "pycharm": {
     "name": "#%%\n"
    }
   },
   "outputs": [
    {
     "data": {
      "text/plain": "5.12"
     },
     "execution_count": 75,
     "metadata": {},
     "output_type": "execute_result"
    }
   ],
   "source": [
    "chi_2 = 0\n",
    "for i in range(k):\n",
    "    chi_2 += (freq_observada[i] - freq_esperada[i]) ** 2 / freq_esperada[i]\n",
    "\n",
    "chi_2"
   ]
  },
  {
   "cell_type": "markdown",
   "metadata": {
    "id": "gdwiYn6ZpsmK",
    "pycharm": {
     "name": "#%% md\n"
    }
   },
   "source": [
    "![Estatística-Teste](https://caelum-online-public.s3.amazonaws.com/1229-estatistica-parte3/01/img019.png)"
   ]
  },
  {
   "cell_type": "markdown",
   "metadata": {
    "id": "7v6msKABpsmK",
    "pycharm": {
     "name": "#%% md\n"
    }
   },
   "source": [
    "---"
   ]
  },
  {
   "cell_type": "markdown",
   "metadata": {
    "id": "PHLhbZ3IpsmK",
    "pycharm": {
     "name": "#%% md\n"
    }
   },
   "source": [
    "### **Passo 4** - Aceitação ou rejeição da hipótese nula"
   ]
  },
  {
   "cell_type": "markdown",
   "metadata": {
    "id": "tiQ0gAMGpsmL",
    "pycharm": {
     "name": "#%% md\n"
    }
   },
   "source": [
    "<img src='https://caelum-online-public.s3.amazonaws.com/1229-estatistica-parte3/01/img020.png' width=80%>"
   ]
  },
  {
   "cell_type": "markdown",
   "metadata": {
    "id": "lhFLib7-psmM",
    "pycharm": {
     "name": "#%% md\n"
    }
   },
   "source": [
    "### <font color='red'>Critério do valor crítico</font>\n",
    "\n",
    "> ### Rejeitar $H_0$ se $\\chi_{teste}^2 > \\chi_{\\alpha}^2$"
   ]
  },
  {
   "cell_type": "code",
   "execution_count": 76,
   "metadata": {
    "id": "HSOhw7E7psmM",
    "pycharm": {
     "name": "#%%\n"
    }
   },
   "outputs": [
    {
     "data": {
      "text/plain": "True"
     },
     "execution_count": 76,
     "metadata": {},
     "output_type": "execute_result"
    }
   ],
   "source": [
    "chi_2 > chi_2_alpha"
   ]
  },
  {
   "cell_type": "markdown",
   "metadata": {
    "id": "hvHTGAOepsmN",
    "pycharm": {
     "name": "#%% md\n"
    }
   },
   "source": [
    "### <font color='green'>Conclusão: Com um nível de confiança de 95% rejeitamos a hipótese nula ($H_0$) e concluímos que as frequências observadas e esperadas são discrepantes, ou seja, a moeda não é honesta e precisa ser substituída.</font>"
   ]
  },
  {
   "cell_type": "markdown",
   "metadata": {
    "id": "VcqxUxnopsmN",
    "pycharm": {
     "name": "#%% md\n"
    }
   },
   "source": [
    "### <font color='red'>Critério do valor $p$</font>\n",
    "\n",
    "> ### Rejeitar $H_0$ se o valor $p\\leq\\alpha$"
   ]
  },
  {
   "cell_type": "code",
   "execution_count": 77,
   "metadata": {
    "id": "fP8w-6MZpsmO",
    "pycharm": {
     "name": "#%%\n"
    }
   },
   "outputs": [
    {
     "data": {
      "text/plain": "5.12"
     },
     "execution_count": 77,
     "metadata": {},
     "output_type": "execute_result"
    }
   ],
   "source": [
    "chi_2"
   ]
  },
  {
   "cell_type": "code",
   "execution_count": 78,
   "metadata": {
    "id": "LWCqrM2rpsmP",
    "pycharm": {
     "name": "#%%\n"
    }
   },
   "outputs": [
    {
     "data": {
      "text/plain": "2.262741699796952"
     },
     "execution_count": 78,
     "metadata": {},
     "output_type": "execute_result"
    }
   ],
   "source": [
    "raiz_chi_2 = np.sqrt(chi_2)\n",
    "raiz_chi_2"
   ]
  },
  {
   "cell_type": "code",
   "execution_count": 79,
   "metadata": {
    "id": "uFG6yszWpsmQ",
    "pycharm": {
     "name": "#%%\n"
    }
   },
   "outputs": [
    {
     "data": {
      "text/plain": "0.023651616655356"
     },
     "execution_count": 79,
     "metadata": {},
     "output_type": "execute_result"
    }
   ],
   "source": [
    "p_valor = chi.sf(raiz_chi_2, df=graus_de_liberdade)\n",
    "p_valor"
   ]
  },
  {
   "cell_type": "markdown",
   "metadata": {
    "id": "WpvavOAVpsmR",
    "pycharm": {
     "name": "#%% md\n"
    }
   },
   "source": [
    "https://docs.scipy.org/doc/scipy/reference/generated/scipy.stats.chisquare.html"
   ]
  },
  {
   "cell_type": "code",
   "execution_count": 80,
   "metadata": {
    "id": "Jc1RkAn6psmR",
    "pycharm": {
     "name": "#%%\n"
    }
   },
   "outputs": [],
   "source": [
    "from scipy.stats import chisquare"
   ]
  },
  {
   "cell_type": "code",
   "execution_count": 81,
   "metadata": {
    "id": "jjiIlObspsmR",
    "pycharm": {
     "name": "#%%\n"
    }
   },
   "outputs": [
    {
     "name": "stdout",
     "output_type": "stream",
     "text": [
      "5.12\n",
      "0.023651616655356\n"
     ]
    }
   ],
   "source": [
    "chi_2, p_valor = chisquare(f_obs=freq_observada, f_exp=freq_esperada)\n",
    "print(chi_2)\n",
    "print(p_valor)"
   ]
  },
  {
   "cell_type": "code",
   "execution_count": 82,
   "metadata": {
    "id": "reKBubKWpsmT",
    "pycharm": {
     "name": "#%%\n"
    }
   },
   "outputs": [
    {
     "data": {
      "text/plain": "True"
     },
     "execution_count": 82,
     "metadata": {},
     "output_type": "execute_result"
    }
   ],
   "source": [
    "p_valor <= significancia"
   ]
  },
  {
   "cell_type": "markdown",
   "metadata": {
    "id": "WlHU5fNNpsmU",
    "pycharm": {
     "name": "#%% md\n"
    }
   },
   "source": [
    "---"
   ]
  },
  {
   "cell_type": "markdown",
   "metadata": {
    "id": "PUXdBJ9FpsmU",
    "pycharm": {
     "name": "#%% md\n"
    }
   },
   "source": [
    "## <font color='red'>Problema</font>"
   ]
  },
  {
   "cell_type": "markdown",
   "metadata": {
    "id": "DXvJ2JnKpsmU",
    "pycharm": {
     "name": "#%% md\n"
    }
   },
   "source": [
    "Um novo tratamento para acabar com o hábito de fumar está sendo empregado em um grupo de **35 pacientes** voluntários. De cada paciente testado foram obtidas as informações de quantidades de cigarros consumidos por dia antes e depois do término do tratamento. Assumindo um **nível de confiança de 95%** é possível concluir que, depois da aplicação do novo tratamento, houve uma mudança no hábito de fumar do grupo de pacientes testado?"
   ]
  },
  {
   "cell_type": "markdown",
   "metadata": {
    "id": "BqE_PN7IpsmU",
    "pycharm": {
     "name": "#%% md\n"
    }
   },
   "source": [
    "## <font color=green>4.2 Teste Wilcoxon</font>\n",
    "### Comparação de duas populações - amostras dependentes\n",
    "***"
   ]
  },
  {
   "cell_type": "markdown",
   "metadata": {
    "id": "1MxFBYB-psmU",
    "pycharm": {
     "name": "#%% md\n"
    }
   },
   "source": [
    "Empregado quando se deseja comparar duas amostras relacionadas, amostras emparelhadas. Pode ser aplicado quando se deseja testar a diferença de duas condições, isto é, quando um mesmo elemento é submetido a duas medidas."
   ]
  },
  {
   "cell_type": "markdown",
   "metadata": {
    "id": "3H67Y7P7psmV",
    "pycharm": {
     "name": "#%% md\n"
    }
   },
   "source": [
    "### Dados do problema"
   ]
  },
  {
   "cell_type": "code",
   "execution_count": 83,
   "metadata": {
    "id": "JBh5-HrnpsmV",
    "pycharm": {
     "name": "#%%\n"
    }
   },
   "outputs": [],
   "source": [
    "fumo = {\n",
    "    'Antes': [39, 25, 24, 50, 13, 52, 21, 29, 10, 22, 50, 15, 36, 39, 52, 48, 24, 15, 40, 41, 17, 12, 21, 49, 14, 55, 46, 22, 28, 23, 37, 17, 31, 49, 49],\n",
    "    'Depois': [16, 8, 12, 0, 14, 16, 13, 12, 19, 17, 17, 2, 15, 10, 20, 13, 0, 4, 16, 18, 16, 16, 9, 9, 18, 4, 17, 0, 11, 14, 0, 19, 2, 9, 6]\n",
    "}\n",
    "significancia = 0.05\n",
    "confianca = 1 - significancia\n",
    "n = 35"
   ]
  },
  {
   "cell_type": "code",
   "execution_count": 84,
   "metadata": {
    "id": "AfEGWBp1psmW",
    "scrolled": true,
    "pycharm": {
     "name": "#%%\n"
    }
   },
   "outputs": [
    {
     "data": {
      "text/plain": "   Antes  Depois\n0     39      16\n1     25       8\n2     24      12\n3     50       0\n4     13      14",
      "text/html": "<div>\n<style scoped>\n    .dataframe tbody tr th:only-of-type {\n        vertical-align: middle;\n    }\n\n    .dataframe tbody tr th {\n        vertical-align: top;\n    }\n\n    .dataframe thead th {\n        text-align: right;\n    }\n</style>\n<table border=\"1\" class=\"dataframe\">\n  <thead>\n    <tr style=\"text-align: right;\">\n      <th></th>\n      <th>Antes</th>\n      <th>Depois</th>\n    </tr>\n  </thead>\n  <tbody>\n    <tr>\n      <th>0</th>\n      <td>39</td>\n      <td>16</td>\n    </tr>\n    <tr>\n      <th>1</th>\n      <td>25</td>\n      <td>8</td>\n    </tr>\n    <tr>\n      <th>2</th>\n      <td>24</td>\n      <td>12</td>\n    </tr>\n    <tr>\n      <th>3</th>\n      <td>50</td>\n      <td>0</td>\n    </tr>\n    <tr>\n      <th>4</th>\n      <td>13</td>\n      <td>14</td>\n    </tr>\n  </tbody>\n</table>\n</div>"
     },
     "execution_count": 84,
     "metadata": {},
     "output_type": "execute_result"
    }
   ],
   "source": [
    "fumo = pd.DataFrame(fumo)\n",
    "fumo.head()"
   ]
  },
  {
   "cell_type": "code",
   "execution_count": 85,
   "metadata": {
    "id": "oNQvLLR8psmX",
    "pycharm": {
     "name": "#%%\n"
    }
   },
   "outputs": [
    {
     "data": {
      "text/plain": "31.857142857142858"
     },
     "execution_count": 85,
     "metadata": {},
     "output_type": "execute_result"
    }
   ],
   "source": [
    "media_antes = fumo.Antes.mean()\n",
    "media_antes"
   ]
  },
  {
   "cell_type": "code",
   "execution_count": 86,
   "outputs": [
    {
     "data": {
      "text/plain": "11.2"
     },
     "execution_count": 86,
     "metadata": {},
     "output_type": "execute_result"
    }
   ],
   "source": [
    "media_depois = fumo.Depois.mean()\n",
    "media_depois"
   ],
   "metadata": {
    "collapsed": false,
    "pycharm": {
     "name": "#%%\n"
    }
   }
  },
  {
   "cell_type": "markdown",
   "metadata": {
    "id": "gvnOmelVpsma",
    "pycharm": {
     "name": "#%% md\n"
    }
   },
   "source": [
    "### **Passo 1** - formulação das hipóteses $H_0$ e $H_1$\n",
    "\n",
    "#### <font color='red'>Lembre-se, a hipótese nula sempre contém a alegação de igualdade</font>"
   ]
  },
  {
   "cell_type": "markdown",
   "metadata": {
    "id": "1AXOiD_epsma",
    "pycharm": {
     "name": "#%% md\n"
    }
   },
   "source": [
    "### $H_0: \\mu_{antes} = \\mu_{depois}$\n",
    "\n",
    "### $H_1: \\mu_{antes} > \\mu_{depois}$"
   ]
  },
  {
   "cell_type": "markdown",
   "metadata": {
    "id": "degUD6b2psmb",
    "pycharm": {
     "name": "#%% md\n"
    }
   },
   "source": [
    "---"
   ]
  },
  {
   "cell_type": "markdown",
   "metadata": {
    "id": "3jrV_c2Opsmb",
    "pycharm": {
     "name": "#%% md\n"
    }
   },
   "source": [
    "### **Passo 2** - escolha da distribuição amostral adequada"
   ]
  },
  {
   "cell_type": "markdown",
   "metadata": {
    "id": "vF-9xAPzpsmc",
    "pycharm": {
     "name": "#%% md\n"
    }
   },
   "source": [
    "### O tamanho da amostra é maior que 20?\n",
    "#### Resp.: Sim"
   ]
  },
  {
   "cell_type": "markdown",
   "metadata": {
    "id": "tvxXutrGpsmc",
    "pycharm": {
     "name": "#%% md\n"
    }
   },
   "source": [
    "---"
   ]
  },
  {
   "cell_type": "markdown",
   "metadata": {
    "id": "aihd76Wkpsmc",
    "pycharm": {
     "name": "#%% md\n"
    }
   },
   "source": [
    "### **Passo 3** - fixação da significância do teste ($\\alpha$)"
   ]
  },
  {
   "cell_type": "markdown",
   "metadata": {
    "id": "XF6AA8qLpsmc",
    "pycharm": {
     "name": "#%% md\n"
    }
   },
   "source": [
    "### Obtendo $z_{\\alpha/2}$"
   ]
  },
  {
   "cell_type": "code",
   "execution_count": 87,
   "metadata": {
    "id": "UsRrnCnXpsmd",
    "pycharm": {
     "name": "#%%\n"
    }
   },
   "outputs": [
    {
     "data": {
      "text/plain": "0.975"
     },
     "execution_count": 87,
     "metadata": {},
     "output_type": "execute_result"
    }
   ],
   "source": [
    "probabilidade = (0.5 + (confianca / 2)) # teste bicaudal porque tem igualdade na hipótese nula\n",
    "probabilidade"
   ]
  },
  {
   "cell_type": "code",
   "execution_count": 88,
   "metadata": {
    "id": "PTmwCAq9psme",
    "pycharm": {
     "name": "#%%\n"
    }
   },
   "outputs": [
    {
     "data": {
      "text/plain": "1.96"
     },
     "execution_count": 88,
     "metadata": {},
     "output_type": "execute_result"
    }
   ],
   "source": [
    "z_alpha_2 = norm.ppf(probabilidade)\n",
    "z_alpha_2.round(2)"
   ]
  },
  {
   "cell_type": "markdown",
   "metadata": {
    "id": "S2dqQHQJpsmf",
    "pycharm": {
     "name": "#%% md\n"
    }
   },
   "source": [
    "![Região de Aceitação](https://caelum-online-public.s3.amazonaws.com/1229-estatistica-parte3/01/img006.png)"
   ]
  },
  {
   "cell_type": "markdown",
   "metadata": {
    "id": "z0iEZ685psmf",
    "pycharm": {
     "name": "#%% md\n"
    }
   },
   "source": [
    "---"
   ]
  },
  {
   "cell_type": "markdown",
   "metadata": {
    "id": "zpYLf-dZpsmg",
    "pycharm": {
     "name": "#%% md\n"
    }
   },
   "source": [
    "### **Passo 4** - cálculo da estatística-teste e verificação desse valor com as áreas de aceitação e rejeição do teste\n",
    "\n",
    "# $$Z = \\frac{T - \\mu_T}{\\sigma_T}$$\n",
    "\n",
    "Onde\n",
    "\n",
    "## $T$ = menor das somas de postos de mesmo sinal\n",
    "\n",
    "# $$\\mu_T = \\frac{n(n+1)}{4}$$\n",
    "# $$\\sigma_T = \\sqrt{\\frac{n(n + 1)(2n + 1)}{24}}$$"
   ]
  },
  {
   "cell_type": "markdown",
   "metadata": {
    "id": "ZTY9IuIIpsmg",
    "pycharm": {
     "name": "#%% md\n"
    }
   },
   "source": [
    "### Construindo a tabela com os postos"
   ]
  },
  {
   "cell_type": "code",
   "execution_count": 89,
   "metadata": {
    "id": "o0fp6m3iqIlu",
    "pycharm": {
     "name": "#%%\n"
    }
   },
   "outputs": [
    {
     "data": {
      "text/plain": "    Antes  Depois\n0      39      16\n1      25       8\n2      24      12\n3      50       0\n4      13      14\n5      52      16\n6      21      13\n7      29      12\n8      10      19\n9      22      17\n10     50      17\n11     15       2\n12     36      15\n13     39      10\n14     52      20\n15     48      13\n16     24       0\n17     15       4\n18     40      16\n19     41      18\n20     17      16\n21     12      16\n22     21       9\n23     49       9\n24     14      18\n25     55       4\n26     46      17\n27     22       0\n28     28      11\n29     23      14\n30     37       0\n31     17      19\n32     31       2\n33     49       9\n34     49       6",
      "text/html": "<div>\n<style scoped>\n    .dataframe tbody tr th:only-of-type {\n        vertical-align: middle;\n    }\n\n    .dataframe tbody tr th {\n        vertical-align: top;\n    }\n\n    .dataframe thead th {\n        text-align: right;\n    }\n</style>\n<table border=\"1\" class=\"dataframe\">\n  <thead>\n    <tr style=\"text-align: right;\">\n      <th></th>\n      <th>Antes</th>\n      <th>Depois</th>\n    </tr>\n  </thead>\n  <tbody>\n    <tr>\n      <th>0</th>\n      <td>39</td>\n      <td>16</td>\n    </tr>\n    <tr>\n      <th>1</th>\n      <td>25</td>\n      <td>8</td>\n    </tr>\n    <tr>\n      <th>2</th>\n      <td>24</td>\n      <td>12</td>\n    </tr>\n    <tr>\n      <th>3</th>\n      <td>50</td>\n      <td>0</td>\n    </tr>\n    <tr>\n      <th>4</th>\n      <td>13</td>\n      <td>14</td>\n    </tr>\n    <tr>\n      <th>5</th>\n      <td>52</td>\n      <td>16</td>\n    </tr>\n    <tr>\n      <th>6</th>\n      <td>21</td>\n      <td>13</td>\n    </tr>\n    <tr>\n      <th>7</th>\n      <td>29</td>\n      <td>12</td>\n    </tr>\n    <tr>\n      <th>8</th>\n      <td>10</td>\n      <td>19</td>\n    </tr>\n    <tr>\n      <th>9</th>\n      <td>22</td>\n      <td>17</td>\n    </tr>\n    <tr>\n      <th>10</th>\n      <td>50</td>\n      <td>17</td>\n    </tr>\n    <tr>\n      <th>11</th>\n      <td>15</td>\n      <td>2</td>\n    </tr>\n    <tr>\n      <th>12</th>\n      <td>36</td>\n      <td>15</td>\n    </tr>\n    <tr>\n      <th>13</th>\n      <td>39</td>\n      <td>10</td>\n    </tr>\n    <tr>\n      <th>14</th>\n      <td>52</td>\n      <td>20</td>\n    </tr>\n    <tr>\n      <th>15</th>\n      <td>48</td>\n      <td>13</td>\n    </tr>\n    <tr>\n      <th>16</th>\n      <td>24</td>\n      <td>0</td>\n    </tr>\n    <tr>\n      <th>17</th>\n      <td>15</td>\n      <td>4</td>\n    </tr>\n    <tr>\n      <th>18</th>\n      <td>40</td>\n      <td>16</td>\n    </tr>\n    <tr>\n      <th>19</th>\n      <td>41</td>\n      <td>18</td>\n    </tr>\n    <tr>\n      <th>20</th>\n      <td>17</td>\n      <td>16</td>\n    </tr>\n    <tr>\n      <th>21</th>\n      <td>12</td>\n      <td>16</td>\n    </tr>\n    <tr>\n      <th>22</th>\n      <td>21</td>\n      <td>9</td>\n    </tr>\n    <tr>\n      <th>23</th>\n      <td>49</td>\n      <td>9</td>\n    </tr>\n    <tr>\n      <th>24</th>\n      <td>14</td>\n      <td>18</td>\n    </tr>\n    <tr>\n      <th>25</th>\n      <td>55</td>\n      <td>4</td>\n    </tr>\n    <tr>\n      <th>26</th>\n      <td>46</td>\n      <td>17</td>\n    </tr>\n    <tr>\n      <th>27</th>\n      <td>22</td>\n      <td>0</td>\n    </tr>\n    <tr>\n      <th>28</th>\n      <td>28</td>\n      <td>11</td>\n    </tr>\n    <tr>\n      <th>29</th>\n      <td>23</td>\n      <td>14</td>\n    </tr>\n    <tr>\n      <th>30</th>\n      <td>37</td>\n      <td>0</td>\n    </tr>\n    <tr>\n      <th>31</th>\n      <td>17</td>\n      <td>19</td>\n    </tr>\n    <tr>\n      <th>32</th>\n      <td>31</td>\n      <td>2</td>\n    </tr>\n    <tr>\n      <th>33</th>\n      <td>49</td>\n      <td>9</td>\n    </tr>\n    <tr>\n      <th>34</th>\n      <td>49</td>\n      <td>6</td>\n    </tr>\n  </tbody>\n</table>\n</div>"
     },
     "execution_count": 89,
     "metadata": {},
     "output_type": "execute_result"
    }
   ],
   "source": [
    "fumo"
   ]
  },
  {
   "cell_type": "code",
   "execution_count": 90,
   "metadata": {
    "id": "T4KmZijZotWj",
    "pycharm": {
     "name": "#%%\n"
    }
   },
   "outputs": [
    {
     "data": {
      "text/plain": "    Antes  Depois  Dif\n0      39      16  -23\n1      25       8  -17\n2      24      12  -12\n3      50       0  -50\n4      13      14    1\n5      52      16  -36\n6      21      13   -8\n7      29      12  -17\n8      10      19    9\n9      22      17   -5\n10     50      17  -33\n11     15       2  -13\n12     36      15  -21\n13     39      10  -29\n14     52      20  -32\n15     48      13  -35\n16     24       0  -24\n17     15       4  -11\n18     40      16  -24\n19     41      18  -23\n20     17      16   -1\n21     12      16    4\n22     21       9  -12\n23     49       9  -40\n24     14      18    4\n25     55       4  -51\n26     46      17  -29\n27     22       0  -22\n28     28      11  -17\n29     23      14   -9\n30     37       0  -37\n31     17      19    2\n32     31       2  -29\n33     49       9  -40\n34     49       6  -43",
      "text/html": "<div>\n<style scoped>\n    .dataframe tbody tr th:only-of-type {\n        vertical-align: middle;\n    }\n\n    .dataframe tbody tr th {\n        vertical-align: top;\n    }\n\n    .dataframe thead th {\n        text-align: right;\n    }\n</style>\n<table border=\"1\" class=\"dataframe\">\n  <thead>\n    <tr style=\"text-align: right;\">\n      <th></th>\n      <th>Antes</th>\n      <th>Depois</th>\n      <th>Dif</th>\n    </tr>\n  </thead>\n  <tbody>\n    <tr>\n      <th>0</th>\n      <td>39</td>\n      <td>16</td>\n      <td>-23</td>\n    </tr>\n    <tr>\n      <th>1</th>\n      <td>25</td>\n      <td>8</td>\n      <td>-17</td>\n    </tr>\n    <tr>\n      <th>2</th>\n      <td>24</td>\n      <td>12</td>\n      <td>-12</td>\n    </tr>\n    <tr>\n      <th>3</th>\n      <td>50</td>\n      <td>0</td>\n      <td>-50</td>\n    </tr>\n    <tr>\n      <th>4</th>\n      <td>13</td>\n      <td>14</td>\n      <td>1</td>\n    </tr>\n    <tr>\n      <th>5</th>\n      <td>52</td>\n      <td>16</td>\n      <td>-36</td>\n    </tr>\n    <tr>\n      <th>6</th>\n      <td>21</td>\n      <td>13</td>\n      <td>-8</td>\n    </tr>\n    <tr>\n      <th>7</th>\n      <td>29</td>\n      <td>12</td>\n      <td>-17</td>\n    </tr>\n    <tr>\n      <th>8</th>\n      <td>10</td>\n      <td>19</td>\n      <td>9</td>\n    </tr>\n    <tr>\n      <th>9</th>\n      <td>22</td>\n      <td>17</td>\n      <td>-5</td>\n    </tr>\n    <tr>\n      <th>10</th>\n      <td>50</td>\n      <td>17</td>\n      <td>-33</td>\n    </tr>\n    <tr>\n      <th>11</th>\n      <td>15</td>\n      <td>2</td>\n      <td>-13</td>\n    </tr>\n    <tr>\n      <th>12</th>\n      <td>36</td>\n      <td>15</td>\n      <td>-21</td>\n    </tr>\n    <tr>\n      <th>13</th>\n      <td>39</td>\n      <td>10</td>\n      <td>-29</td>\n    </tr>\n    <tr>\n      <th>14</th>\n      <td>52</td>\n      <td>20</td>\n      <td>-32</td>\n    </tr>\n    <tr>\n      <th>15</th>\n      <td>48</td>\n      <td>13</td>\n      <td>-35</td>\n    </tr>\n    <tr>\n      <th>16</th>\n      <td>24</td>\n      <td>0</td>\n      <td>-24</td>\n    </tr>\n    <tr>\n      <th>17</th>\n      <td>15</td>\n      <td>4</td>\n      <td>-11</td>\n    </tr>\n    <tr>\n      <th>18</th>\n      <td>40</td>\n      <td>16</td>\n      <td>-24</td>\n    </tr>\n    <tr>\n      <th>19</th>\n      <td>41</td>\n      <td>18</td>\n      <td>-23</td>\n    </tr>\n    <tr>\n      <th>20</th>\n      <td>17</td>\n      <td>16</td>\n      <td>-1</td>\n    </tr>\n    <tr>\n      <th>21</th>\n      <td>12</td>\n      <td>16</td>\n      <td>4</td>\n    </tr>\n    <tr>\n      <th>22</th>\n      <td>21</td>\n      <td>9</td>\n      <td>-12</td>\n    </tr>\n    <tr>\n      <th>23</th>\n      <td>49</td>\n      <td>9</td>\n      <td>-40</td>\n    </tr>\n    <tr>\n      <th>24</th>\n      <td>14</td>\n      <td>18</td>\n      <td>4</td>\n    </tr>\n    <tr>\n      <th>25</th>\n      <td>55</td>\n      <td>4</td>\n      <td>-51</td>\n    </tr>\n    <tr>\n      <th>26</th>\n      <td>46</td>\n      <td>17</td>\n      <td>-29</td>\n    </tr>\n    <tr>\n      <th>27</th>\n      <td>22</td>\n      <td>0</td>\n      <td>-22</td>\n    </tr>\n    <tr>\n      <th>28</th>\n      <td>28</td>\n      <td>11</td>\n      <td>-17</td>\n    </tr>\n    <tr>\n      <th>29</th>\n      <td>23</td>\n      <td>14</td>\n      <td>-9</td>\n    </tr>\n    <tr>\n      <th>30</th>\n      <td>37</td>\n      <td>0</td>\n      <td>-37</td>\n    </tr>\n    <tr>\n      <th>31</th>\n      <td>17</td>\n      <td>19</td>\n      <td>2</td>\n    </tr>\n    <tr>\n      <th>32</th>\n      <td>31</td>\n      <td>2</td>\n      <td>-29</td>\n    </tr>\n    <tr>\n      <th>33</th>\n      <td>49</td>\n      <td>9</td>\n      <td>-40</td>\n    </tr>\n    <tr>\n      <th>34</th>\n      <td>49</td>\n      <td>6</td>\n      <td>-43</td>\n    </tr>\n  </tbody>\n</table>\n</div>"
     },
     "execution_count": 90,
     "metadata": {},
     "output_type": "execute_result"
    }
   ],
   "source": [
    "fumo['Dif'] = fumo.Depois - fumo.Antes\n",
    "fumo"
   ]
  },
  {
   "cell_type": "code",
   "execution_count": 91,
   "metadata": {
    "id": "c4fvYVrdotTL",
    "pycharm": {
     "name": "#%%\n"
    }
   },
   "outputs": [
    {
     "data": {
      "text/plain": "    Antes  Depois  Dif  |Dif|\n0      39      16  -23     23\n1      25       8  -17     17\n2      24      12  -12     12\n3      50       0  -50     50\n4      13      14    1      1\n5      52      16  -36     36\n6      21      13   -8      8\n7      29      12  -17     17\n8      10      19    9      9\n9      22      17   -5      5\n10     50      17  -33     33\n11     15       2  -13     13\n12     36      15  -21     21\n13     39      10  -29     29\n14     52      20  -32     32\n15     48      13  -35     35\n16     24       0  -24     24\n17     15       4  -11     11\n18     40      16  -24     24\n19     41      18  -23     23\n20     17      16   -1      1\n21     12      16    4      4\n22     21       9  -12     12\n23     49       9  -40     40\n24     14      18    4      4\n25     55       4  -51     51\n26     46      17  -29     29\n27     22       0  -22     22\n28     28      11  -17     17\n29     23      14   -9      9\n30     37       0  -37     37\n31     17      19    2      2\n32     31       2  -29     29\n33     49       9  -40     40\n34     49       6  -43     43",
      "text/html": "<div>\n<style scoped>\n    .dataframe tbody tr th:only-of-type {\n        vertical-align: middle;\n    }\n\n    .dataframe tbody tr th {\n        vertical-align: top;\n    }\n\n    .dataframe thead th {\n        text-align: right;\n    }\n</style>\n<table border=\"1\" class=\"dataframe\">\n  <thead>\n    <tr style=\"text-align: right;\">\n      <th></th>\n      <th>Antes</th>\n      <th>Depois</th>\n      <th>Dif</th>\n      <th>|Dif|</th>\n    </tr>\n  </thead>\n  <tbody>\n    <tr>\n      <th>0</th>\n      <td>39</td>\n      <td>16</td>\n      <td>-23</td>\n      <td>23</td>\n    </tr>\n    <tr>\n      <th>1</th>\n      <td>25</td>\n      <td>8</td>\n      <td>-17</td>\n      <td>17</td>\n    </tr>\n    <tr>\n      <th>2</th>\n      <td>24</td>\n      <td>12</td>\n      <td>-12</td>\n      <td>12</td>\n    </tr>\n    <tr>\n      <th>3</th>\n      <td>50</td>\n      <td>0</td>\n      <td>-50</td>\n      <td>50</td>\n    </tr>\n    <tr>\n      <th>4</th>\n      <td>13</td>\n      <td>14</td>\n      <td>1</td>\n      <td>1</td>\n    </tr>\n    <tr>\n      <th>5</th>\n      <td>52</td>\n      <td>16</td>\n      <td>-36</td>\n      <td>36</td>\n    </tr>\n    <tr>\n      <th>6</th>\n      <td>21</td>\n      <td>13</td>\n      <td>-8</td>\n      <td>8</td>\n    </tr>\n    <tr>\n      <th>7</th>\n      <td>29</td>\n      <td>12</td>\n      <td>-17</td>\n      <td>17</td>\n    </tr>\n    <tr>\n      <th>8</th>\n      <td>10</td>\n      <td>19</td>\n      <td>9</td>\n      <td>9</td>\n    </tr>\n    <tr>\n      <th>9</th>\n      <td>22</td>\n      <td>17</td>\n      <td>-5</td>\n      <td>5</td>\n    </tr>\n    <tr>\n      <th>10</th>\n      <td>50</td>\n      <td>17</td>\n      <td>-33</td>\n      <td>33</td>\n    </tr>\n    <tr>\n      <th>11</th>\n      <td>15</td>\n      <td>2</td>\n      <td>-13</td>\n      <td>13</td>\n    </tr>\n    <tr>\n      <th>12</th>\n      <td>36</td>\n      <td>15</td>\n      <td>-21</td>\n      <td>21</td>\n    </tr>\n    <tr>\n      <th>13</th>\n      <td>39</td>\n      <td>10</td>\n      <td>-29</td>\n      <td>29</td>\n    </tr>\n    <tr>\n      <th>14</th>\n      <td>52</td>\n      <td>20</td>\n      <td>-32</td>\n      <td>32</td>\n    </tr>\n    <tr>\n      <th>15</th>\n      <td>48</td>\n      <td>13</td>\n      <td>-35</td>\n      <td>35</td>\n    </tr>\n    <tr>\n      <th>16</th>\n      <td>24</td>\n      <td>0</td>\n      <td>-24</td>\n      <td>24</td>\n    </tr>\n    <tr>\n      <th>17</th>\n      <td>15</td>\n      <td>4</td>\n      <td>-11</td>\n      <td>11</td>\n    </tr>\n    <tr>\n      <th>18</th>\n      <td>40</td>\n      <td>16</td>\n      <td>-24</td>\n      <td>24</td>\n    </tr>\n    <tr>\n      <th>19</th>\n      <td>41</td>\n      <td>18</td>\n      <td>-23</td>\n      <td>23</td>\n    </tr>\n    <tr>\n      <th>20</th>\n      <td>17</td>\n      <td>16</td>\n      <td>-1</td>\n      <td>1</td>\n    </tr>\n    <tr>\n      <th>21</th>\n      <td>12</td>\n      <td>16</td>\n      <td>4</td>\n      <td>4</td>\n    </tr>\n    <tr>\n      <th>22</th>\n      <td>21</td>\n      <td>9</td>\n      <td>-12</td>\n      <td>12</td>\n    </tr>\n    <tr>\n      <th>23</th>\n      <td>49</td>\n      <td>9</td>\n      <td>-40</td>\n      <td>40</td>\n    </tr>\n    <tr>\n      <th>24</th>\n      <td>14</td>\n      <td>18</td>\n      <td>4</td>\n      <td>4</td>\n    </tr>\n    <tr>\n      <th>25</th>\n      <td>55</td>\n      <td>4</td>\n      <td>-51</td>\n      <td>51</td>\n    </tr>\n    <tr>\n      <th>26</th>\n      <td>46</td>\n      <td>17</td>\n      <td>-29</td>\n      <td>29</td>\n    </tr>\n    <tr>\n      <th>27</th>\n      <td>22</td>\n      <td>0</td>\n      <td>-22</td>\n      <td>22</td>\n    </tr>\n    <tr>\n      <th>28</th>\n      <td>28</td>\n      <td>11</td>\n      <td>-17</td>\n      <td>17</td>\n    </tr>\n    <tr>\n      <th>29</th>\n      <td>23</td>\n      <td>14</td>\n      <td>-9</td>\n      <td>9</td>\n    </tr>\n    <tr>\n      <th>30</th>\n      <td>37</td>\n      <td>0</td>\n      <td>-37</td>\n      <td>37</td>\n    </tr>\n    <tr>\n      <th>31</th>\n      <td>17</td>\n      <td>19</td>\n      <td>2</td>\n      <td>2</td>\n    </tr>\n    <tr>\n      <th>32</th>\n      <td>31</td>\n      <td>2</td>\n      <td>-29</td>\n      <td>29</td>\n    </tr>\n    <tr>\n      <th>33</th>\n      <td>49</td>\n      <td>9</td>\n      <td>-40</td>\n      <td>40</td>\n    </tr>\n    <tr>\n      <th>34</th>\n      <td>49</td>\n      <td>6</td>\n      <td>-43</td>\n      <td>43</td>\n    </tr>\n  </tbody>\n</table>\n</div>"
     },
     "execution_count": 91,
     "metadata": {},
     "output_type": "execute_result"
    }
   ],
   "source": [
    "fumo['|Dif|'] = fumo.Dif.abs()\n",
    "fumo"
   ]
  },
  {
   "cell_type": "code",
   "execution_count": 92,
   "metadata": {
    "id": "hwqK3Uu7otP7",
    "pycharm": {
     "name": "#%%\n"
    }
   },
   "outputs": [
    {
     "data": {
      "text/plain": "    Antes  Depois  Dif  |Dif|\n4      13      14    1      1\n20     17      16   -1      1\n31     17      19    2      2\n21     12      16    4      4\n24     14      18    4      4\n9      22      17   -5      5\n6      21      13   -8      8\n29     23      14   -9      9\n8      10      19    9      9\n17     15       4  -11     11\n2      24      12  -12     12\n22     21       9  -12     12\n11     15       2  -13     13\n28     28      11  -17     17\n1      25       8  -17     17\n7      29      12  -17     17\n12     36      15  -21     21\n27     22       0  -22     22\n19     41      18  -23     23\n0      39      16  -23     23\n16     24       0  -24     24\n18     40      16  -24     24\n26     46      17  -29     29\n13     39      10  -29     29\n32     31       2  -29     29\n14     52      20  -32     32\n10     50      17  -33     33\n15     48      13  -35     35\n5      52      16  -36     36\n30     37       0  -37     37\n33     49       9  -40     40\n23     49       9  -40     40\n34     49       6  -43     43\n3      50       0  -50     50\n25     55       4  -51     51",
      "text/html": "<div>\n<style scoped>\n    .dataframe tbody tr th:only-of-type {\n        vertical-align: middle;\n    }\n\n    .dataframe tbody tr th {\n        vertical-align: top;\n    }\n\n    .dataframe thead th {\n        text-align: right;\n    }\n</style>\n<table border=\"1\" class=\"dataframe\">\n  <thead>\n    <tr style=\"text-align: right;\">\n      <th></th>\n      <th>Antes</th>\n      <th>Depois</th>\n      <th>Dif</th>\n      <th>|Dif|</th>\n    </tr>\n  </thead>\n  <tbody>\n    <tr>\n      <th>4</th>\n      <td>13</td>\n      <td>14</td>\n      <td>1</td>\n      <td>1</td>\n    </tr>\n    <tr>\n      <th>20</th>\n      <td>17</td>\n      <td>16</td>\n      <td>-1</td>\n      <td>1</td>\n    </tr>\n    <tr>\n      <th>31</th>\n      <td>17</td>\n      <td>19</td>\n      <td>2</td>\n      <td>2</td>\n    </tr>\n    <tr>\n      <th>21</th>\n      <td>12</td>\n      <td>16</td>\n      <td>4</td>\n      <td>4</td>\n    </tr>\n    <tr>\n      <th>24</th>\n      <td>14</td>\n      <td>18</td>\n      <td>4</td>\n      <td>4</td>\n    </tr>\n    <tr>\n      <th>9</th>\n      <td>22</td>\n      <td>17</td>\n      <td>-5</td>\n      <td>5</td>\n    </tr>\n    <tr>\n      <th>6</th>\n      <td>21</td>\n      <td>13</td>\n      <td>-8</td>\n      <td>8</td>\n    </tr>\n    <tr>\n      <th>29</th>\n      <td>23</td>\n      <td>14</td>\n      <td>-9</td>\n      <td>9</td>\n    </tr>\n    <tr>\n      <th>8</th>\n      <td>10</td>\n      <td>19</td>\n      <td>9</td>\n      <td>9</td>\n    </tr>\n    <tr>\n      <th>17</th>\n      <td>15</td>\n      <td>4</td>\n      <td>-11</td>\n      <td>11</td>\n    </tr>\n    <tr>\n      <th>2</th>\n      <td>24</td>\n      <td>12</td>\n      <td>-12</td>\n      <td>12</td>\n    </tr>\n    <tr>\n      <th>22</th>\n      <td>21</td>\n      <td>9</td>\n      <td>-12</td>\n      <td>12</td>\n    </tr>\n    <tr>\n      <th>11</th>\n      <td>15</td>\n      <td>2</td>\n      <td>-13</td>\n      <td>13</td>\n    </tr>\n    <tr>\n      <th>28</th>\n      <td>28</td>\n      <td>11</td>\n      <td>-17</td>\n      <td>17</td>\n    </tr>\n    <tr>\n      <th>1</th>\n      <td>25</td>\n      <td>8</td>\n      <td>-17</td>\n      <td>17</td>\n    </tr>\n    <tr>\n      <th>7</th>\n      <td>29</td>\n      <td>12</td>\n      <td>-17</td>\n      <td>17</td>\n    </tr>\n    <tr>\n      <th>12</th>\n      <td>36</td>\n      <td>15</td>\n      <td>-21</td>\n      <td>21</td>\n    </tr>\n    <tr>\n      <th>27</th>\n      <td>22</td>\n      <td>0</td>\n      <td>-22</td>\n      <td>22</td>\n    </tr>\n    <tr>\n      <th>19</th>\n      <td>41</td>\n      <td>18</td>\n      <td>-23</td>\n      <td>23</td>\n    </tr>\n    <tr>\n      <th>0</th>\n      <td>39</td>\n      <td>16</td>\n      <td>-23</td>\n      <td>23</td>\n    </tr>\n    <tr>\n      <th>16</th>\n      <td>24</td>\n      <td>0</td>\n      <td>-24</td>\n      <td>24</td>\n    </tr>\n    <tr>\n      <th>18</th>\n      <td>40</td>\n      <td>16</td>\n      <td>-24</td>\n      <td>24</td>\n    </tr>\n    <tr>\n      <th>26</th>\n      <td>46</td>\n      <td>17</td>\n      <td>-29</td>\n      <td>29</td>\n    </tr>\n    <tr>\n      <th>13</th>\n      <td>39</td>\n      <td>10</td>\n      <td>-29</td>\n      <td>29</td>\n    </tr>\n    <tr>\n      <th>32</th>\n      <td>31</td>\n      <td>2</td>\n      <td>-29</td>\n      <td>29</td>\n    </tr>\n    <tr>\n      <th>14</th>\n      <td>52</td>\n      <td>20</td>\n      <td>-32</td>\n      <td>32</td>\n    </tr>\n    <tr>\n      <th>10</th>\n      <td>50</td>\n      <td>17</td>\n      <td>-33</td>\n      <td>33</td>\n    </tr>\n    <tr>\n      <th>15</th>\n      <td>48</td>\n      <td>13</td>\n      <td>-35</td>\n      <td>35</td>\n    </tr>\n    <tr>\n      <th>5</th>\n      <td>52</td>\n      <td>16</td>\n      <td>-36</td>\n      <td>36</td>\n    </tr>\n    <tr>\n      <th>30</th>\n      <td>37</td>\n      <td>0</td>\n      <td>-37</td>\n      <td>37</td>\n    </tr>\n    <tr>\n      <th>33</th>\n      <td>49</td>\n      <td>9</td>\n      <td>-40</td>\n      <td>40</td>\n    </tr>\n    <tr>\n      <th>23</th>\n      <td>49</td>\n      <td>9</td>\n      <td>-40</td>\n      <td>40</td>\n    </tr>\n    <tr>\n      <th>34</th>\n      <td>49</td>\n      <td>6</td>\n      <td>-43</td>\n      <td>43</td>\n    </tr>\n    <tr>\n      <th>3</th>\n      <td>50</td>\n      <td>0</td>\n      <td>-50</td>\n      <td>50</td>\n    </tr>\n    <tr>\n      <th>25</th>\n      <td>55</td>\n      <td>4</td>\n      <td>-51</td>\n      <td>51</td>\n    </tr>\n  </tbody>\n</table>\n</div>"
     },
     "execution_count": 92,
     "metadata": {},
     "output_type": "execute_result"
    }
   ],
   "source": [
    "fumo.sort_values(by=\"|Dif|\", inplace=True)\n",
    "fumo"
   ]
  },
  {
   "cell_type": "code",
   "execution_count": 93,
   "metadata": {
    "id": "K_JKSwLHotMx",
    "pycharm": {
     "name": "#%%\n"
    }
   },
   "outputs": [
    {
     "data": {
      "text/plain": "    Antes  Depois  Dif  |Dif|  Posto\n4      13      14    1      1      1\n20     17      16   -1      1      2\n31     17      19    2      2      3\n21     12      16    4      4      4\n24     14      18    4      4      5\n9      22      17   -5      5      6\n6      21      13   -8      8      7\n29     23      14   -9      9      8\n8      10      19    9      9      9\n17     15       4  -11     11     10\n2      24      12  -12     12     11\n22     21       9  -12     12     12\n11     15       2  -13     13     13\n28     28      11  -17     17     14\n1      25       8  -17     17     15\n7      29      12  -17     17     16\n12     36      15  -21     21     17\n27     22       0  -22     22     18\n19     41      18  -23     23     19\n0      39      16  -23     23     20\n16     24       0  -24     24     21\n18     40      16  -24     24     22\n26     46      17  -29     29     23\n13     39      10  -29     29     24\n32     31       2  -29     29     25\n14     52      20  -32     32     26\n10     50      17  -33     33     27\n15     48      13  -35     35     28\n5      52      16  -36     36     29\n30     37       0  -37     37     30\n33     49       9  -40     40     31\n23     49       9  -40     40     32\n34     49       6  -43     43     33\n3      50       0  -50     50     34\n25     55       4  -51     51     35",
      "text/html": "<div>\n<style scoped>\n    .dataframe tbody tr th:only-of-type {\n        vertical-align: middle;\n    }\n\n    .dataframe tbody tr th {\n        vertical-align: top;\n    }\n\n    .dataframe thead th {\n        text-align: right;\n    }\n</style>\n<table border=\"1\" class=\"dataframe\">\n  <thead>\n    <tr style=\"text-align: right;\">\n      <th></th>\n      <th>Antes</th>\n      <th>Depois</th>\n      <th>Dif</th>\n      <th>|Dif|</th>\n      <th>Posto</th>\n    </tr>\n  </thead>\n  <tbody>\n    <tr>\n      <th>4</th>\n      <td>13</td>\n      <td>14</td>\n      <td>1</td>\n      <td>1</td>\n      <td>1</td>\n    </tr>\n    <tr>\n      <th>20</th>\n      <td>17</td>\n      <td>16</td>\n      <td>-1</td>\n      <td>1</td>\n      <td>2</td>\n    </tr>\n    <tr>\n      <th>31</th>\n      <td>17</td>\n      <td>19</td>\n      <td>2</td>\n      <td>2</td>\n      <td>3</td>\n    </tr>\n    <tr>\n      <th>21</th>\n      <td>12</td>\n      <td>16</td>\n      <td>4</td>\n      <td>4</td>\n      <td>4</td>\n    </tr>\n    <tr>\n      <th>24</th>\n      <td>14</td>\n      <td>18</td>\n      <td>4</td>\n      <td>4</td>\n      <td>5</td>\n    </tr>\n    <tr>\n      <th>9</th>\n      <td>22</td>\n      <td>17</td>\n      <td>-5</td>\n      <td>5</td>\n      <td>6</td>\n    </tr>\n    <tr>\n      <th>6</th>\n      <td>21</td>\n      <td>13</td>\n      <td>-8</td>\n      <td>8</td>\n      <td>7</td>\n    </tr>\n    <tr>\n      <th>29</th>\n      <td>23</td>\n      <td>14</td>\n      <td>-9</td>\n      <td>9</td>\n      <td>8</td>\n    </tr>\n    <tr>\n      <th>8</th>\n      <td>10</td>\n      <td>19</td>\n      <td>9</td>\n      <td>9</td>\n      <td>9</td>\n    </tr>\n    <tr>\n      <th>17</th>\n      <td>15</td>\n      <td>4</td>\n      <td>-11</td>\n      <td>11</td>\n      <td>10</td>\n    </tr>\n    <tr>\n      <th>2</th>\n      <td>24</td>\n      <td>12</td>\n      <td>-12</td>\n      <td>12</td>\n      <td>11</td>\n    </tr>\n    <tr>\n      <th>22</th>\n      <td>21</td>\n      <td>9</td>\n      <td>-12</td>\n      <td>12</td>\n      <td>12</td>\n    </tr>\n    <tr>\n      <th>11</th>\n      <td>15</td>\n      <td>2</td>\n      <td>-13</td>\n      <td>13</td>\n      <td>13</td>\n    </tr>\n    <tr>\n      <th>28</th>\n      <td>28</td>\n      <td>11</td>\n      <td>-17</td>\n      <td>17</td>\n      <td>14</td>\n    </tr>\n    <tr>\n      <th>1</th>\n      <td>25</td>\n      <td>8</td>\n      <td>-17</td>\n      <td>17</td>\n      <td>15</td>\n    </tr>\n    <tr>\n      <th>7</th>\n      <td>29</td>\n      <td>12</td>\n      <td>-17</td>\n      <td>17</td>\n      <td>16</td>\n    </tr>\n    <tr>\n      <th>12</th>\n      <td>36</td>\n      <td>15</td>\n      <td>-21</td>\n      <td>21</td>\n      <td>17</td>\n    </tr>\n    <tr>\n      <th>27</th>\n      <td>22</td>\n      <td>0</td>\n      <td>-22</td>\n      <td>22</td>\n      <td>18</td>\n    </tr>\n    <tr>\n      <th>19</th>\n      <td>41</td>\n      <td>18</td>\n      <td>-23</td>\n      <td>23</td>\n      <td>19</td>\n    </tr>\n    <tr>\n      <th>0</th>\n      <td>39</td>\n      <td>16</td>\n      <td>-23</td>\n      <td>23</td>\n      <td>20</td>\n    </tr>\n    <tr>\n      <th>16</th>\n      <td>24</td>\n      <td>0</td>\n      <td>-24</td>\n      <td>24</td>\n      <td>21</td>\n    </tr>\n    <tr>\n      <th>18</th>\n      <td>40</td>\n      <td>16</td>\n      <td>-24</td>\n      <td>24</td>\n      <td>22</td>\n    </tr>\n    <tr>\n      <th>26</th>\n      <td>46</td>\n      <td>17</td>\n      <td>-29</td>\n      <td>29</td>\n      <td>23</td>\n    </tr>\n    <tr>\n      <th>13</th>\n      <td>39</td>\n      <td>10</td>\n      <td>-29</td>\n      <td>29</td>\n      <td>24</td>\n    </tr>\n    <tr>\n      <th>32</th>\n      <td>31</td>\n      <td>2</td>\n      <td>-29</td>\n      <td>29</td>\n      <td>25</td>\n    </tr>\n    <tr>\n      <th>14</th>\n      <td>52</td>\n      <td>20</td>\n      <td>-32</td>\n      <td>32</td>\n      <td>26</td>\n    </tr>\n    <tr>\n      <th>10</th>\n      <td>50</td>\n      <td>17</td>\n      <td>-33</td>\n      <td>33</td>\n      <td>27</td>\n    </tr>\n    <tr>\n      <th>15</th>\n      <td>48</td>\n      <td>13</td>\n      <td>-35</td>\n      <td>35</td>\n      <td>28</td>\n    </tr>\n    <tr>\n      <th>5</th>\n      <td>52</td>\n      <td>16</td>\n      <td>-36</td>\n      <td>36</td>\n      <td>29</td>\n    </tr>\n    <tr>\n      <th>30</th>\n      <td>37</td>\n      <td>0</td>\n      <td>-37</td>\n      <td>37</td>\n      <td>30</td>\n    </tr>\n    <tr>\n      <th>33</th>\n      <td>49</td>\n      <td>9</td>\n      <td>-40</td>\n      <td>40</td>\n      <td>31</td>\n    </tr>\n    <tr>\n      <th>23</th>\n      <td>49</td>\n      <td>9</td>\n      <td>-40</td>\n      <td>40</td>\n      <td>32</td>\n    </tr>\n    <tr>\n      <th>34</th>\n      <td>49</td>\n      <td>6</td>\n      <td>-43</td>\n      <td>43</td>\n      <td>33</td>\n    </tr>\n    <tr>\n      <th>3</th>\n      <td>50</td>\n      <td>0</td>\n      <td>-50</td>\n      <td>50</td>\n      <td>34</td>\n    </tr>\n    <tr>\n      <th>25</th>\n      <td>55</td>\n      <td>4</td>\n      <td>-51</td>\n      <td>51</td>\n      <td>35</td>\n    </tr>\n  </tbody>\n</table>\n</div>"
     },
     "execution_count": 93,
     "metadata": {},
     "output_type": "execute_result"
    }
   ],
   "source": [
    "fumo['Posto'] = range(1, len(fumo) + 1)\n",
    "fumo"
   ]
  },
  {
   "cell_type": "code",
   "execution_count": 94,
   "metadata": {
    "id": "h8TXHLh1otJh",
    "pycharm": {
     "name": "#%%\n"
    }
   },
   "outputs": [
    {
     "data": {
      "text/plain": "       Posto\n|Dif|       \n1        1.5\n2        3.0\n4        4.5\n5        6.0\n8        7.0\n9        8.5\n11      10.0\n12      11.5\n13      13.0\n17      15.0\n21      17.0\n22      18.0\n23      19.5\n24      21.5\n29      24.0\n32      26.0\n33      27.0\n35      28.0\n36      29.0\n37      30.0\n40      31.5\n43      33.0\n50      34.0\n51      35.0",
      "text/html": "<div>\n<style scoped>\n    .dataframe tbody tr th:only-of-type {\n        vertical-align: middle;\n    }\n\n    .dataframe tbody tr th {\n        vertical-align: top;\n    }\n\n    .dataframe thead th {\n        text-align: right;\n    }\n</style>\n<table border=\"1\" class=\"dataframe\">\n  <thead>\n    <tr style=\"text-align: right;\">\n      <th></th>\n      <th>Posto</th>\n    </tr>\n    <tr>\n      <th>|Dif|</th>\n      <th></th>\n    </tr>\n  </thead>\n  <tbody>\n    <tr>\n      <th>1</th>\n      <td>1.5</td>\n    </tr>\n    <tr>\n      <th>2</th>\n      <td>3.0</td>\n    </tr>\n    <tr>\n      <th>4</th>\n      <td>4.5</td>\n    </tr>\n    <tr>\n      <th>5</th>\n      <td>6.0</td>\n    </tr>\n    <tr>\n      <th>8</th>\n      <td>7.0</td>\n    </tr>\n    <tr>\n      <th>9</th>\n      <td>8.5</td>\n    </tr>\n    <tr>\n      <th>11</th>\n      <td>10.0</td>\n    </tr>\n    <tr>\n      <th>12</th>\n      <td>11.5</td>\n    </tr>\n    <tr>\n      <th>13</th>\n      <td>13.0</td>\n    </tr>\n    <tr>\n      <th>17</th>\n      <td>15.0</td>\n    </tr>\n    <tr>\n      <th>21</th>\n      <td>17.0</td>\n    </tr>\n    <tr>\n      <th>22</th>\n      <td>18.0</td>\n    </tr>\n    <tr>\n      <th>23</th>\n      <td>19.5</td>\n    </tr>\n    <tr>\n      <th>24</th>\n      <td>21.5</td>\n    </tr>\n    <tr>\n      <th>29</th>\n      <td>24.0</td>\n    </tr>\n    <tr>\n      <th>32</th>\n      <td>26.0</td>\n    </tr>\n    <tr>\n      <th>33</th>\n      <td>27.0</td>\n    </tr>\n    <tr>\n      <th>35</th>\n      <td>28.0</td>\n    </tr>\n    <tr>\n      <th>36</th>\n      <td>29.0</td>\n    </tr>\n    <tr>\n      <th>37</th>\n      <td>30.0</td>\n    </tr>\n    <tr>\n      <th>40</th>\n      <td>31.5</td>\n    </tr>\n    <tr>\n      <th>43</th>\n      <td>33.0</td>\n    </tr>\n    <tr>\n      <th>50</th>\n      <td>34.0</td>\n    </tr>\n    <tr>\n      <th>51</th>\n      <td>35.0</td>\n    </tr>\n  </tbody>\n</table>\n</div>"
     },
     "execution_count": 94,
     "metadata": {},
     "output_type": "execute_result"
    }
   ],
   "source": [
    "posto = fumo[['|Dif|', 'Posto']].groupby(['|Dif|']).mean()\n",
    "posto"
   ]
  },
  {
   "cell_type": "code",
   "execution_count": 95,
   "metadata": {
    "id": "fjX9_aRIotGD",
    "pycharm": {
     "name": "#%%\n"
    }
   },
   "outputs": [
    {
     "data": {
      "text/plain": "    |Dif|  Posto\n0       1    1.5\n1       2    3.0\n2       4    4.5\n3       5    6.0\n4       8    7.0\n5       9    8.5\n6      11   10.0\n7      12   11.5\n8      13   13.0\n9      17   15.0\n10     21   17.0\n11     22   18.0\n12     23   19.5\n13     24   21.5\n14     29   24.0\n15     32   26.0\n16     33   27.0\n17     35   28.0\n18     36   29.0\n19     37   30.0\n20     40   31.5\n21     43   33.0\n22     50   34.0\n23     51   35.0",
      "text/html": "<div>\n<style scoped>\n    .dataframe tbody tr th:only-of-type {\n        vertical-align: middle;\n    }\n\n    .dataframe tbody tr th {\n        vertical-align: top;\n    }\n\n    .dataframe thead th {\n        text-align: right;\n    }\n</style>\n<table border=\"1\" class=\"dataframe\">\n  <thead>\n    <tr style=\"text-align: right;\">\n      <th></th>\n      <th>|Dif|</th>\n      <th>Posto</th>\n    </tr>\n  </thead>\n  <tbody>\n    <tr>\n      <th>0</th>\n      <td>1</td>\n      <td>1.5</td>\n    </tr>\n    <tr>\n      <th>1</th>\n      <td>2</td>\n      <td>3.0</td>\n    </tr>\n    <tr>\n      <th>2</th>\n      <td>4</td>\n      <td>4.5</td>\n    </tr>\n    <tr>\n      <th>3</th>\n      <td>5</td>\n      <td>6.0</td>\n    </tr>\n    <tr>\n      <th>4</th>\n      <td>8</td>\n      <td>7.0</td>\n    </tr>\n    <tr>\n      <th>5</th>\n      <td>9</td>\n      <td>8.5</td>\n    </tr>\n    <tr>\n      <th>6</th>\n      <td>11</td>\n      <td>10.0</td>\n    </tr>\n    <tr>\n      <th>7</th>\n      <td>12</td>\n      <td>11.5</td>\n    </tr>\n    <tr>\n      <th>8</th>\n      <td>13</td>\n      <td>13.0</td>\n    </tr>\n    <tr>\n      <th>9</th>\n      <td>17</td>\n      <td>15.0</td>\n    </tr>\n    <tr>\n      <th>10</th>\n      <td>21</td>\n      <td>17.0</td>\n    </tr>\n    <tr>\n      <th>11</th>\n      <td>22</td>\n      <td>18.0</td>\n    </tr>\n    <tr>\n      <th>12</th>\n      <td>23</td>\n      <td>19.5</td>\n    </tr>\n    <tr>\n      <th>13</th>\n      <td>24</td>\n      <td>21.5</td>\n    </tr>\n    <tr>\n      <th>14</th>\n      <td>29</td>\n      <td>24.0</td>\n    </tr>\n    <tr>\n      <th>15</th>\n      <td>32</td>\n      <td>26.0</td>\n    </tr>\n    <tr>\n      <th>16</th>\n      <td>33</td>\n      <td>27.0</td>\n    </tr>\n    <tr>\n      <th>17</th>\n      <td>35</td>\n      <td>28.0</td>\n    </tr>\n    <tr>\n      <th>18</th>\n      <td>36</td>\n      <td>29.0</td>\n    </tr>\n    <tr>\n      <th>19</th>\n      <td>37</td>\n      <td>30.0</td>\n    </tr>\n    <tr>\n      <th>20</th>\n      <td>40</td>\n      <td>31.5</td>\n    </tr>\n    <tr>\n      <th>21</th>\n      <td>43</td>\n      <td>33.0</td>\n    </tr>\n    <tr>\n      <th>22</th>\n      <td>50</td>\n      <td>34.0</td>\n    </tr>\n    <tr>\n      <th>23</th>\n      <td>51</td>\n      <td>35.0</td>\n    </tr>\n  </tbody>\n</table>\n</div>"
     },
     "execution_count": 95,
     "metadata": {},
     "output_type": "execute_result"
    }
   ],
   "source": [
    "posto.reset_index(inplace=True)\n",
    "posto"
   ]
  },
  {
   "cell_type": "code",
   "execution_count": 96,
   "metadata": {
    "id": "uk79v15dotCn",
    "pycharm": {
     "name": "#%%\n"
    }
   },
   "outputs": [
    {
     "data": {
      "text/plain": "    Antes  Depois  Dif  |Dif|\n4      13      14    1      1\n20     17      16   -1      1\n31     17      19    2      2\n21     12      16    4      4\n24     14      18    4      4\n9      22      17   -5      5\n6      21      13   -8      8\n29     23      14   -9      9\n8      10      19    9      9\n17     15       4  -11     11\n2      24      12  -12     12\n22     21       9  -12     12\n11     15       2  -13     13\n28     28      11  -17     17\n1      25       8  -17     17\n7      29      12  -17     17\n12     36      15  -21     21\n27     22       0  -22     22\n19     41      18  -23     23\n0      39      16  -23     23\n16     24       0  -24     24\n18     40      16  -24     24\n26     46      17  -29     29\n13     39      10  -29     29\n32     31       2  -29     29\n14     52      20  -32     32\n10     50      17  -33     33\n15     48      13  -35     35\n5      52      16  -36     36\n30     37       0  -37     37\n33     49       9  -40     40\n23     49       9  -40     40\n34     49       6  -43     43\n3      50       0  -50     50\n25     55       4  -51     51",
      "text/html": "<div>\n<style scoped>\n    .dataframe tbody tr th:only-of-type {\n        vertical-align: middle;\n    }\n\n    .dataframe tbody tr th {\n        vertical-align: top;\n    }\n\n    .dataframe thead th {\n        text-align: right;\n    }\n</style>\n<table border=\"1\" class=\"dataframe\">\n  <thead>\n    <tr style=\"text-align: right;\">\n      <th></th>\n      <th>Antes</th>\n      <th>Depois</th>\n      <th>Dif</th>\n      <th>|Dif|</th>\n    </tr>\n  </thead>\n  <tbody>\n    <tr>\n      <th>4</th>\n      <td>13</td>\n      <td>14</td>\n      <td>1</td>\n      <td>1</td>\n    </tr>\n    <tr>\n      <th>20</th>\n      <td>17</td>\n      <td>16</td>\n      <td>-1</td>\n      <td>1</td>\n    </tr>\n    <tr>\n      <th>31</th>\n      <td>17</td>\n      <td>19</td>\n      <td>2</td>\n      <td>2</td>\n    </tr>\n    <tr>\n      <th>21</th>\n      <td>12</td>\n      <td>16</td>\n      <td>4</td>\n      <td>4</td>\n    </tr>\n    <tr>\n      <th>24</th>\n      <td>14</td>\n      <td>18</td>\n      <td>4</td>\n      <td>4</td>\n    </tr>\n    <tr>\n      <th>9</th>\n      <td>22</td>\n      <td>17</td>\n      <td>-5</td>\n      <td>5</td>\n    </tr>\n    <tr>\n      <th>6</th>\n      <td>21</td>\n      <td>13</td>\n      <td>-8</td>\n      <td>8</td>\n    </tr>\n    <tr>\n      <th>29</th>\n      <td>23</td>\n      <td>14</td>\n      <td>-9</td>\n      <td>9</td>\n    </tr>\n    <tr>\n      <th>8</th>\n      <td>10</td>\n      <td>19</td>\n      <td>9</td>\n      <td>9</td>\n    </tr>\n    <tr>\n      <th>17</th>\n      <td>15</td>\n      <td>4</td>\n      <td>-11</td>\n      <td>11</td>\n    </tr>\n    <tr>\n      <th>2</th>\n      <td>24</td>\n      <td>12</td>\n      <td>-12</td>\n      <td>12</td>\n    </tr>\n    <tr>\n      <th>22</th>\n      <td>21</td>\n      <td>9</td>\n      <td>-12</td>\n      <td>12</td>\n    </tr>\n    <tr>\n      <th>11</th>\n      <td>15</td>\n      <td>2</td>\n      <td>-13</td>\n      <td>13</td>\n    </tr>\n    <tr>\n      <th>28</th>\n      <td>28</td>\n      <td>11</td>\n      <td>-17</td>\n      <td>17</td>\n    </tr>\n    <tr>\n      <th>1</th>\n      <td>25</td>\n      <td>8</td>\n      <td>-17</td>\n      <td>17</td>\n    </tr>\n    <tr>\n      <th>7</th>\n      <td>29</td>\n      <td>12</td>\n      <td>-17</td>\n      <td>17</td>\n    </tr>\n    <tr>\n      <th>12</th>\n      <td>36</td>\n      <td>15</td>\n      <td>-21</td>\n      <td>21</td>\n    </tr>\n    <tr>\n      <th>27</th>\n      <td>22</td>\n      <td>0</td>\n      <td>-22</td>\n      <td>22</td>\n    </tr>\n    <tr>\n      <th>19</th>\n      <td>41</td>\n      <td>18</td>\n      <td>-23</td>\n      <td>23</td>\n    </tr>\n    <tr>\n      <th>0</th>\n      <td>39</td>\n      <td>16</td>\n      <td>-23</td>\n      <td>23</td>\n    </tr>\n    <tr>\n      <th>16</th>\n      <td>24</td>\n      <td>0</td>\n      <td>-24</td>\n      <td>24</td>\n    </tr>\n    <tr>\n      <th>18</th>\n      <td>40</td>\n      <td>16</td>\n      <td>-24</td>\n      <td>24</td>\n    </tr>\n    <tr>\n      <th>26</th>\n      <td>46</td>\n      <td>17</td>\n      <td>-29</td>\n      <td>29</td>\n    </tr>\n    <tr>\n      <th>13</th>\n      <td>39</td>\n      <td>10</td>\n      <td>-29</td>\n      <td>29</td>\n    </tr>\n    <tr>\n      <th>32</th>\n      <td>31</td>\n      <td>2</td>\n      <td>-29</td>\n      <td>29</td>\n    </tr>\n    <tr>\n      <th>14</th>\n      <td>52</td>\n      <td>20</td>\n      <td>-32</td>\n      <td>32</td>\n    </tr>\n    <tr>\n      <th>10</th>\n      <td>50</td>\n      <td>17</td>\n      <td>-33</td>\n      <td>33</td>\n    </tr>\n    <tr>\n      <th>15</th>\n      <td>48</td>\n      <td>13</td>\n      <td>-35</td>\n      <td>35</td>\n    </tr>\n    <tr>\n      <th>5</th>\n      <td>52</td>\n      <td>16</td>\n      <td>-36</td>\n      <td>36</td>\n    </tr>\n    <tr>\n      <th>30</th>\n      <td>37</td>\n      <td>0</td>\n      <td>-37</td>\n      <td>37</td>\n    </tr>\n    <tr>\n      <th>33</th>\n      <td>49</td>\n      <td>9</td>\n      <td>-40</td>\n      <td>40</td>\n    </tr>\n    <tr>\n      <th>23</th>\n      <td>49</td>\n      <td>9</td>\n      <td>-40</td>\n      <td>40</td>\n    </tr>\n    <tr>\n      <th>34</th>\n      <td>49</td>\n      <td>6</td>\n      <td>-43</td>\n      <td>43</td>\n    </tr>\n    <tr>\n      <th>3</th>\n      <td>50</td>\n      <td>0</td>\n      <td>-50</td>\n      <td>50</td>\n    </tr>\n    <tr>\n      <th>25</th>\n      <td>55</td>\n      <td>4</td>\n      <td>-51</td>\n      <td>51</td>\n    </tr>\n  </tbody>\n</table>\n</div>"
     },
     "execution_count": 96,
     "metadata": {},
     "output_type": "execute_result"
    }
   ],
   "source": [
    "fumo.drop(['Posto'], axis=1, inplace=True)\n",
    "fumo"
   ]
  },
  {
   "cell_type": "code",
   "execution_count": 97,
   "metadata": {
    "id": "qCdc7pGgos_T",
    "pycharm": {
     "name": "#%%\n"
    }
   },
   "outputs": [
    {
     "data": {
      "text/plain": "    Antes  Depois  Dif  |Dif|  Posto\n0      13      14    1      1    1.5\n1      17      16   -1      1    1.5\n2      17      19    2      2    3.0\n3      12      16    4      4    4.5\n4      14      18    4      4    4.5\n5      22      17   -5      5    6.0\n6      21      13   -8      8    7.0\n7      23      14   -9      9    8.5\n8      10      19    9      9    8.5\n9      15       4  -11     11   10.0\n10     24      12  -12     12   11.5\n11     21       9  -12     12   11.5\n12     15       2  -13     13   13.0\n13     28      11  -17     17   15.0\n14     25       8  -17     17   15.0\n15     29      12  -17     17   15.0\n16     36      15  -21     21   17.0\n17     22       0  -22     22   18.0\n18     41      18  -23     23   19.5\n19     39      16  -23     23   19.5\n20     24       0  -24     24   21.5\n21     40      16  -24     24   21.5\n22     46      17  -29     29   24.0\n23     39      10  -29     29   24.0\n24     31       2  -29     29   24.0\n25     52      20  -32     32   26.0\n26     50      17  -33     33   27.0\n27     48      13  -35     35   28.0\n28     52      16  -36     36   29.0\n29     37       0  -37     37   30.0\n30     49       9  -40     40   31.5\n31     49       9  -40     40   31.5\n32     49       6  -43     43   33.0\n33     50       0  -50     50   34.0\n34     55       4  -51     51   35.0",
      "text/html": "<div>\n<style scoped>\n    .dataframe tbody tr th:only-of-type {\n        vertical-align: middle;\n    }\n\n    .dataframe tbody tr th {\n        vertical-align: top;\n    }\n\n    .dataframe thead th {\n        text-align: right;\n    }\n</style>\n<table border=\"1\" class=\"dataframe\">\n  <thead>\n    <tr style=\"text-align: right;\">\n      <th></th>\n      <th>Antes</th>\n      <th>Depois</th>\n      <th>Dif</th>\n      <th>|Dif|</th>\n      <th>Posto</th>\n    </tr>\n  </thead>\n  <tbody>\n    <tr>\n      <th>0</th>\n      <td>13</td>\n      <td>14</td>\n      <td>1</td>\n      <td>1</td>\n      <td>1.5</td>\n    </tr>\n    <tr>\n      <th>1</th>\n      <td>17</td>\n      <td>16</td>\n      <td>-1</td>\n      <td>1</td>\n      <td>1.5</td>\n    </tr>\n    <tr>\n      <th>2</th>\n      <td>17</td>\n      <td>19</td>\n      <td>2</td>\n      <td>2</td>\n      <td>3.0</td>\n    </tr>\n    <tr>\n      <th>3</th>\n      <td>12</td>\n      <td>16</td>\n      <td>4</td>\n      <td>4</td>\n      <td>4.5</td>\n    </tr>\n    <tr>\n      <th>4</th>\n      <td>14</td>\n      <td>18</td>\n      <td>4</td>\n      <td>4</td>\n      <td>4.5</td>\n    </tr>\n    <tr>\n      <th>5</th>\n      <td>22</td>\n      <td>17</td>\n      <td>-5</td>\n      <td>5</td>\n      <td>6.0</td>\n    </tr>\n    <tr>\n      <th>6</th>\n      <td>21</td>\n      <td>13</td>\n      <td>-8</td>\n      <td>8</td>\n      <td>7.0</td>\n    </tr>\n    <tr>\n      <th>7</th>\n      <td>23</td>\n      <td>14</td>\n      <td>-9</td>\n      <td>9</td>\n      <td>8.5</td>\n    </tr>\n    <tr>\n      <th>8</th>\n      <td>10</td>\n      <td>19</td>\n      <td>9</td>\n      <td>9</td>\n      <td>8.5</td>\n    </tr>\n    <tr>\n      <th>9</th>\n      <td>15</td>\n      <td>4</td>\n      <td>-11</td>\n      <td>11</td>\n      <td>10.0</td>\n    </tr>\n    <tr>\n      <th>10</th>\n      <td>24</td>\n      <td>12</td>\n      <td>-12</td>\n      <td>12</td>\n      <td>11.5</td>\n    </tr>\n    <tr>\n      <th>11</th>\n      <td>21</td>\n      <td>9</td>\n      <td>-12</td>\n      <td>12</td>\n      <td>11.5</td>\n    </tr>\n    <tr>\n      <th>12</th>\n      <td>15</td>\n      <td>2</td>\n      <td>-13</td>\n      <td>13</td>\n      <td>13.0</td>\n    </tr>\n    <tr>\n      <th>13</th>\n      <td>28</td>\n      <td>11</td>\n      <td>-17</td>\n      <td>17</td>\n      <td>15.0</td>\n    </tr>\n    <tr>\n      <th>14</th>\n      <td>25</td>\n      <td>8</td>\n      <td>-17</td>\n      <td>17</td>\n      <td>15.0</td>\n    </tr>\n    <tr>\n      <th>15</th>\n      <td>29</td>\n      <td>12</td>\n      <td>-17</td>\n      <td>17</td>\n      <td>15.0</td>\n    </tr>\n    <tr>\n      <th>16</th>\n      <td>36</td>\n      <td>15</td>\n      <td>-21</td>\n      <td>21</td>\n      <td>17.0</td>\n    </tr>\n    <tr>\n      <th>17</th>\n      <td>22</td>\n      <td>0</td>\n      <td>-22</td>\n      <td>22</td>\n      <td>18.0</td>\n    </tr>\n    <tr>\n      <th>18</th>\n      <td>41</td>\n      <td>18</td>\n      <td>-23</td>\n      <td>23</td>\n      <td>19.5</td>\n    </tr>\n    <tr>\n      <th>19</th>\n      <td>39</td>\n      <td>16</td>\n      <td>-23</td>\n      <td>23</td>\n      <td>19.5</td>\n    </tr>\n    <tr>\n      <th>20</th>\n      <td>24</td>\n      <td>0</td>\n      <td>-24</td>\n      <td>24</td>\n      <td>21.5</td>\n    </tr>\n    <tr>\n      <th>21</th>\n      <td>40</td>\n      <td>16</td>\n      <td>-24</td>\n      <td>24</td>\n      <td>21.5</td>\n    </tr>\n    <tr>\n      <th>22</th>\n      <td>46</td>\n      <td>17</td>\n      <td>-29</td>\n      <td>29</td>\n      <td>24.0</td>\n    </tr>\n    <tr>\n      <th>23</th>\n      <td>39</td>\n      <td>10</td>\n      <td>-29</td>\n      <td>29</td>\n      <td>24.0</td>\n    </tr>\n    <tr>\n      <th>24</th>\n      <td>31</td>\n      <td>2</td>\n      <td>-29</td>\n      <td>29</td>\n      <td>24.0</td>\n    </tr>\n    <tr>\n      <th>25</th>\n      <td>52</td>\n      <td>20</td>\n      <td>-32</td>\n      <td>32</td>\n      <td>26.0</td>\n    </tr>\n    <tr>\n      <th>26</th>\n      <td>50</td>\n      <td>17</td>\n      <td>-33</td>\n      <td>33</td>\n      <td>27.0</td>\n    </tr>\n    <tr>\n      <th>27</th>\n      <td>48</td>\n      <td>13</td>\n      <td>-35</td>\n      <td>35</td>\n      <td>28.0</td>\n    </tr>\n    <tr>\n      <th>28</th>\n      <td>52</td>\n      <td>16</td>\n      <td>-36</td>\n      <td>36</td>\n      <td>29.0</td>\n    </tr>\n    <tr>\n      <th>29</th>\n      <td>37</td>\n      <td>0</td>\n      <td>-37</td>\n      <td>37</td>\n      <td>30.0</td>\n    </tr>\n    <tr>\n      <th>30</th>\n      <td>49</td>\n      <td>9</td>\n      <td>-40</td>\n      <td>40</td>\n      <td>31.5</td>\n    </tr>\n    <tr>\n      <th>31</th>\n      <td>49</td>\n      <td>9</td>\n      <td>-40</td>\n      <td>40</td>\n      <td>31.5</td>\n    </tr>\n    <tr>\n      <th>32</th>\n      <td>49</td>\n      <td>6</td>\n      <td>-43</td>\n      <td>43</td>\n      <td>33.0</td>\n    </tr>\n    <tr>\n      <th>33</th>\n      <td>50</td>\n      <td>0</td>\n      <td>-50</td>\n      <td>50</td>\n      <td>34.0</td>\n    </tr>\n    <tr>\n      <th>34</th>\n      <td>55</td>\n      <td>4</td>\n      <td>-51</td>\n      <td>51</td>\n      <td>35.0</td>\n    </tr>\n  </tbody>\n</table>\n</div>"
     },
     "execution_count": 97,
     "metadata": {},
     "output_type": "execute_result"
    }
   ],
   "source": [
    "fumo = fumo.merge(posto, left_on=\"|Dif|\", right_on=\"|Dif|\", how=\"left\")\n",
    "fumo"
   ]
  },
  {
   "cell_type": "code",
   "execution_count": 98,
   "metadata": {
    "id": "R2Nyk4E_os77",
    "pycharm": {
     "name": "#%%\n"
    }
   },
   "outputs": [
    {
     "data": {
      "text/plain": "    Antes  Depois  Dif  |Dif|  Posto  Posto (+)\n0      13      14    1      1    1.5        1.5\n1      17      16   -1      1    1.5        0.0\n2      17      19    2      2    3.0        3.0\n3      12      16    4      4    4.5        4.5\n4      14      18    4      4    4.5        4.5\n5      22      17   -5      5    6.0        0.0\n6      21      13   -8      8    7.0        0.0\n7      23      14   -9      9    8.5        0.0\n8      10      19    9      9    8.5        8.5\n9      15       4  -11     11   10.0        0.0\n10     24      12  -12     12   11.5        0.0\n11     21       9  -12     12   11.5        0.0\n12     15       2  -13     13   13.0        0.0\n13     28      11  -17     17   15.0        0.0\n14     25       8  -17     17   15.0        0.0\n15     29      12  -17     17   15.0        0.0\n16     36      15  -21     21   17.0        0.0\n17     22       0  -22     22   18.0        0.0\n18     41      18  -23     23   19.5        0.0\n19     39      16  -23     23   19.5        0.0\n20     24       0  -24     24   21.5        0.0\n21     40      16  -24     24   21.5        0.0\n22     46      17  -29     29   24.0        0.0\n23     39      10  -29     29   24.0        0.0\n24     31       2  -29     29   24.0        0.0\n25     52      20  -32     32   26.0        0.0\n26     50      17  -33     33   27.0        0.0\n27     48      13  -35     35   28.0        0.0\n28     52      16  -36     36   29.0        0.0\n29     37       0  -37     37   30.0        0.0\n30     49       9  -40     40   31.5        0.0\n31     49       9  -40     40   31.5        0.0\n32     49       6  -43     43   33.0        0.0\n33     50       0  -50     50   34.0        0.0\n34     55       4  -51     51   35.0        0.0",
      "text/html": "<div>\n<style scoped>\n    .dataframe tbody tr th:only-of-type {\n        vertical-align: middle;\n    }\n\n    .dataframe tbody tr th {\n        vertical-align: top;\n    }\n\n    .dataframe thead th {\n        text-align: right;\n    }\n</style>\n<table border=\"1\" class=\"dataframe\">\n  <thead>\n    <tr style=\"text-align: right;\">\n      <th></th>\n      <th>Antes</th>\n      <th>Depois</th>\n      <th>Dif</th>\n      <th>|Dif|</th>\n      <th>Posto</th>\n      <th>Posto (+)</th>\n    </tr>\n  </thead>\n  <tbody>\n    <tr>\n      <th>0</th>\n      <td>13</td>\n      <td>14</td>\n      <td>1</td>\n      <td>1</td>\n      <td>1.5</td>\n      <td>1.5</td>\n    </tr>\n    <tr>\n      <th>1</th>\n      <td>17</td>\n      <td>16</td>\n      <td>-1</td>\n      <td>1</td>\n      <td>1.5</td>\n      <td>0.0</td>\n    </tr>\n    <tr>\n      <th>2</th>\n      <td>17</td>\n      <td>19</td>\n      <td>2</td>\n      <td>2</td>\n      <td>3.0</td>\n      <td>3.0</td>\n    </tr>\n    <tr>\n      <th>3</th>\n      <td>12</td>\n      <td>16</td>\n      <td>4</td>\n      <td>4</td>\n      <td>4.5</td>\n      <td>4.5</td>\n    </tr>\n    <tr>\n      <th>4</th>\n      <td>14</td>\n      <td>18</td>\n      <td>4</td>\n      <td>4</td>\n      <td>4.5</td>\n      <td>4.5</td>\n    </tr>\n    <tr>\n      <th>5</th>\n      <td>22</td>\n      <td>17</td>\n      <td>-5</td>\n      <td>5</td>\n      <td>6.0</td>\n      <td>0.0</td>\n    </tr>\n    <tr>\n      <th>6</th>\n      <td>21</td>\n      <td>13</td>\n      <td>-8</td>\n      <td>8</td>\n      <td>7.0</td>\n      <td>0.0</td>\n    </tr>\n    <tr>\n      <th>7</th>\n      <td>23</td>\n      <td>14</td>\n      <td>-9</td>\n      <td>9</td>\n      <td>8.5</td>\n      <td>0.0</td>\n    </tr>\n    <tr>\n      <th>8</th>\n      <td>10</td>\n      <td>19</td>\n      <td>9</td>\n      <td>9</td>\n      <td>8.5</td>\n      <td>8.5</td>\n    </tr>\n    <tr>\n      <th>9</th>\n      <td>15</td>\n      <td>4</td>\n      <td>-11</td>\n      <td>11</td>\n      <td>10.0</td>\n      <td>0.0</td>\n    </tr>\n    <tr>\n      <th>10</th>\n      <td>24</td>\n      <td>12</td>\n      <td>-12</td>\n      <td>12</td>\n      <td>11.5</td>\n      <td>0.0</td>\n    </tr>\n    <tr>\n      <th>11</th>\n      <td>21</td>\n      <td>9</td>\n      <td>-12</td>\n      <td>12</td>\n      <td>11.5</td>\n      <td>0.0</td>\n    </tr>\n    <tr>\n      <th>12</th>\n      <td>15</td>\n      <td>2</td>\n      <td>-13</td>\n      <td>13</td>\n      <td>13.0</td>\n      <td>0.0</td>\n    </tr>\n    <tr>\n      <th>13</th>\n      <td>28</td>\n      <td>11</td>\n      <td>-17</td>\n      <td>17</td>\n      <td>15.0</td>\n      <td>0.0</td>\n    </tr>\n    <tr>\n      <th>14</th>\n      <td>25</td>\n      <td>8</td>\n      <td>-17</td>\n      <td>17</td>\n      <td>15.0</td>\n      <td>0.0</td>\n    </tr>\n    <tr>\n      <th>15</th>\n      <td>29</td>\n      <td>12</td>\n      <td>-17</td>\n      <td>17</td>\n      <td>15.0</td>\n      <td>0.0</td>\n    </tr>\n    <tr>\n      <th>16</th>\n      <td>36</td>\n      <td>15</td>\n      <td>-21</td>\n      <td>21</td>\n      <td>17.0</td>\n      <td>0.0</td>\n    </tr>\n    <tr>\n      <th>17</th>\n      <td>22</td>\n      <td>0</td>\n      <td>-22</td>\n      <td>22</td>\n      <td>18.0</td>\n      <td>0.0</td>\n    </tr>\n    <tr>\n      <th>18</th>\n      <td>41</td>\n      <td>18</td>\n      <td>-23</td>\n      <td>23</td>\n      <td>19.5</td>\n      <td>0.0</td>\n    </tr>\n    <tr>\n      <th>19</th>\n      <td>39</td>\n      <td>16</td>\n      <td>-23</td>\n      <td>23</td>\n      <td>19.5</td>\n      <td>0.0</td>\n    </tr>\n    <tr>\n      <th>20</th>\n      <td>24</td>\n      <td>0</td>\n      <td>-24</td>\n      <td>24</td>\n      <td>21.5</td>\n      <td>0.0</td>\n    </tr>\n    <tr>\n      <th>21</th>\n      <td>40</td>\n      <td>16</td>\n      <td>-24</td>\n      <td>24</td>\n      <td>21.5</td>\n      <td>0.0</td>\n    </tr>\n    <tr>\n      <th>22</th>\n      <td>46</td>\n      <td>17</td>\n      <td>-29</td>\n      <td>29</td>\n      <td>24.0</td>\n      <td>0.0</td>\n    </tr>\n    <tr>\n      <th>23</th>\n      <td>39</td>\n      <td>10</td>\n      <td>-29</td>\n      <td>29</td>\n      <td>24.0</td>\n      <td>0.0</td>\n    </tr>\n    <tr>\n      <th>24</th>\n      <td>31</td>\n      <td>2</td>\n      <td>-29</td>\n      <td>29</td>\n      <td>24.0</td>\n      <td>0.0</td>\n    </tr>\n    <tr>\n      <th>25</th>\n      <td>52</td>\n      <td>20</td>\n      <td>-32</td>\n      <td>32</td>\n      <td>26.0</td>\n      <td>0.0</td>\n    </tr>\n    <tr>\n      <th>26</th>\n      <td>50</td>\n      <td>17</td>\n      <td>-33</td>\n      <td>33</td>\n      <td>27.0</td>\n      <td>0.0</td>\n    </tr>\n    <tr>\n      <th>27</th>\n      <td>48</td>\n      <td>13</td>\n      <td>-35</td>\n      <td>35</td>\n      <td>28.0</td>\n      <td>0.0</td>\n    </tr>\n    <tr>\n      <th>28</th>\n      <td>52</td>\n      <td>16</td>\n      <td>-36</td>\n      <td>36</td>\n      <td>29.0</td>\n      <td>0.0</td>\n    </tr>\n    <tr>\n      <th>29</th>\n      <td>37</td>\n      <td>0</td>\n      <td>-37</td>\n      <td>37</td>\n      <td>30.0</td>\n      <td>0.0</td>\n    </tr>\n    <tr>\n      <th>30</th>\n      <td>49</td>\n      <td>9</td>\n      <td>-40</td>\n      <td>40</td>\n      <td>31.5</td>\n      <td>0.0</td>\n    </tr>\n    <tr>\n      <th>31</th>\n      <td>49</td>\n      <td>9</td>\n      <td>-40</td>\n      <td>40</td>\n      <td>31.5</td>\n      <td>0.0</td>\n    </tr>\n    <tr>\n      <th>32</th>\n      <td>49</td>\n      <td>6</td>\n      <td>-43</td>\n      <td>43</td>\n      <td>33.0</td>\n      <td>0.0</td>\n    </tr>\n    <tr>\n      <th>33</th>\n      <td>50</td>\n      <td>0</td>\n      <td>-50</td>\n      <td>50</td>\n      <td>34.0</td>\n      <td>0.0</td>\n    </tr>\n    <tr>\n      <th>34</th>\n      <td>55</td>\n      <td>4</td>\n      <td>-51</td>\n      <td>51</td>\n      <td>35.0</td>\n      <td>0.0</td>\n    </tr>\n  </tbody>\n</table>\n</div>"
     },
     "execution_count": 98,
     "metadata": {},
     "output_type": "execute_result"
    }
   ],
   "source": [
    "fumo['Posto (+)'] = fumo.apply(lambda x: x.Posto if x.Dif > 0 else 0, axis=1)\n",
    "fumo"
   ]
  },
  {
   "cell_type": "code",
   "execution_count": 99,
   "metadata": {
    "id": "PoL2W6c7os4d",
    "pycharm": {
     "name": "#%%\n"
    }
   },
   "outputs": [
    {
     "data": {
      "text/plain": "    Antes  Depois  Dif  |Dif|  Posto  Posto (+)  Posto (-)\n0      13      14    1      1    1.5        1.5        0.0\n1      17      16   -1      1    1.5        0.0        1.5\n2      17      19    2      2    3.0        3.0        0.0\n3      12      16    4      4    4.5        4.5        0.0\n4      14      18    4      4    4.5        4.5        0.0\n5      22      17   -5      5    6.0        0.0        6.0\n6      21      13   -8      8    7.0        0.0        7.0\n7      23      14   -9      9    8.5        0.0        8.5\n8      10      19    9      9    8.5        8.5        0.0\n9      15       4  -11     11   10.0        0.0       10.0\n10     24      12  -12     12   11.5        0.0       11.5\n11     21       9  -12     12   11.5        0.0       11.5\n12     15       2  -13     13   13.0        0.0       13.0\n13     28      11  -17     17   15.0        0.0       15.0\n14     25       8  -17     17   15.0        0.0       15.0\n15     29      12  -17     17   15.0        0.0       15.0\n16     36      15  -21     21   17.0        0.0       17.0\n17     22       0  -22     22   18.0        0.0       18.0\n18     41      18  -23     23   19.5        0.0       19.5\n19     39      16  -23     23   19.5        0.0       19.5\n20     24       0  -24     24   21.5        0.0       21.5\n21     40      16  -24     24   21.5        0.0       21.5\n22     46      17  -29     29   24.0        0.0       24.0\n23     39      10  -29     29   24.0        0.0       24.0\n24     31       2  -29     29   24.0        0.0       24.0\n25     52      20  -32     32   26.0        0.0       26.0\n26     50      17  -33     33   27.0        0.0       27.0\n27     48      13  -35     35   28.0        0.0       28.0\n28     52      16  -36     36   29.0        0.0       29.0\n29     37       0  -37     37   30.0        0.0       30.0\n30     49       9  -40     40   31.5        0.0       31.5\n31     49       9  -40     40   31.5        0.0       31.5\n32     49       6  -43     43   33.0        0.0       33.0\n33     50       0  -50     50   34.0        0.0       34.0\n34     55       4  -51     51   35.0        0.0       35.0",
      "text/html": "<div>\n<style scoped>\n    .dataframe tbody tr th:only-of-type {\n        vertical-align: middle;\n    }\n\n    .dataframe tbody tr th {\n        vertical-align: top;\n    }\n\n    .dataframe thead th {\n        text-align: right;\n    }\n</style>\n<table border=\"1\" class=\"dataframe\">\n  <thead>\n    <tr style=\"text-align: right;\">\n      <th></th>\n      <th>Antes</th>\n      <th>Depois</th>\n      <th>Dif</th>\n      <th>|Dif|</th>\n      <th>Posto</th>\n      <th>Posto (+)</th>\n      <th>Posto (-)</th>\n    </tr>\n  </thead>\n  <tbody>\n    <tr>\n      <th>0</th>\n      <td>13</td>\n      <td>14</td>\n      <td>1</td>\n      <td>1</td>\n      <td>1.5</td>\n      <td>1.5</td>\n      <td>0.0</td>\n    </tr>\n    <tr>\n      <th>1</th>\n      <td>17</td>\n      <td>16</td>\n      <td>-1</td>\n      <td>1</td>\n      <td>1.5</td>\n      <td>0.0</td>\n      <td>1.5</td>\n    </tr>\n    <tr>\n      <th>2</th>\n      <td>17</td>\n      <td>19</td>\n      <td>2</td>\n      <td>2</td>\n      <td>3.0</td>\n      <td>3.0</td>\n      <td>0.0</td>\n    </tr>\n    <tr>\n      <th>3</th>\n      <td>12</td>\n      <td>16</td>\n      <td>4</td>\n      <td>4</td>\n      <td>4.5</td>\n      <td>4.5</td>\n      <td>0.0</td>\n    </tr>\n    <tr>\n      <th>4</th>\n      <td>14</td>\n      <td>18</td>\n      <td>4</td>\n      <td>4</td>\n      <td>4.5</td>\n      <td>4.5</td>\n      <td>0.0</td>\n    </tr>\n    <tr>\n      <th>5</th>\n      <td>22</td>\n      <td>17</td>\n      <td>-5</td>\n      <td>5</td>\n      <td>6.0</td>\n      <td>0.0</td>\n      <td>6.0</td>\n    </tr>\n    <tr>\n      <th>6</th>\n      <td>21</td>\n      <td>13</td>\n      <td>-8</td>\n      <td>8</td>\n      <td>7.0</td>\n      <td>0.0</td>\n      <td>7.0</td>\n    </tr>\n    <tr>\n      <th>7</th>\n      <td>23</td>\n      <td>14</td>\n      <td>-9</td>\n      <td>9</td>\n      <td>8.5</td>\n      <td>0.0</td>\n      <td>8.5</td>\n    </tr>\n    <tr>\n      <th>8</th>\n      <td>10</td>\n      <td>19</td>\n      <td>9</td>\n      <td>9</td>\n      <td>8.5</td>\n      <td>8.5</td>\n      <td>0.0</td>\n    </tr>\n    <tr>\n      <th>9</th>\n      <td>15</td>\n      <td>4</td>\n      <td>-11</td>\n      <td>11</td>\n      <td>10.0</td>\n      <td>0.0</td>\n      <td>10.0</td>\n    </tr>\n    <tr>\n      <th>10</th>\n      <td>24</td>\n      <td>12</td>\n      <td>-12</td>\n      <td>12</td>\n      <td>11.5</td>\n      <td>0.0</td>\n      <td>11.5</td>\n    </tr>\n    <tr>\n      <th>11</th>\n      <td>21</td>\n      <td>9</td>\n      <td>-12</td>\n      <td>12</td>\n      <td>11.5</td>\n      <td>0.0</td>\n      <td>11.5</td>\n    </tr>\n    <tr>\n      <th>12</th>\n      <td>15</td>\n      <td>2</td>\n      <td>-13</td>\n      <td>13</td>\n      <td>13.0</td>\n      <td>0.0</td>\n      <td>13.0</td>\n    </tr>\n    <tr>\n      <th>13</th>\n      <td>28</td>\n      <td>11</td>\n      <td>-17</td>\n      <td>17</td>\n      <td>15.0</td>\n      <td>0.0</td>\n      <td>15.0</td>\n    </tr>\n    <tr>\n      <th>14</th>\n      <td>25</td>\n      <td>8</td>\n      <td>-17</td>\n      <td>17</td>\n      <td>15.0</td>\n      <td>0.0</td>\n      <td>15.0</td>\n    </tr>\n    <tr>\n      <th>15</th>\n      <td>29</td>\n      <td>12</td>\n      <td>-17</td>\n      <td>17</td>\n      <td>15.0</td>\n      <td>0.0</td>\n      <td>15.0</td>\n    </tr>\n    <tr>\n      <th>16</th>\n      <td>36</td>\n      <td>15</td>\n      <td>-21</td>\n      <td>21</td>\n      <td>17.0</td>\n      <td>0.0</td>\n      <td>17.0</td>\n    </tr>\n    <tr>\n      <th>17</th>\n      <td>22</td>\n      <td>0</td>\n      <td>-22</td>\n      <td>22</td>\n      <td>18.0</td>\n      <td>0.0</td>\n      <td>18.0</td>\n    </tr>\n    <tr>\n      <th>18</th>\n      <td>41</td>\n      <td>18</td>\n      <td>-23</td>\n      <td>23</td>\n      <td>19.5</td>\n      <td>0.0</td>\n      <td>19.5</td>\n    </tr>\n    <tr>\n      <th>19</th>\n      <td>39</td>\n      <td>16</td>\n      <td>-23</td>\n      <td>23</td>\n      <td>19.5</td>\n      <td>0.0</td>\n      <td>19.5</td>\n    </tr>\n    <tr>\n      <th>20</th>\n      <td>24</td>\n      <td>0</td>\n      <td>-24</td>\n      <td>24</td>\n      <td>21.5</td>\n      <td>0.0</td>\n      <td>21.5</td>\n    </tr>\n    <tr>\n      <th>21</th>\n      <td>40</td>\n      <td>16</td>\n      <td>-24</td>\n      <td>24</td>\n      <td>21.5</td>\n      <td>0.0</td>\n      <td>21.5</td>\n    </tr>\n    <tr>\n      <th>22</th>\n      <td>46</td>\n      <td>17</td>\n      <td>-29</td>\n      <td>29</td>\n      <td>24.0</td>\n      <td>0.0</td>\n      <td>24.0</td>\n    </tr>\n    <tr>\n      <th>23</th>\n      <td>39</td>\n      <td>10</td>\n      <td>-29</td>\n      <td>29</td>\n      <td>24.0</td>\n      <td>0.0</td>\n      <td>24.0</td>\n    </tr>\n    <tr>\n      <th>24</th>\n      <td>31</td>\n      <td>2</td>\n      <td>-29</td>\n      <td>29</td>\n      <td>24.0</td>\n      <td>0.0</td>\n      <td>24.0</td>\n    </tr>\n    <tr>\n      <th>25</th>\n      <td>52</td>\n      <td>20</td>\n      <td>-32</td>\n      <td>32</td>\n      <td>26.0</td>\n      <td>0.0</td>\n      <td>26.0</td>\n    </tr>\n    <tr>\n      <th>26</th>\n      <td>50</td>\n      <td>17</td>\n      <td>-33</td>\n      <td>33</td>\n      <td>27.0</td>\n      <td>0.0</td>\n      <td>27.0</td>\n    </tr>\n    <tr>\n      <th>27</th>\n      <td>48</td>\n      <td>13</td>\n      <td>-35</td>\n      <td>35</td>\n      <td>28.0</td>\n      <td>0.0</td>\n      <td>28.0</td>\n    </tr>\n    <tr>\n      <th>28</th>\n      <td>52</td>\n      <td>16</td>\n      <td>-36</td>\n      <td>36</td>\n      <td>29.0</td>\n      <td>0.0</td>\n      <td>29.0</td>\n    </tr>\n    <tr>\n      <th>29</th>\n      <td>37</td>\n      <td>0</td>\n      <td>-37</td>\n      <td>37</td>\n      <td>30.0</td>\n      <td>0.0</td>\n      <td>30.0</td>\n    </tr>\n    <tr>\n      <th>30</th>\n      <td>49</td>\n      <td>9</td>\n      <td>-40</td>\n      <td>40</td>\n      <td>31.5</td>\n      <td>0.0</td>\n      <td>31.5</td>\n    </tr>\n    <tr>\n      <th>31</th>\n      <td>49</td>\n      <td>9</td>\n      <td>-40</td>\n      <td>40</td>\n      <td>31.5</td>\n      <td>0.0</td>\n      <td>31.5</td>\n    </tr>\n    <tr>\n      <th>32</th>\n      <td>49</td>\n      <td>6</td>\n      <td>-43</td>\n      <td>43</td>\n      <td>33.0</td>\n      <td>0.0</td>\n      <td>33.0</td>\n    </tr>\n    <tr>\n      <th>33</th>\n      <td>50</td>\n      <td>0</td>\n      <td>-50</td>\n      <td>50</td>\n      <td>34.0</td>\n      <td>0.0</td>\n      <td>34.0</td>\n    </tr>\n    <tr>\n      <th>34</th>\n      <td>55</td>\n      <td>4</td>\n      <td>-51</td>\n      <td>51</td>\n      <td>35.0</td>\n      <td>0.0</td>\n      <td>35.0</td>\n    </tr>\n  </tbody>\n</table>\n</div>"
     },
     "execution_count": 99,
     "metadata": {},
     "output_type": "execute_result"
    }
   ],
   "source": [
    "fumo['Posto (-)'] = fumo.apply(lambda x: x.Posto if x.Dif < 0 else 0, axis=1)\n",
    "fumo # o zero não foi contado no posto positivo nem no negativo propositalmente"
   ]
  },
  {
   "cell_type": "code",
   "execution_count": 100,
   "metadata": {
    "id": "kIu3BKAwos0z",
    "pycharm": {
     "name": "#%%\n"
    }
   },
   "outputs": [
    {
     "data": {
      "text/plain": "    Antes  Depois  Dif  |Dif|  Posto (+)  Posto (-)\n0      13      14    1      1        1.5        0.0\n1      17      16   -1      1        0.0        1.5\n2      17      19    2      2        3.0        0.0\n3      12      16    4      4        4.5        0.0\n4      14      18    4      4        4.5        0.0\n5      22      17   -5      5        0.0        6.0\n6      21      13   -8      8        0.0        7.0\n7      23      14   -9      9        0.0        8.5\n8      10      19    9      9        8.5        0.0\n9      15       4  -11     11        0.0       10.0\n10     24      12  -12     12        0.0       11.5\n11     21       9  -12     12        0.0       11.5\n12     15       2  -13     13        0.0       13.0\n13     28      11  -17     17        0.0       15.0\n14     25       8  -17     17        0.0       15.0\n15     29      12  -17     17        0.0       15.0\n16     36      15  -21     21        0.0       17.0\n17     22       0  -22     22        0.0       18.0\n18     41      18  -23     23        0.0       19.5\n19     39      16  -23     23        0.0       19.5\n20     24       0  -24     24        0.0       21.5\n21     40      16  -24     24        0.0       21.5\n22     46      17  -29     29        0.0       24.0\n23     39      10  -29     29        0.0       24.0\n24     31       2  -29     29        0.0       24.0\n25     52      20  -32     32        0.0       26.0\n26     50      17  -33     33        0.0       27.0\n27     48      13  -35     35        0.0       28.0\n28     52      16  -36     36        0.0       29.0\n29     37       0  -37     37        0.0       30.0\n30     49       9  -40     40        0.0       31.5\n31     49       9  -40     40        0.0       31.5\n32     49       6  -43     43        0.0       33.0\n33     50       0  -50     50        0.0       34.0\n34     55       4  -51     51        0.0       35.0",
      "text/html": "<div>\n<style scoped>\n    .dataframe tbody tr th:only-of-type {\n        vertical-align: middle;\n    }\n\n    .dataframe tbody tr th {\n        vertical-align: top;\n    }\n\n    .dataframe thead th {\n        text-align: right;\n    }\n</style>\n<table border=\"1\" class=\"dataframe\">\n  <thead>\n    <tr style=\"text-align: right;\">\n      <th></th>\n      <th>Antes</th>\n      <th>Depois</th>\n      <th>Dif</th>\n      <th>|Dif|</th>\n      <th>Posto (+)</th>\n      <th>Posto (-)</th>\n    </tr>\n  </thead>\n  <tbody>\n    <tr>\n      <th>0</th>\n      <td>13</td>\n      <td>14</td>\n      <td>1</td>\n      <td>1</td>\n      <td>1.5</td>\n      <td>0.0</td>\n    </tr>\n    <tr>\n      <th>1</th>\n      <td>17</td>\n      <td>16</td>\n      <td>-1</td>\n      <td>1</td>\n      <td>0.0</td>\n      <td>1.5</td>\n    </tr>\n    <tr>\n      <th>2</th>\n      <td>17</td>\n      <td>19</td>\n      <td>2</td>\n      <td>2</td>\n      <td>3.0</td>\n      <td>0.0</td>\n    </tr>\n    <tr>\n      <th>3</th>\n      <td>12</td>\n      <td>16</td>\n      <td>4</td>\n      <td>4</td>\n      <td>4.5</td>\n      <td>0.0</td>\n    </tr>\n    <tr>\n      <th>4</th>\n      <td>14</td>\n      <td>18</td>\n      <td>4</td>\n      <td>4</td>\n      <td>4.5</td>\n      <td>0.0</td>\n    </tr>\n    <tr>\n      <th>5</th>\n      <td>22</td>\n      <td>17</td>\n      <td>-5</td>\n      <td>5</td>\n      <td>0.0</td>\n      <td>6.0</td>\n    </tr>\n    <tr>\n      <th>6</th>\n      <td>21</td>\n      <td>13</td>\n      <td>-8</td>\n      <td>8</td>\n      <td>0.0</td>\n      <td>7.0</td>\n    </tr>\n    <tr>\n      <th>7</th>\n      <td>23</td>\n      <td>14</td>\n      <td>-9</td>\n      <td>9</td>\n      <td>0.0</td>\n      <td>8.5</td>\n    </tr>\n    <tr>\n      <th>8</th>\n      <td>10</td>\n      <td>19</td>\n      <td>9</td>\n      <td>9</td>\n      <td>8.5</td>\n      <td>0.0</td>\n    </tr>\n    <tr>\n      <th>9</th>\n      <td>15</td>\n      <td>4</td>\n      <td>-11</td>\n      <td>11</td>\n      <td>0.0</td>\n      <td>10.0</td>\n    </tr>\n    <tr>\n      <th>10</th>\n      <td>24</td>\n      <td>12</td>\n      <td>-12</td>\n      <td>12</td>\n      <td>0.0</td>\n      <td>11.5</td>\n    </tr>\n    <tr>\n      <th>11</th>\n      <td>21</td>\n      <td>9</td>\n      <td>-12</td>\n      <td>12</td>\n      <td>0.0</td>\n      <td>11.5</td>\n    </tr>\n    <tr>\n      <th>12</th>\n      <td>15</td>\n      <td>2</td>\n      <td>-13</td>\n      <td>13</td>\n      <td>0.0</td>\n      <td>13.0</td>\n    </tr>\n    <tr>\n      <th>13</th>\n      <td>28</td>\n      <td>11</td>\n      <td>-17</td>\n      <td>17</td>\n      <td>0.0</td>\n      <td>15.0</td>\n    </tr>\n    <tr>\n      <th>14</th>\n      <td>25</td>\n      <td>8</td>\n      <td>-17</td>\n      <td>17</td>\n      <td>0.0</td>\n      <td>15.0</td>\n    </tr>\n    <tr>\n      <th>15</th>\n      <td>29</td>\n      <td>12</td>\n      <td>-17</td>\n      <td>17</td>\n      <td>0.0</td>\n      <td>15.0</td>\n    </tr>\n    <tr>\n      <th>16</th>\n      <td>36</td>\n      <td>15</td>\n      <td>-21</td>\n      <td>21</td>\n      <td>0.0</td>\n      <td>17.0</td>\n    </tr>\n    <tr>\n      <th>17</th>\n      <td>22</td>\n      <td>0</td>\n      <td>-22</td>\n      <td>22</td>\n      <td>0.0</td>\n      <td>18.0</td>\n    </tr>\n    <tr>\n      <th>18</th>\n      <td>41</td>\n      <td>18</td>\n      <td>-23</td>\n      <td>23</td>\n      <td>0.0</td>\n      <td>19.5</td>\n    </tr>\n    <tr>\n      <th>19</th>\n      <td>39</td>\n      <td>16</td>\n      <td>-23</td>\n      <td>23</td>\n      <td>0.0</td>\n      <td>19.5</td>\n    </tr>\n    <tr>\n      <th>20</th>\n      <td>24</td>\n      <td>0</td>\n      <td>-24</td>\n      <td>24</td>\n      <td>0.0</td>\n      <td>21.5</td>\n    </tr>\n    <tr>\n      <th>21</th>\n      <td>40</td>\n      <td>16</td>\n      <td>-24</td>\n      <td>24</td>\n      <td>0.0</td>\n      <td>21.5</td>\n    </tr>\n    <tr>\n      <th>22</th>\n      <td>46</td>\n      <td>17</td>\n      <td>-29</td>\n      <td>29</td>\n      <td>0.0</td>\n      <td>24.0</td>\n    </tr>\n    <tr>\n      <th>23</th>\n      <td>39</td>\n      <td>10</td>\n      <td>-29</td>\n      <td>29</td>\n      <td>0.0</td>\n      <td>24.0</td>\n    </tr>\n    <tr>\n      <th>24</th>\n      <td>31</td>\n      <td>2</td>\n      <td>-29</td>\n      <td>29</td>\n      <td>0.0</td>\n      <td>24.0</td>\n    </tr>\n    <tr>\n      <th>25</th>\n      <td>52</td>\n      <td>20</td>\n      <td>-32</td>\n      <td>32</td>\n      <td>0.0</td>\n      <td>26.0</td>\n    </tr>\n    <tr>\n      <th>26</th>\n      <td>50</td>\n      <td>17</td>\n      <td>-33</td>\n      <td>33</td>\n      <td>0.0</td>\n      <td>27.0</td>\n    </tr>\n    <tr>\n      <th>27</th>\n      <td>48</td>\n      <td>13</td>\n      <td>-35</td>\n      <td>35</td>\n      <td>0.0</td>\n      <td>28.0</td>\n    </tr>\n    <tr>\n      <th>28</th>\n      <td>52</td>\n      <td>16</td>\n      <td>-36</td>\n      <td>36</td>\n      <td>0.0</td>\n      <td>29.0</td>\n    </tr>\n    <tr>\n      <th>29</th>\n      <td>37</td>\n      <td>0</td>\n      <td>-37</td>\n      <td>37</td>\n      <td>0.0</td>\n      <td>30.0</td>\n    </tr>\n    <tr>\n      <th>30</th>\n      <td>49</td>\n      <td>9</td>\n      <td>-40</td>\n      <td>40</td>\n      <td>0.0</td>\n      <td>31.5</td>\n    </tr>\n    <tr>\n      <th>31</th>\n      <td>49</td>\n      <td>9</td>\n      <td>-40</td>\n      <td>40</td>\n      <td>0.0</td>\n      <td>31.5</td>\n    </tr>\n    <tr>\n      <th>32</th>\n      <td>49</td>\n      <td>6</td>\n      <td>-43</td>\n      <td>43</td>\n      <td>0.0</td>\n      <td>33.0</td>\n    </tr>\n    <tr>\n      <th>33</th>\n      <td>50</td>\n      <td>0</td>\n      <td>-50</td>\n      <td>50</td>\n      <td>0.0</td>\n      <td>34.0</td>\n    </tr>\n    <tr>\n      <th>34</th>\n      <td>55</td>\n      <td>4</td>\n      <td>-51</td>\n      <td>51</td>\n      <td>0.0</td>\n      <td>35.0</td>\n    </tr>\n  </tbody>\n</table>\n</div>"
     },
     "execution_count": 100,
     "metadata": {},
     "output_type": "execute_result"
    }
   ],
   "source": [
    "fumo.drop(['Posto'], axis=1, inplace=True)\n",
    "fumo"
   ]
  },
  {
   "cell_type": "markdown",
   "metadata": {
    "id": "QrhSJfAipsmh",
    "pycharm": {
     "name": "#%% md\n"
    }
   },
   "source": [
    "### Obter $T$\n",
    "\n",
    "## $T$ = menor das somas de postos de mesmo sinal"
   ]
  },
  {
   "cell_type": "code",
   "execution_count": 101,
   "metadata": {
    "id": "TTWy-3OQpsmh",
    "pycharm": {
     "name": "#%%\n"
    }
   },
   "outputs": [
    {
     "data": {
      "text/plain": "22.0"
     },
     "execution_count": 101,
     "metadata": {},
     "output_type": "execute_result"
    }
   ],
   "source": [
    "t = min(fumo['Posto (+)'].sum(), fumo['Posto (-)'].sum())\n",
    "t"
   ]
  },
  {
   "cell_type": "markdown",
   "metadata": {
    "id": "3y4Tn1y4psmi",
    "pycharm": {
     "name": "#%% md\n"
    }
   },
   "source": [
    "### Obter $\\mu_T$\n",
    "\n",
    "# $$\\mu_T = \\frac{n(n+1)}{4}$$\n"
   ]
  },
  {
   "cell_type": "code",
   "execution_count": 102,
   "metadata": {
    "id": "0KhV5ph6psmi",
    "pycharm": {
     "name": "#%%\n"
    }
   },
   "outputs": [
    {
     "data": {
      "text/plain": "315.0"
     },
     "execution_count": 102,
     "metadata": {},
     "output_type": "execute_result"
    }
   ],
   "source": [
    "mu_t = (n * (n + 1)) / 4\n",
    "mu_t"
   ]
  },
  {
   "cell_type": "markdown",
   "metadata": {
    "id": "ZqFb-m08psmj",
    "pycharm": {
     "name": "#%% md\n"
    }
   },
   "source": [
    "### Obter $\\sigma_T$\n",
    "\n",
    "# $$\\sigma_T = \\sqrt{\\frac{n(n + 1)(2n + 1)}{24}}$$"
   ]
  },
  {
   "cell_type": "code",
   "execution_count": 103,
   "metadata": {
    "id": "c6dypGFSpsmj",
    "pycharm": {
     "name": "#%%\n"
    }
   },
   "outputs": [
    {
     "data": {
      "text/plain": "61.053255441458646"
     },
     "execution_count": 103,
     "metadata": {},
     "output_type": "execute_result"
    }
   ],
   "source": [
    "sigma_t = np.sqrt((n * (n + 1) * ((2 * n) + 1)) / 24)\n",
    "sigma_t"
   ]
  },
  {
   "cell_type": "markdown",
   "metadata": {
    "id": "qEk2CUKApsmk",
    "pycharm": {
     "name": "#%% md\n"
    }
   },
   "source": [
    "### Obter $Z_{teste}$\n",
    "\n",
    "# $$Z = \\frac{T - \\mu_T}{\\sigma_T}$$"
   ]
  },
  {
   "cell_type": "code",
   "execution_count": 104,
   "metadata": {
    "id": "KqPQgbBEpsmk",
    "pycharm": {
     "name": "#%%\n"
    }
   },
   "outputs": [
    {
     "data": {
      "text/plain": "-4.799088891843698"
     },
     "execution_count": 104,
     "metadata": {},
     "output_type": "execute_result"
    }
   ],
   "source": [
    "z = (t - mu_t) / sigma_t\n",
    "z"
   ]
  },
  {
   "cell_type": "markdown",
   "metadata": {
    "id": "iMpU26IZpsmm",
    "pycharm": {
     "name": "#%% md\n"
    }
   },
   "source": [
    "![Estatística-Teste](https://caelum-online-public.s3.amazonaws.com/1229-estatistica-parte3/01/img021.png)"
   ]
  },
  {
   "cell_type": "markdown",
   "metadata": {
    "id": "XFgoaLzSpsmm",
    "pycharm": {
     "name": "#%% md\n"
    }
   },
   "source": [
    "---"
   ]
  },
  {
   "cell_type": "markdown",
   "metadata": {
    "id": "YYGhG-lSpsmm",
    "pycharm": {
     "name": "#%% md\n"
    }
   },
   "source": [
    "### **Passo 5** - Aceitação ou rejeição da hipótese nula"
   ]
  },
  {
   "cell_type": "markdown",
   "metadata": {
    "id": "pDOdx-Vqpsmm",
    "pycharm": {
     "name": "#%% md\n"
    }
   },
   "source": [
    "<img src='https://caelum-online-public.s3.amazonaws.com/1229-estatistica-parte3/01/img022.png' width='80%'>"
   ]
  },
  {
   "cell_type": "markdown",
   "metadata": {
    "id": "ODKOD-rkpsmm",
    "pycharm": {
     "name": "#%% md\n"
    }
   },
   "source": [
    "### <font color='red'>Critério do valor crítico</font>\n",
    "\n",
    "> ### Rejeitar $H_0$ se $Z \\leq -z_{\\alpha / 2}$ ou se $Z \\geq z_{\\alpha / 2}$"
   ]
  },
  {
   "cell_type": "code",
   "execution_count": 105,
   "metadata": {
    "id": "Gmp8dB6Apsmm",
    "pycharm": {
     "name": "#%%\n"
    }
   },
   "outputs": [
    {
     "data": {
      "text/plain": "True"
     },
     "execution_count": 105,
     "metadata": {},
     "output_type": "execute_result"
    }
   ],
   "source": [
    "z <= -z_alpha_2"
   ]
  },
  {
   "cell_type": "code",
   "execution_count": 106,
   "metadata": {
    "id": "E9jxoexkpsmn",
    "pycharm": {
     "name": "#%%\n"
    }
   },
   "outputs": [
    {
     "data": {
      "text/plain": "False"
     },
     "execution_count": 106,
     "metadata": {},
     "output_type": "execute_result"
    }
   ],
   "source": [
    "z >= z_alpha_2"
   ]
  },
  {
   "cell_type": "markdown",
   "metadata": {
    "id": "n0gtzn53psmo",
    "pycharm": {
     "name": "#%% md\n"
    }
   },
   "source": [
    "### <font color='green'>Conclusão: Rejeitamos a hipótese de que não existe diferença entre os grupos, isto é, existe uma diferença entre as médias de cigarros fumados pelos pacientes antes e depois do tratamento. E como é possível verificar através das médias de cigarros fumados por dia antes (31.86) e depois (11.2) do tratamento, podemos concluir que o tratamento apresentou resultado satisfatório.</font>"
   ]
  },
  {
   "cell_type": "markdown",
   "metadata": {
    "id": "8bP36mQ-psmp",
    "pycharm": {
     "name": "#%% md\n"
    }
   },
   "source": [
    "### <font color='red'>Critério do valor $p$</font>\n",
    "\n",
    "> ### Rejeitar $H_0$ se o valor $p\\leq\\alpha$"
   ]
  },
  {
   "cell_type": "markdown",
   "metadata": {
    "id": "H8kFeqh1psmp",
    "pycharm": {
     "name": "#%% md\n"
    }
   },
   "source": [
    "https://docs.scipy.org/doc/scipy/reference/generated/scipy.stats.wilcoxon.html"
   ]
  },
  {
   "cell_type": "code",
   "execution_count": 107,
   "metadata": {
    "id": "bgWrxnBmpsmp",
    "pycharm": {
     "name": "#%%\n"
    }
   },
   "outputs": [],
   "source": [
    "from scipy.stats import wilcoxon"
   ]
  },
  {
   "cell_type": "code",
   "execution_count": 108,
   "metadata": {
    "id": "PsdWRoHCpsmp",
    "pycharm": {
     "name": "#%%\n"
    }
   },
   "outputs": [
    {
     "name": "stdout",
     "output_type": "stream",
     "text": [
      "22.0\n",
      "1.584310018505865e-06\n"
     ]
    }
   ],
   "source": [
    "t, p_valor = wilcoxon(x=fumo.Antes, y=fumo.Depois)\n",
    "print(t)\n",
    "print(p_valor)"
   ]
  },
  {
   "cell_type": "code",
   "execution_count": 109,
   "metadata": {
    "id": "Qk13I21vpsmq",
    "scrolled": true,
    "pycharm": {
     "name": "#%%\n"
    }
   },
   "outputs": [
    {
     "data": {
      "text/plain": "True"
     },
     "execution_count": 109,
     "metadata": {},
     "output_type": "execute_result"
    }
   ],
   "source": [
    "p_valor <= significancia"
   ]
  },
  {
   "cell_type": "markdown",
   "metadata": {
    "id": "ZGNui18Xpsms",
    "pycharm": {
     "name": "#%% md\n"
    }
   },
   "source": [
    "---"
   ]
  },
  {
   "cell_type": "markdown",
   "metadata": {
    "id": "sIs_74V5psms",
    "pycharm": {
     "name": "#%% md\n"
    }
   },
   "source": [
    "## <font color='red'>Problema</font>"
   ]
  },
  {
   "cell_type": "markdown",
   "metadata": {
    "id": "Rk4GknKUpsms",
    "pycharm": {
     "name": "#%% md\n"
    }
   },
   "source": [
    "Em nosso dataset temos os rendimento dos chefes de domicílio obtidos da Pesquisa Nacional por Amostra de Domicílios - PNAD no ano de 2015. Um problema bastante conhecido em nosso país diz respeito a desigualdade de renda, principalmente entre homens e mulheres.\n",
    "\n",
    "Duas amostras aleatórias, uma de **6 homens** e outra com **8 mulheres**, foram selecionadas em nosso dataset. Com o objetivo de comprovar tal desigualdade **teste a igualdade das médias** entra estas duas amostras com um nível de **significância de 5%**."
   ]
  },
  {
   "cell_type": "markdown",
   "metadata": {
    "id": "iHBuQumppsmt",
    "pycharm": {
     "name": "#%% md\n"
    }
   },
   "source": [
    "## <font color=green>4.3 Teste de Mann-Whitney</font>\n",
    "### Comparação de duas populações - amostras independentes\n",
    "***"
   ]
  },
  {
   "cell_type": "markdown",
   "metadata": {
    "id": "bDyY8UUPpsmt",
    "pycharm": {
     "name": "#%% md\n"
    }
   },
   "source": [
    "Mann-Whitney é um teste não paramétrico utilizado para verificar se duas amostras independentes foram selecionadas a partir de populações que têm a mesma média. Por ser um teste não paramétrico, Mann-Whitney torna-se uma alternativa ao teste paramétrico de comparação de médias."
   ]
  },
  {
   "cell_type": "markdown",
   "metadata": {
    "id": "DjWTAICFpsmt",
    "pycharm": {
     "name": "#%% md\n"
    }
   },
   "source": [
    "### Seleção das amostras"
   ]
  },
  {
   "cell_type": "code",
   "execution_count": 145,
   "metadata": {
    "id": "k_MCXHjIpsmt",
    "scrolled": true,
    "pycharm": {
     "name": "#%%\n"
    }
   },
   "outputs": [],
   "source": [
    "mulheres = dados.query(\"Sexo == 1 and Renda > 0\").sample(n=8, random_state=101).Renda"
   ]
  },
  {
   "cell_type": "code",
   "execution_count": 146,
   "metadata": {
    "id": "whXUtsKLpsmu",
    "scrolled": true,
    "pycharm": {
     "name": "#%%\n"
    }
   },
   "outputs": [],
   "source": [
    "homens = dados.query(\"Sexo == 0 and Renda > 0\").sample(n=6, random_state=101).Renda"
   ]
  },
  {
   "cell_type": "markdown",
   "metadata": {
    "id": "HvQY_Wwjpsmx",
    "pycharm": {
     "name": "#%% md\n"
    }
   },
   "source": [
    "### Dados do problema"
   ]
  },
  {
   "cell_type": "code",
   "execution_count": 147,
   "outputs": [
    {
     "data": {
      "text/plain": "1090.75"
     },
     "execution_count": 147,
     "metadata": {},
     "output_type": "execute_result"
    }
   ],
   "source": [
    "media_amostra_m = mulheres.mean()\n",
    "media_amostra_m"
   ],
   "metadata": {
    "collapsed": false,
    "pycharm": {
     "name": "#%%\n"
    }
   }
  },
  {
   "cell_type": "code",
   "execution_count": 148,
   "metadata": {
    "id": "qJa9ykpJpsmz",
    "pycharm": {
     "name": "#%%\n"
    }
   },
   "outputs": [
    {
     "data": {
      "text/plain": "1341.6666666666667"
     },
     "execution_count": 148,
     "metadata": {},
     "output_type": "execute_result"
    }
   ],
   "source": [
    "media_amostra_h = homens.mean()\n",
    "media_amostra_h"
   ]
  },
  {
   "cell_type": "code",
   "execution_count": 149,
   "metadata": {
    "id": "9_cFuYzJpsm1",
    "pycharm": {
     "name": "#%%\n"
    }
   },
   "outputs": [],
   "source": [
    "significancia = 0.05\n",
    "confianca = 1 - significancia\n",
    "n_1 = len(homens) # em Mann-Whitney, n1 é igual ao tamanho da amostra de menor tamanho\n",
    "n_2 = len(mulheres)"
   ]
  },
  {
   "cell_type": "markdown",
   "metadata": {
    "id": "rnHNRcb5psm1",
    "pycharm": {
     "name": "#%% md\n"
    }
   },
   "source": [
    "### **Passo 1** - formulação das hipóteses $H_0$ e $H_1$\n",
    "\n",
    "#### <font color='red'>Lembre-se, a hipótese nula sempre contém a alegação de igualdade</font>"
   ]
  },
  {
   "cell_type": "markdown",
   "metadata": {
    "id": "F-q66nqDpsm2",
    "pycharm": {
     "name": "#%% md\n"
    }
   },
   "source": [
    "### $\\mu_m \\Rightarrow$ Média das rendas dos chefes de domicílios do sexo feminino\n",
    "### $\\mu_h \\Rightarrow$ Média das rendas dos chefes de domicílios do sexo masculino\n",
    "\n",
    "### $\n",
    "\\begin{cases}\n",
    "H_0: \\mu_m = \\mu_h\\\\\n",
    "H_1: \\mu_m < \\mu_h\n",
    "\\end{cases}\n",
    "$"
   ]
  },
  {
   "cell_type": "markdown",
   "metadata": {
    "id": "-A8XaMDnpsm3",
    "pycharm": {
     "name": "#%% md\n"
    }
   },
   "source": [
    "---"
   ]
  },
  {
   "cell_type": "markdown",
   "metadata": {
    "id": "VhpHwyi3psm3",
    "pycharm": {
     "name": "#%% md\n"
    }
   },
   "source": [
    "### **Passo 2** - escolha da distribuição amostral adequada"
   ]
  },
  {
   "cell_type": "markdown",
   "metadata": {
    "id": "hh2UhSRApsm4",
    "pycharm": {
     "name": "#%% md\n"
    }
   },
   "source": [
    "Deve-se optar pela distribuição **$t$ de Student**, já que nada é mencionado sobre a distribuição da população, o desvio padrão populacional é desconhecido e o número de elementos investigados é menor que 30."
   ]
  },
  {
   "cell_type": "markdown",
   "metadata": {
    "id": "PP_3zdrWpsm4",
    "pycharm": {
     "name": "#%% md\n"
    }
   },
   "source": [
    "---"
   ]
  },
  {
   "cell_type": "markdown",
   "metadata": {
    "id": "RALoS1ddpsm4",
    "pycharm": {
     "name": "#%% md\n"
    }
   },
   "source": [
    "### **Passo 3** - fixação da significância do teste ($\\alpha$)"
   ]
  },
  {
   "cell_type": "markdown",
   "metadata": {
    "id": "0Ohhw-i5psm4",
    "pycharm": {
     "name": "#%% md\n"
    }
   },
   "source": [
    "### Obtendo $t_{\\alpha}$"
   ]
  },
  {
   "cell_type": "code",
   "execution_count": 150,
   "metadata": {
    "id": "oVNraTWypsm4",
    "pycharm": {
     "name": "#%%\n"
    }
   },
   "outputs": [
    {
     "data": {
      "text/plain": "12"
     },
     "execution_count": 150,
     "metadata": {},
     "output_type": "execute_result"
    }
   ],
   "source": [
    "graus_de_liberdade = n_1 + n_2 - 2\n",
    "graus_de_liberdade"
   ]
  },
  {
   "cell_type": "code",
   "execution_count": 151,
   "metadata": {
    "id": "px40muD3psm6",
    "scrolled": true,
    "pycharm": {
     "name": "#%%\n"
    }
   },
   "outputs": [
    {
     "data": {
      "text/plain": "Bicaudal                          0.100     0.090     0.080     0.070  \\\nUnicaudal                         0.050     0.045     0.040     0.035   \nGraus de Liberdade (n - 1) 11  1.795885  1.858772  1.928427  2.006663   \n                           12  1.782288  1.844015  1.912313  1.988934   \n                           13  1.770933    1.8317  1.898874  1.974158   \n\nBicaudal                          0.060     0.050     0.040     0.030  \\\nUnicaudal                         0.030     0.025     0.020     0.015   \nGraus de Liberdade (n - 1) 11  2.096139  2.200985   2.32814  2.490664   \n                           12  2.076441  2.178813  2.302722    2.4607   \n                           13  2.060038  2.160369  2.281604  2.435845   \n\nBicaudal                          0.020     0.010  \nUnicaudal                         0.010     0.005  \nGraus de Liberdade (n - 1) 11  2.718079  3.105807  \n                           12  2.680998   3.05454  \n                           13  2.650309  3.012276  ",
      "text/html": "<div>\n<style scoped>\n    .dataframe tbody tr th:only-of-type {\n        vertical-align: middle;\n    }\n\n    .dataframe tbody tr th {\n        vertical-align: top;\n    }\n\n    .dataframe thead tr th {\n        text-align: left;\n    }\n</style>\n<table border=\"1\" class=\"dataframe\">\n  <thead>\n    <tr>\n      <th></th>\n      <th>Bicaudal</th>\n      <th>0.100</th>\n      <th>0.090</th>\n      <th>0.080</th>\n      <th>0.070</th>\n      <th>0.060</th>\n      <th>0.050</th>\n      <th>0.040</th>\n      <th>0.030</th>\n      <th>0.020</th>\n      <th>0.010</th>\n    </tr>\n    <tr>\n      <th></th>\n      <th>Unicaudal</th>\n      <th>0.050</th>\n      <th>0.045</th>\n      <th>0.040</th>\n      <th>0.035</th>\n      <th>0.030</th>\n      <th>0.025</th>\n      <th>0.020</th>\n      <th>0.015</th>\n      <th>0.010</th>\n      <th>0.005</th>\n    </tr>\n  </thead>\n  <tbody>\n    <tr>\n      <th rowspan=\"3\" valign=\"top\">Graus de Liberdade (n - 1)</th>\n      <th>11</th>\n      <td>1.795885</td>\n      <td>1.858772</td>\n      <td>1.928427</td>\n      <td>2.006663</td>\n      <td>2.096139</td>\n      <td>2.200985</td>\n      <td>2.32814</td>\n      <td>2.490664</td>\n      <td>2.718079</td>\n      <td>3.105807</td>\n    </tr>\n    <tr>\n      <th>12</th>\n      <td>1.782288</td>\n      <td>1.844015</td>\n      <td>1.912313</td>\n      <td>1.988934</td>\n      <td>2.076441</td>\n      <td>2.178813</td>\n      <td>2.302722</td>\n      <td>2.4607</td>\n      <td>2.680998</td>\n      <td>3.05454</td>\n    </tr>\n    <tr>\n      <th>13</th>\n      <td>1.770933</td>\n      <td>1.8317</td>\n      <td>1.898874</td>\n      <td>1.974158</td>\n      <td>2.060038</td>\n      <td>2.160369</td>\n      <td>2.281604</td>\n      <td>2.435845</td>\n      <td>2.650309</td>\n      <td>3.012276</td>\n    </tr>\n  </tbody>\n</table>\n</div>"
     },
     "execution_count": 151,
     "metadata": {},
     "output_type": "execute_result"
    }
   ],
   "source": [
    "tabela_t_student[10:13]"
   ]
  },
  {
   "cell_type": "code",
   "execution_count": 152,
   "metadata": {
    "id": "5iCApoGNpsm7",
    "pycharm": {
     "name": "#%%\n"
    }
   },
   "outputs": [
    {
     "data": {
      "text/plain": "-1.78"
     },
     "execution_count": 152,
     "metadata": {},
     "output_type": "execute_result"
    }
   ],
   "source": [
    "t_alpha = -t_student.ppf(confianca, graus_de_liberdade) #troca o sinal porque é na calda inferior do gráfico; poderia ser usada a significancia no lugar da confianca\n",
    "t_alpha.round(2)"
   ]
  },
  {
   "cell_type": "markdown",
   "metadata": {
    "id": "Hv5Wk8G0psm7",
    "pycharm": {
     "name": "#%% md\n"
    }
   },
   "source": [
    "![Região de Aceitação](https://caelum-online-public.s3.amazonaws.com/1229-estatistica-parte3/01/img023.png)"
   ]
  },
  {
   "cell_type": "markdown",
   "metadata": {
    "id": "qF2QVjmtpsm7",
    "pycharm": {
     "name": "#%% md\n"
    }
   },
   "source": [
    "---"
   ]
  },
  {
   "cell_type": "markdown",
   "metadata": {
    "id": "mD62Ibrupsm8",
    "pycharm": {
     "name": "#%% md\n"
    }
   },
   "source": [
    "### **Passo 4** - cálculo da estatística-teste e verificação desse valor com as áreas de aceitação e rejeição do teste\n",
    "## 1. Definir os n's:\n",
    "### $n_1$ = nº de elementos do menor grupo\n",
    "### $n_2$ = nº de elementos do maior grupo\n",
    "---\n",
    "## 2. Obter a soma dos postos\n",
    "### $R_1$ = soma dos postos do grupo $n_1$\n",
    "### $R_2$ = soma dos postos do grupo $n_2$\n",
    "---\n",
    "## 3. Obter as estatísticas\n",
    "# $$u_1 = n_1 \\times n_2 + \\frac{n_1 \\times (n_1 + 1)}{2} - R_1$$\n",
    "# $$u_2 = n_1 \\times n_2 + \\frac{n_2 \\times (n_2 + 1)}{2} - R_2$$\n",
    "---\n",
    "## 4. Selecionar o menor U\n",
    "# $$u = min(u_1, u_2)$$\n",
    "---\n",
    "## 5. Obter a estatística de teste\n",
    "# $$Z = \\frac{u - \\mu{(u)}}{\\sigma{(u)}}$$\n",
    "\n",
    "Onde\n",
    "\n",
    "# $$\\mu{(u)} = \\frac{n_1 \\times n_2}{2}$$\n",
    "# $$\\sigma{(u)} = \\sqrt{\\frac{n_1 \\times n_2 \\times (n_1 + n_2 + 1)}{12}}$$"
   ]
  },
  {
   "cell_type": "markdown",
   "metadata": {
    "id": "DsVNwKjOpsm8",
    "pycharm": {
     "name": "#%% md\n"
    }
   },
   "source": [
    "### Obtendo os postos"
   ]
  },
  {
   "cell_type": "code",
   "execution_count": 153,
   "metadata": {
    "id": "mjUNCgykpsm8",
    "pycharm": {
     "name": "#%%\n"
    }
   },
   "outputs": [
    {
     "data": {
      "text/plain": "       Renda    Sexo\n67872   1200  Homens\n30211   2000  Homens\n64406    850  Homens\n26519    800  Homens\n61540   2000  Homens\n17422   1200  Homens",
      "text/html": "<div>\n<style scoped>\n    .dataframe tbody tr th:only-of-type {\n        vertical-align: middle;\n    }\n\n    .dataframe tbody tr th {\n        vertical-align: top;\n    }\n\n    .dataframe thead th {\n        text-align: right;\n    }\n</style>\n<table border=\"1\" class=\"dataframe\">\n  <thead>\n    <tr style=\"text-align: right;\">\n      <th></th>\n      <th>Renda</th>\n      <th>Sexo</th>\n    </tr>\n  </thead>\n  <tbody>\n    <tr>\n      <th>67872</th>\n      <td>1200</td>\n      <td>Homens</td>\n    </tr>\n    <tr>\n      <th>30211</th>\n      <td>2000</td>\n      <td>Homens</td>\n    </tr>\n    <tr>\n      <th>64406</th>\n      <td>850</td>\n      <td>Homens</td>\n    </tr>\n    <tr>\n      <th>26519</th>\n      <td>800</td>\n      <td>Homens</td>\n    </tr>\n    <tr>\n      <th>61540</th>\n      <td>2000</td>\n      <td>Homens</td>\n    </tr>\n    <tr>\n      <th>17422</th>\n      <td>1200</td>\n      <td>Homens</td>\n    </tr>\n  </tbody>\n</table>\n</div>"
     },
     "execution_count": 153,
     "metadata": {},
     "output_type": "execute_result"
    }
   ],
   "source": [
    "h = pd.DataFrame(homens)\n",
    "h[\"Sexo\"] = \"Homens\"\n",
    "h"
   ]
  },
  {
   "cell_type": "code",
   "execution_count": 154,
   "metadata": {
    "id": "y68IGk4o8mgB",
    "pycharm": {
     "name": "#%%\n"
    }
   },
   "outputs": [
    {
     "data": {
      "text/plain": "       Renda      Sexo\n6251    1100  Mulheres\n34764    400  Mulheres\n40596    788  Mulheres\n11303   4300  Mulheres\n22733    250  Mulheres\n24707    400  Mulheres\n60340    700  Mulheres\n17035    788  Mulheres",
      "text/html": "<div>\n<style scoped>\n    .dataframe tbody tr th:only-of-type {\n        vertical-align: middle;\n    }\n\n    .dataframe tbody tr th {\n        vertical-align: top;\n    }\n\n    .dataframe thead th {\n        text-align: right;\n    }\n</style>\n<table border=\"1\" class=\"dataframe\">\n  <thead>\n    <tr style=\"text-align: right;\">\n      <th></th>\n      <th>Renda</th>\n      <th>Sexo</th>\n    </tr>\n  </thead>\n  <tbody>\n    <tr>\n      <th>6251</th>\n      <td>1100</td>\n      <td>Mulheres</td>\n    </tr>\n    <tr>\n      <th>34764</th>\n      <td>400</td>\n      <td>Mulheres</td>\n    </tr>\n    <tr>\n      <th>40596</th>\n      <td>788</td>\n      <td>Mulheres</td>\n    </tr>\n    <tr>\n      <th>11303</th>\n      <td>4300</td>\n      <td>Mulheres</td>\n    </tr>\n    <tr>\n      <th>22733</th>\n      <td>250</td>\n      <td>Mulheres</td>\n    </tr>\n    <tr>\n      <th>24707</th>\n      <td>400</td>\n      <td>Mulheres</td>\n    </tr>\n    <tr>\n      <th>60340</th>\n      <td>700</td>\n      <td>Mulheres</td>\n    </tr>\n    <tr>\n      <th>17035</th>\n      <td>788</td>\n      <td>Mulheres</td>\n    </tr>\n  </tbody>\n</table>\n</div>"
     },
     "execution_count": 154,
     "metadata": {},
     "output_type": "execute_result"
    }
   ],
   "source": [
    "m = pd.DataFrame(mulheres)\n",
    "m[\"Sexo\"] = \"Mulheres\"\n",
    "m"
   ]
  },
  {
   "cell_type": "code",
   "execution_count": 157,
   "metadata": {
    "id": "HFVjaj4f8mOi",
    "pycharm": {
     "name": "#%%\n"
    }
   },
   "outputs": [
    {
     "data": {
      "text/plain": "    Renda      Sexo\n0    1200    Homens\n1    2000    Homens\n2     850    Homens\n3     800    Homens\n4    2000    Homens\n5    1200    Homens\n6    1100  Mulheres\n7     400  Mulheres\n8     788  Mulheres\n9    4300  Mulheres\n10    250  Mulheres\n11    400  Mulheres\n12    700  Mulheres\n13    788  Mulheres",
      "text/html": "<div>\n<style scoped>\n    .dataframe tbody tr th:only-of-type {\n        vertical-align: middle;\n    }\n\n    .dataframe tbody tr th {\n        vertical-align: top;\n    }\n\n    .dataframe thead th {\n        text-align: right;\n    }\n</style>\n<table border=\"1\" class=\"dataframe\">\n  <thead>\n    <tr style=\"text-align: right;\">\n      <th></th>\n      <th>Renda</th>\n      <th>Sexo</th>\n    </tr>\n  </thead>\n  <tbody>\n    <tr>\n      <th>0</th>\n      <td>1200</td>\n      <td>Homens</td>\n    </tr>\n    <tr>\n      <th>1</th>\n      <td>2000</td>\n      <td>Homens</td>\n    </tr>\n    <tr>\n      <th>2</th>\n      <td>850</td>\n      <td>Homens</td>\n    </tr>\n    <tr>\n      <th>3</th>\n      <td>800</td>\n      <td>Homens</td>\n    </tr>\n    <tr>\n      <th>4</th>\n      <td>2000</td>\n      <td>Homens</td>\n    </tr>\n    <tr>\n      <th>5</th>\n      <td>1200</td>\n      <td>Homens</td>\n    </tr>\n    <tr>\n      <th>6</th>\n      <td>1100</td>\n      <td>Mulheres</td>\n    </tr>\n    <tr>\n      <th>7</th>\n      <td>400</td>\n      <td>Mulheres</td>\n    </tr>\n    <tr>\n      <th>8</th>\n      <td>788</td>\n      <td>Mulheres</td>\n    </tr>\n    <tr>\n      <th>9</th>\n      <td>4300</td>\n      <td>Mulheres</td>\n    </tr>\n    <tr>\n      <th>10</th>\n      <td>250</td>\n      <td>Mulheres</td>\n    </tr>\n    <tr>\n      <th>11</th>\n      <td>400</td>\n      <td>Mulheres</td>\n    </tr>\n    <tr>\n      <th>12</th>\n      <td>700</td>\n      <td>Mulheres</td>\n    </tr>\n    <tr>\n      <th>13</th>\n      <td>788</td>\n      <td>Mulheres</td>\n    </tr>\n  </tbody>\n</table>\n</div>"
     },
     "execution_count": 157,
     "metadata": {},
     "output_type": "execute_result"
    }
   ],
   "source": [
    "sexo = pd.concat([h, m])\n",
    "sexo.reset_index(inplace=True, drop=True)\n",
    "sexo"
   ]
  },
  {
   "cell_type": "code",
   "execution_count": 158,
   "metadata": {
    "id": "K4Qn49E78-Ed",
    "pycharm": {
     "name": "#%%\n"
    }
   },
   "outputs": [
    {
     "data": {
      "text/plain": "    Renda      Sexo\n10    250  Mulheres\n7     400  Mulheres\n11    400  Mulheres\n12    700  Mulheres\n8     788  Mulheres\n13    788  Mulheres\n3     800    Homens\n2     850    Homens\n6    1100  Mulheres\n0    1200    Homens\n5    1200    Homens\n1    2000    Homens\n4    2000    Homens\n9    4300  Mulheres",
      "text/html": "<div>\n<style scoped>\n    .dataframe tbody tr th:only-of-type {\n        vertical-align: middle;\n    }\n\n    .dataframe tbody tr th {\n        vertical-align: top;\n    }\n\n    .dataframe thead th {\n        text-align: right;\n    }\n</style>\n<table border=\"1\" class=\"dataframe\">\n  <thead>\n    <tr style=\"text-align: right;\">\n      <th></th>\n      <th>Renda</th>\n      <th>Sexo</th>\n    </tr>\n  </thead>\n  <tbody>\n    <tr>\n      <th>10</th>\n      <td>250</td>\n      <td>Mulheres</td>\n    </tr>\n    <tr>\n      <th>7</th>\n      <td>400</td>\n      <td>Mulheres</td>\n    </tr>\n    <tr>\n      <th>11</th>\n      <td>400</td>\n      <td>Mulheres</td>\n    </tr>\n    <tr>\n      <th>12</th>\n      <td>700</td>\n      <td>Mulheres</td>\n    </tr>\n    <tr>\n      <th>8</th>\n      <td>788</td>\n      <td>Mulheres</td>\n    </tr>\n    <tr>\n      <th>13</th>\n      <td>788</td>\n      <td>Mulheres</td>\n    </tr>\n    <tr>\n      <th>3</th>\n      <td>800</td>\n      <td>Homens</td>\n    </tr>\n    <tr>\n      <th>2</th>\n      <td>850</td>\n      <td>Homens</td>\n    </tr>\n    <tr>\n      <th>6</th>\n      <td>1100</td>\n      <td>Mulheres</td>\n    </tr>\n    <tr>\n      <th>0</th>\n      <td>1200</td>\n      <td>Homens</td>\n    </tr>\n    <tr>\n      <th>5</th>\n      <td>1200</td>\n      <td>Homens</td>\n    </tr>\n    <tr>\n      <th>1</th>\n      <td>2000</td>\n      <td>Homens</td>\n    </tr>\n    <tr>\n      <th>4</th>\n      <td>2000</td>\n      <td>Homens</td>\n    </tr>\n    <tr>\n      <th>9</th>\n      <td>4300</td>\n      <td>Mulheres</td>\n    </tr>\n  </tbody>\n</table>\n</div>"
     },
     "execution_count": 158,
     "metadata": {},
     "output_type": "execute_result"
    }
   ],
   "source": [
    "sexo.sort_values(by=\"Renda\", inplace=True)\n",
    "sexo"
   ]
  },
  {
   "cell_type": "code",
   "execution_count": 159,
   "outputs": [
    {
     "data": {
      "text/plain": "    Renda      Sexo  Posto\n10    250  Mulheres      1\n7     400  Mulheres      2\n11    400  Mulheres      3\n12    700  Mulheres      4\n8     788  Mulheres      5\n13    788  Mulheres      6\n3     800    Homens      7\n2     850    Homens      8\n6    1100  Mulheres      9\n0    1200    Homens     10\n5    1200    Homens     11\n1    2000    Homens     12\n4    2000    Homens     13\n9    4300  Mulheres     14",
      "text/html": "<div>\n<style scoped>\n    .dataframe tbody tr th:only-of-type {\n        vertical-align: middle;\n    }\n\n    .dataframe tbody tr th {\n        vertical-align: top;\n    }\n\n    .dataframe thead th {\n        text-align: right;\n    }\n</style>\n<table border=\"1\" class=\"dataframe\">\n  <thead>\n    <tr style=\"text-align: right;\">\n      <th></th>\n      <th>Renda</th>\n      <th>Sexo</th>\n      <th>Posto</th>\n    </tr>\n  </thead>\n  <tbody>\n    <tr>\n      <th>10</th>\n      <td>250</td>\n      <td>Mulheres</td>\n      <td>1</td>\n    </tr>\n    <tr>\n      <th>7</th>\n      <td>400</td>\n      <td>Mulheres</td>\n      <td>2</td>\n    </tr>\n    <tr>\n      <th>11</th>\n      <td>400</td>\n      <td>Mulheres</td>\n      <td>3</td>\n    </tr>\n    <tr>\n      <th>12</th>\n      <td>700</td>\n      <td>Mulheres</td>\n      <td>4</td>\n    </tr>\n    <tr>\n      <th>8</th>\n      <td>788</td>\n      <td>Mulheres</td>\n      <td>5</td>\n    </tr>\n    <tr>\n      <th>13</th>\n      <td>788</td>\n      <td>Mulheres</td>\n      <td>6</td>\n    </tr>\n    <tr>\n      <th>3</th>\n      <td>800</td>\n      <td>Homens</td>\n      <td>7</td>\n    </tr>\n    <tr>\n      <th>2</th>\n      <td>850</td>\n      <td>Homens</td>\n      <td>8</td>\n    </tr>\n    <tr>\n      <th>6</th>\n      <td>1100</td>\n      <td>Mulheres</td>\n      <td>9</td>\n    </tr>\n    <tr>\n      <th>0</th>\n      <td>1200</td>\n      <td>Homens</td>\n      <td>10</td>\n    </tr>\n    <tr>\n      <th>5</th>\n      <td>1200</td>\n      <td>Homens</td>\n      <td>11</td>\n    </tr>\n    <tr>\n      <th>1</th>\n      <td>2000</td>\n      <td>Homens</td>\n      <td>12</td>\n    </tr>\n    <tr>\n      <th>4</th>\n      <td>2000</td>\n      <td>Homens</td>\n      <td>13</td>\n    </tr>\n    <tr>\n      <th>9</th>\n      <td>4300</td>\n      <td>Mulheres</td>\n      <td>14</td>\n    </tr>\n  </tbody>\n</table>\n</div>"
     },
     "execution_count": 159,
     "metadata": {},
     "output_type": "execute_result"
    }
   ],
   "source": [
    "sexo[\"Posto\"] = range(1, len(sexo) + 1)\n",
    "sexo"
   ],
   "metadata": {
    "collapsed": false,
    "pycharm": {
     "name": "#%%\n"
    }
   }
  },
  {
   "cell_type": "code",
   "execution_count": 160,
   "outputs": [
    {
     "data": {
      "text/plain": "       Posto\nRenda       \n250      1.0\n400      2.5\n700      4.0\n788      5.5\n800      7.0\n850      8.0\n1100     9.0\n1200    10.5\n2000    12.5\n4300    14.0",
      "text/html": "<div>\n<style scoped>\n    .dataframe tbody tr th:only-of-type {\n        vertical-align: middle;\n    }\n\n    .dataframe tbody tr th {\n        vertical-align: top;\n    }\n\n    .dataframe thead th {\n        text-align: right;\n    }\n</style>\n<table border=\"1\" class=\"dataframe\">\n  <thead>\n    <tr style=\"text-align: right;\">\n      <th></th>\n      <th>Posto</th>\n    </tr>\n    <tr>\n      <th>Renda</th>\n      <th></th>\n    </tr>\n  </thead>\n  <tbody>\n    <tr>\n      <th>250</th>\n      <td>1.0</td>\n    </tr>\n    <tr>\n      <th>400</th>\n      <td>2.5</td>\n    </tr>\n    <tr>\n      <th>700</th>\n      <td>4.0</td>\n    </tr>\n    <tr>\n      <th>788</th>\n      <td>5.5</td>\n    </tr>\n    <tr>\n      <th>800</th>\n      <td>7.0</td>\n    </tr>\n    <tr>\n      <th>850</th>\n      <td>8.0</td>\n    </tr>\n    <tr>\n      <th>1100</th>\n      <td>9.0</td>\n    </tr>\n    <tr>\n      <th>1200</th>\n      <td>10.5</td>\n    </tr>\n    <tr>\n      <th>2000</th>\n      <td>12.5</td>\n    </tr>\n    <tr>\n      <th>4300</th>\n      <td>14.0</td>\n    </tr>\n  </tbody>\n</table>\n</div>"
     },
     "execution_count": 160,
     "metadata": {},
     "output_type": "execute_result"
    }
   ],
   "source": [
    "posto = sexo[[\"Renda\", \"Posto\"]].groupby(\"Renda\").mean()\n",
    "posto"
   ],
   "metadata": {
    "collapsed": false,
    "pycharm": {
     "name": "#%%\n"
    }
   }
  },
  {
   "cell_type": "code",
   "execution_count": 161,
   "outputs": [
    {
     "data": {
      "text/plain": "   Renda  Posto\n0    250    1.0\n1    400    2.5\n2    700    4.0\n3    788    5.5\n4    800    7.0\n5    850    8.0\n6   1100    9.0\n7   1200   10.5\n8   2000   12.5\n9   4300   14.0",
      "text/html": "<div>\n<style scoped>\n    .dataframe tbody tr th:only-of-type {\n        vertical-align: middle;\n    }\n\n    .dataframe tbody tr th {\n        vertical-align: top;\n    }\n\n    .dataframe thead th {\n        text-align: right;\n    }\n</style>\n<table border=\"1\" class=\"dataframe\">\n  <thead>\n    <tr style=\"text-align: right;\">\n      <th></th>\n      <th>Renda</th>\n      <th>Posto</th>\n    </tr>\n  </thead>\n  <tbody>\n    <tr>\n      <th>0</th>\n      <td>250</td>\n      <td>1.0</td>\n    </tr>\n    <tr>\n      <th>1</th>\n      <td>400</td>\n      <td>2.5</td>\n    </tr>\n    <tr>\n      <th>2</th>\n      <td>700</td>\n      <td>4.0</td>\n    </tr>\n    <tr>\n      <th>3</th>\n      <td>788</td>\n      <td>5.5</td>\n    </tr>\n    <tr>\n      <th>4</th>\n      <td>800</td>\n      <td>7.0</td>\n    </tr>\n    <tr>\n      <th>5</th>\n      <td>850</td>\n      <td>8.0</td>\n    </tr>\n    <tr>\n      <th>6</th>\n      <td>1100</td>\n      <td>9.0</td>\n    </tr>\n    <tr>\n      <th>7</th>\n      <td>1200</td>\n      <td>10.5</td>\n    </tr>\n    <tr>\n      <th>8</th>\n      <td>2000</td>\n      <td>12.5</td>\n    </tr>\n    <tr>\n      <th>9</th>\n      <td>4300</td>\n      <td>14.0</td>\n    </tr>\n  </tbody>\n</table>\n</div>"
     },
     "execution_count": 161,
     "metadata": {},
     "output_type": "execute_result"
    }
   ],
   "source": [
    "posto.reset_index(inplace=True)\n",
    "posto"
   ],
   "metadata": {
    "collapsed": false,
    "pycharm": {
     "name": "#%%\n"
    }
   }
  },
  {
   "cell_type": "code",
   "execution_count": 162,
   "outputs": [
    {
     "data": {
      "text/plain": "    Renda      Sexo\n10    250  Mulheres\n7     400  Mulheres\n11    400  Mulheres\n12    700  Mulheres\n8     788  Mulheres\n13    788  Mulheres\n3     800    Homens\n2     850    Homens\n6    1100  Mulheres\n0    1200    Homens\n5    1200    Homens\n1    2000    Homens\n4    2000    Homens\n9    4300  Mulheres",
      "text/html": "<div>\n<style scoped>\n    .dataframe tbody tr th:only-of-type {\n        vertical-align: middle;\n    }\n\n    .dataframe tbody tr th {\n        vertical-align: top;\n    }\n\n    .dataframe thead th {\n        text-align: right;\n    }\n</style>\n<table border=\"1\" class=\"dataframe\">\n  <thead>\n    <tr style=\"text-align: right;\">\n      <th></th>\n      <th>Renda</th>\n      <th>Sexo</th>\n    </tr>\n  </thead>\n  <tbody>\n    <tr>\n      <th>10</th>\n      <td>250</td>\n      <td>Mulheres</td>\n    </tr>\n    <tr>\n      <th>7</th>\n      <td>400</td>\n      <td>Mulheres</td>\n    </tr>\n    <tr>\n      <th>11</th>\n      <td>400</td>\n      <td>Mulheres</td>\n    </tr>\n    <tr>\n      <th>12</th>\n      <td>700</td>\n      <td>Mulheres</td>\n    </tr>\n    <tr>\n      <th>8</th>\n      <td>788</td>\n      <td>Mulheres</td>\n    </tr>\n    <tr>\n      <th>13</th>\n      <td>788</td>\n      <td>Mulheres</td>\n    </tr>\n    <tr>\n      <th>3</th>\n      <td>800</td>\n      <td>Homens</td>\n    </tr>\n    <tr>\n      <th>2</th>\n      <td>850</td>\n      <td>Homens</td>\n    </tr>\n    <tr>\n      <th>6</th>\n      <td>1100</td>\n      <td>Mulheres</td>\n    </tr>\n    <tr>\n      <th>0</th>\n      <td>1200</td>\n      <td>Homens</td>\n    </tr>\n    <tr>\n      <th>5</th>\n      <td>1200</td>\n      <td>Homens</td>\n    </tr>\n    <tr>\n      <th>1</th>\n      <td>2000</td>\n      <td>Homens</td>\n    </tr>\n    <tr>\n      <th>4</th>\n      <td>2000</td>\n      <td>Homens</td>\n    </tr>\n    <tr>\n      <th>9</th>\n      <td>4300</td>\n      <td>Mulheres</td>\n    </tr>\n  </tbody>\n</table>\n</div>"
     },
     "execution_count": 162,
     "metadata": {},
     "output_type": "execute_result"
    }
   ],
   "source": [
    "sexo.drop([\"Posto\"], axis=1, inplace=True)\n",
    "sexo"
   ],
   "metadata": {
    "collapsed": false,
    "pycharm": {
     "name": "#%%\n"
    }
   }
  },
  {
   "cell_type": "code",
   "execution_count": 163,
   "outputs": [
    {
     "data": {
      "text/plain": "    Renda      Sexo  Posto\n0     250  Mulheres    1.0\n1     400  Mulheres    2.5\n2     400  Mulheres    2.5\n3     700  Mulheres    4.0\n4     788  Mulheres    5.5\n5     788  Mulheres    5.5\n6     800    Homens    7.0\n7     850    Homens    8.0\n8    1100  Mulheres    9.0\n9    1200    Homens   10.5\n10   1200    Homens   10.5\n11   2000    Homens   12.5\n12   2000    Homens   12.5\n13   4300  Mulheres   14.0",
      "text/html": "<div>\n<style scoped>\n    .dataframe tbody tr th:only-of-type {\n        vertical-align: middle;\n    }\n\n    .dataframe tbody tr th {\n        vertical-align: top;\n    }\n\n    .dataframe thead th {\n        text-align: right;\n    }\n</style>\n<table border=\"1\" class=\"dataframe\">\n  <thead>\n    <tr style=\"text-align: right;\">\n      <th></th>\n      <th>Renda</th>\n      <th>Sexo</th>\n      <th>Posto</th>\n    </tr>\n  </thead>\n  <tbody>\n    <tr>\n      <th>0</th>\n      <td>250</td>\n      <td>Mulheres</td>\n      <td>1.0</td>\n    </tr>\n    <tr>\n      <th>1</th>\n      <td>400</td>\n      <td>Mulheres</td>\n      <td>2.5</td>\n    </tr>\n    <tr>\n      <th>2</th>\n      <td>400</td>\n      <td>Mulheres</td>\n      <td>2.5</td>\n    </tr>\n    <tr>\n      <th>3</th>\n      <td>700</td>\n      <td>Mulheres</td>\n      <td>4.0</td>\n    </tr>\n    <tr>\n      <th>4</th>\n      <td>788</td>\n      <td>Mulheres</td>\n      <td>5.5</td>\n    </tr>\n    <tr>\n      <th>5</th>\n      <td>788</td>\n      <td>Mulheres</td>\n      <td>5.5</td>\n    </tr>\n    <tr>\n      <th>6</th>\n      <td>800</td>\n      <td>Homens</td>\n      <td>7.0</td>\n    </tr>\n    <tr>\n      <th>7</th>\n      <td>850</td>\n      <td>Homens</td>\n      <td>8.0</td>\n    </tr>\n    <tr>\n      <th>8</th>\n      <td>1100</td>\n      <td>Mulheres</td>\n      <td>9.0</td>\n    </tr>\n    <tr>\n      <th>9</th>\n      <td>1200</td>\n      <td>Homens</td>\n      <td>10.5</td>\n    </tr>\n    <tr>\n      <th>10</th>\n      <td>1200</td>\n      <td>Homens</td>\n      <td>10.5</td>\n    </tr>\n    <tr>\n      <th>11</th>\n      <td>2000</td>\n      <td>Homens</td>\n      <td>12.5</td>\n    </tr>\n    <tr>\n      <th>12</th>\n      <td>2000</td>\n      <td>Homens</td>\n      <td>12.5</td>\n    </tr>\n    <tr>\n      <th>13</th>\n      <td>4300</td>\n      <td>Mulheres</td>\n      <td>14.0</td>\n    </tr>\n  </tbody>\n</table>\n</div>"
     },
     "execution_count": 163,
     "metadata": {},
     "output_type": "execute_result"
    }
   ],
   "source": [
    "sexo = sexo.merge(posto, left_on=\"Renda\", right_on=\"Renda\", how=\"left\")\n",
    "sexo"
   ],
   "metadata": {
    "collapsed": false,
    "pycharm": {
     "name": "#%%\n"
    }
   }
  },
  {
   "cell_type": "markdown",
   "metadata": {
    "id": "LFcpe4l_psm-",
    "pycharm": {
     "name": "#%% md\n"
    }
   },
   "source": [
    "### Obtendo $R$\n",
    "\n",
    "### $R_1$ = soma dos postos do grupo $n_1$\n",
    "### $R_2$ = soma dos postos do grupo $n_2$"
   ]
  },
  {
   "cell_type": "code",
   "execution_count": 164,
   "metadata": {
    "id": "Y3OnPJ7_psm_",
    "pycharm": {
     "name": "#%%\n"
    }
   },
   "outputs": [
    {
     "data": {
      "text/plain": "          Posto\nSexo           \nHomens     61.0\nMulheres   44.0",
      "text/html": "<div>\n<style scoped>\n    .dataframe tbody tr th:only-of-type {\n        vertical-align: middle;\n    }\n\n    .dataframe tbody tr th {\n        vertical-align: top;\n    }\n\n    .dataframe thead th {\n        text-align: right;\n    }\n</style>\n<table border=\"1\" class=\"dataframe\">\n  <thead>\n    <tr style=\"text-align: right;\">\n      <th></th>\n      <th>Posto</th>\n    </tr>\n    <tr>\n      <th>Sexo</th>\n      <th></th>\n    </tr>\n  </thead>\n  <tbody>\n    <tr>\n      <th>Homens</th>\n      <td>61.0</td>\n    </tr>\n    <tr>\n      <th>Mulheres</th>\n      <td>44.0</td>\n    </tr>\n  </tbody>\n</table>\n</div>"
     },
     "execution_count": 164,
     "metadata": {},
     "output_type": "execute_result"
    }
   ],
   "source": [
    "temp = sexo[[\"Sexo\", \"Posto\"]].groupby(\"Sexo\").sum()\n",
    "temp"
   ]
  },
  {
   "cell_type": "code",
   "execution_count": 165,
   "metadata": {
    "id": "mkbp_OgepsnA",
    "pycharm": {
     "name": "#%%\n"
    }
   },
   "outputs": [
    {
     "data": {
      "text/plain": "61.0"
     },
     "execution_count": 165,
     "metadata": {},
     "output_type": "execute_result"
    }
   ],
   "source": [
    "r_1 = temp.loc[\"Homens\"][0]\n",
    "r_1"
   ]
  },
  {
   "cell_type": "code",
   "execution_count": 166,
   "metadata": {
    "id": "zZuZTlp0psnB",
    "pycharm": {
     "name": "#%%\n"
    }
   },
   "outputs": [
    {
     "data": {
      "text/plain": "44.0"
     },
     "execution_count": 166,
     "metadata": {},
     "output_type": "execute_result"
    }
   ],
   "source": [
    "r_2 = temp.loc[\"Mulheres\"][0]\n",
    "r_2"
   ]
  },
  {
   "cell_type": "markdown",
   "metadata": {
    "id": "VheEyfc8psnC",
    "pycharm": {
     "name": "#%% md\n"
    }
   },
   "source": [
    "### Obter $u$\n",
    "\n",
    "# $$u_1 = n_1 \\times n_2 + \\frac{n_1 \\times (n_1 + 1)}{2} - R_1$$\n",
    "# $$u_2 = n_1 \\times n_2 + \\frac{n_2 \\times (n_2 + 1)}{2} - R_2$$\n",
    "\n",
    "# $$u = min(u_1, u_2)$$\n"
   ]
  },
  {
   "cell_type": "code",
   "execution_count": 167,
   "metadata": {
    "id": "zUr2AlPcpsnC",
    "pycharm": {
     "name": "#%%\n"
    }
   },
   "outputs": [
    {
     "data": {
      "text/plain": "8.0"
     },
     "execution_count": 167,
     "metadata": {},
     "output_type": "execute_result"
    }
   ],
   "source": [
    "u_1 = n_1 * n_2 + ((n_1 * (n_1 + 1)) / 2) - r_1\n",
    "u_1"
   ]
  },
  {
   "cell_type": "code",
   "execution_count": 169,
   "metadata": {
    "id": "rFYBYtf9psnE",
    "pycharm": {
     "name": "#%%\n"
    }
   },
   "outputs": [
    {
     "data": {
      "text/plain": "40.0"
     },
     "execution_count": 169,
     "metadata": {},
     "output_type": "execute_result"
    }
   ],
   "source": [
    "u_2 = n_1 * n_2 + ((n_2 * (n_2 + 1)) / 2) - r_2\n",
    "u_2"
   ]
  },
  {
   "cell_type": "code",
   "execution_count": 170,
   "metadata": {
    "id": "2TodtD_jpsnF",
    "pycharm": {
     "name": "#%%\n"
    }
   },
   "outputs": [
    {
     "data": {
      "text/plain": "8.0"
     },
     "execution_count": 170,
     "metadata": {},
     "output_type": "execute_result"
    }
   ],
   "source": [
    "u = min(u_1, u_2)\n",
    "u"
   ]
  },
  {
   "cell_type": "markdown",
   "metadata": {
    "id": "v9JqAVXTpsnH",
    "pycharm": {
     "name": "#%% md\n"
    }
   },
   "source": [
    "### Obter $\\mu{(u)}$\n",
    "\n",
    "# $$\\mu{(u)} = \\frac{n_1 \\times n_2}{2}$$"
   ]
  },
  {
   "cell_type": "code",
   "execution_count": 171,
   "metadata": {
    "id": "ANX33u8upsnH",
    "pycharm": {
     "name": "#%%\n"
    }
   },
   "outputs": [
    {
     "data": {
      "text/plain": "24.0"
     },
     "execution_count": 171,
     "metadata": {},
     "output_type": "execute_result"
    }
   ],
   "source": [
    "mu_u = (n_1 * n_2) / 2\n",
    "mu_u"
   ]
  },
  {
   "cell_type": "markdown",
   "metadata": {
    "id": "mAEF6gUVpsnI",
    "pycharm": {
     "name": "#%% md\n"
    }
   },
   "source": [
    "### Obter $\\sigma{(u)}$\n",
    "\n",
    "# $$\\sigma{(u)} = \\sqrt{\\frac{n_1 \\times n_2 \\times (n_1 + n_2 + 1)}{12}}$$"
   ]
  },
  {
   "cell_type": "code",
   "execution_count": 172,
   "metadata": {
    "id": "fyoNElj2psnI",
    "pycharm": {
     "name": "#%%\n"
    }
   },
   "outputs": [
    {
     "data": {
      "text/plain": "7.745966692414834"
     },
     "execution_count": 172,
     "metadata": {},
     "output_type": "execute_result"
    }
   ],
   "source": [
    "sigma_u = np.sqrt(n_1 * n_2 * (n_1 + n_2 + 1) / 12)\n",
    "sigma_u"
   ]
  },
  {
   "cell_type": "markdown",
   "metadata": {
    "id": "T_s3WFVtpsnI",
    "pycharm": {
     "name": "#%% md\n"
    }
   },
   "source": [
    "### Obter $Z$\n",
    "\n",
    "# $$Z = \\frac{u - \\mu{(u)}}{\\sigma{(u)}}$$"
   ]
  },
  {
   "cell_type": "code",
   "execution_count": 174,
   "metadata": {
    "id": "YwySSfs1psnJ",
    "pycharm": {
     "name": "#%%\n"
    }
   },
   "outputs": [
    {
     "data": {
      "text/plain": "-2.07"
     },
     "execution_count": 174,
     "metadata": {},
     "output_type": "execute_result"
    }
   ],
   "source": [
    "z = (u - mu_u) / sigma_u\n",
    "z.round(2)"
   ]
  },
  {
   "cell_type": "markdown",
   "metadata": {
    "id": "ET0XFyyTpsnJ",
    "pycharm": {
     "name": "#%% md\n"
    }
   },
   "source": [
    "![Estatística-Teste](https://caelum-online-public.s3.amazonaws.com/1229-estatistica-parte3/01/img024.png)"
   ]
  },
  {
   "cell_type": "markdown",
   "metadata": {
    "id": "qSMrqg9lpsnJ",
    "pycharm": {
     "name": "#%% md\n"
    }
   },
   "source": [
    "---"
   ]
  },
  {
   "cell_type": "markdown",
   "metadata": {
    "id": "04hb7sbUpsnK",
    "pycharm": {
     "name": "#%% md\n"
    }
   },
   "source": [
    "### **Passo 5** - Aceitação ou rejeição da hipótese nula"
   ]
  },
  {
   "cell_type": "markdown",
   "metadata": {
    "id": "u_jtIZQYpsnK",
    "pycharm": {
     "name": "#%% md\n"
    }
   },
   "source": [
    "<img src='https://caelum-online-public.s3.amazonaws.com/1229-estatistica-parte3/01/img025.png' width='80%'>"
   ]
  },
  {
   "cell_type": "markdown",
   "metadata": {
    "id": "tKXPtt7ypsnK",
    "pycharm": {
     "name": "#%% md\n"
    }
   },
   "source": [
    "### <font color='red'>Critério do valor crítico</font>\n",
    "\n",
    "> ### Rejeitar $H_0$ se $Z \\leq -t_{\\alpha}$"
   ]
  },
  {
   "cell_type": "code",
   "execution_count": 176,
   "metadata": {
    "id": "YUnoj7r5psnK",
    "pycharm": {
     "name": "#%%\n"
    }
   },
   "outputs": [
    {
     "data": {
      "text/plain": "True"
     },
     "execution_count": 176,
     "metadata": {},
     "output_type": "execute_result"
    }
   ],
   "source": [
    "z <= t_alpha"
   ]
  },
  {
   "cell_type": "markdown",
   "metadata": {
    "id": "2vh3CcxgpsnM",
    "pycharm": {
     "name": "#%% md\n"
    }
   },
   "source": [
    "### <font color='green'>Conclusão: Rejeitamos a hipótese de que não existe diferença entre os grupos, isto é, concluímos que a média das rendas dos chefes de domicílios do sexo feminino é menor que a média das rendas dos chefes de domicílios do sexo masculino. Confirmando a alegação de desigualdade de renda entre os sexos.</font>"
   ]
  },
  {
   "cell_type": "markdown",
   "metadata": {
    "id": "EJiw3TwCpsnM",
    "pycharm": {
     "name": "#%% md\n"
    }
   },
   "source": [
    "### <font color='red'>Critério do valor $p$</font>\n",
    "\n",
    "> ### Rejeitar $H_0$ se o valor $p\\leq\\alpha$"
   ]
  },
  {
   "cell_type": "markdown",
   "metadata": {
    "id": "U__FbtXEpsnM",
    "pycharm": {
     "name": "#%% md\n"
    }
   },
   "source": [
    "https://docs.scipy.org/doc/scipy/reference/generated/scipy.stats.mannwhitneyu.html"
   ]
  },
  {
   "cell_type": "code",
   "execution_count": 178,
   "metadata": {
    "id": "b21fe4hQpsnM",
    "pycharm": {
     "name": "#%%\n"
    }
   },
   "outputs": [],
   "source": [
    "from scipy.stats import mannwhitneyu"
   ]
  },
  {
   "cell_type": "code",
   "execution_count": 179,
   "metadata": {
    "id": "xBG8n1qPpsnN",
    "pycharm": {
     "name": "#%%\n"
    }
   },
   "outputs": [
    {
     "name": "stdout",
     "output_type": "stream",
     "text": [
      "8.0\n",
      "0.022221119551528605\n"
     ]
    }
   ],
   "source": [
    "u, p_valor = mannwhitneyu(mulheres, homens, alternative=\"less\")\n",
    "print(u)\n",
    "print(p_valor)"
   ]
  },
  {
   "cell_type": "code",
   "execution_count": 180,
   "metadata": {
    "id": "DIo9w6wNpsnO",
    "pycharm": {
     "name": "#%%\n"
    }
   },
   "outputs": [
    {
     "data": {
      "text/plain": "True"
     },
     "execution_count": 180,
     "metadata": {},
     "output_type": "execute_result"
    }
   ],
   "source": [
    "p_valor <= significancia"
   ]
  },
  {
   "cell_type": "markdown",
   "metadata": {
    "id": "aydvymEdpsnO",
    "pycharm": {
     "name": "#%% md\n"
    }
   },
   "source": [
    "---"
   ]
  }
 ],
 "metadata": {
  "colab": {
   "collapsed_sections": [
    "cVgsZ_E3jQKg",
    "nk65O0lepz57"
   ],
   "name": "Curso_de_Estatística_Parte_3.ipynb",
   "provenance": []
  },
  "kernelspec": {
   "display_name": "Python 3",
   "language": "python",
   "name": "python3"
  },
  "language_info": {
   "codemirror_mode": {
    "name": "ipython",
    "version": 3
   },
   "file_extension": ".py",
   "mimetype": "text/x-python",
   "name": "python",
   "nbconvert_exporter": "python",
   "pygments_lexer": "ipython3",
   "version": "3.6.5"
  }
 },
 "nbformat": 4,
 "nbformat_minor": 0
}