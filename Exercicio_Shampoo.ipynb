{
 "cells": [
  {
   "cell_type": "markdown",
   "source": [
    "# Duas Amostras - Shampoo"
   ],
   "metadata": {
    "collapsed": false,
    "pycharm": {
     "name": "#%% md\n"
    }
   }
  },
  {
   "cell_type": "markdown",
   "source": [
    "Um fabricante de cosméticos afirma que a adição de um novo composto químico em sua linha de shampoos consegue promover em mais de 2 centímetros o crescimento dos fios de cabelo em um período de 60 dias. Duas amostras de pessoas foram selecionadas e testadas, uma utilizando o shampoo novo (com o composto) e a outra com o shampoo antigo (sem o composto).\n",
    "\n",
    "Os resultados (crescimento dos fios de cabelo em centímetros) podem ser verificados na tabela abaixo:"
   ],
   "metadata": {
    "id": "xB6Rh3MET73z",
    "pycharm": {
     "name": "#%% md\n"
    }
   }
  },
  {
   "cell_type": "code",
   "execution_count": null,
   "metadata": {
    "collapsed": true,
    "pycharm": {
     "name": "#%%\n"
    },
    "id": "QJiSbYzE3A8K"
   },
   "outputs": [],
   "source": [
    "import pandas as pd\n",
    "import numpy as np"
   ]
  },
  {
   "cell_type": "code",
   "source": [
    "shampoo_novo = pd.Series([3.4, 4.9, 2.8, 5.5, 3.7, 2.5, 4.3, 4.6, 3.7, 3.4])\n",
    "shampoo_novo"
   ],
   "metadata": {
    "colab": {
     "base_uri": "https://localhost:8080/"
    },
    "id": "KtFggtnFCXCj",
    "outputId": "427bbc49-d0ab-47bc-a568-a92cb66d38f1",
    "pycharm": {
     "name": "#%%\n"
    }
   },
   "execution_count": null,
   "outputs": [
    {
     "output_type": "execute_result",
     "data": {
      "text/plain": [
       "0    3.4\n",
       "1    4.9\n",
       "2    2.8\n",
       "3    5.5\n",
       "4    3.7\n",
       "5    2.5\n",
       "6    4.3\n",
       "7    4.6\n",
       "8    3.7\n",
       "9    3.4\n",
       "dtype: float64"
      ]
     },
     "metadata": {},
     "execution_count": 142
    }
   ]
  },
  {
   "cell_type": "code",
   "source": [
    "shampoo_antigo = pd.Series([0.3, 1.2, 1.2, 1.7, 1.1, 0.6, 1.2, 1.5, 0.5, 0.7])\n",
    "shampoo_antigo"
   ],
   "metadata": {
    "colab": {
     "base_uri": "https://localhost:8080/"
    },
    "id": "SI-ppeBC3Clu",
    "outputId": "0c648216-bcb4-4001-c7db-608b4267d4d0",
    "pycharm": {
     "name": "#%%\n"
    }
   },
   "execution_count": null,
   "outputs": [
    {
     "output_type": "execute_result",
     "data": {
      "text/plain": [
       "0    0.3\n",
       "1    1.2\n",
       "2    1.2\n",
       "3    1.7\n",
       "4    1.1\n",
       "5    0.6\n",
       "6    1.2\n",
       "7    1.5\n",
       "8    0.5\n",
       "9    0.7\n",
       "dtype: float64"
      ]
     },
     "metadata": {},
     "execution_count": 143
    }
   ]
  },
  {
   "cell_type": "markdown",
   "source": [
    "Assumindo um nível de confiança de 95% e considerando que as populações se distribuem como uma normal, podemos acreditar na afirmação do fabricante do shampoo?"
   ],
   "metadata": {
    "id": "In9o0vVQUEN_",
    "pycharm": {
     "name": "#%% md\n"
    }
   }
  },
  {
   "cell_type": "code",
   "source": [
    "confianca = 0.95\n",
    "significancia = 1 - confianca\n",
    "d_0 = 2"
   ],
   "metadata": {
    "id": "KFzt0_Bn5RDt",
    "pycharm": {
     "name": "#%%\n"
    }
   },
   "execution_count": null,
   "outputs": []
  },
  {
   "cell_type": "code",
   "source": [
    "media_shampoo_novo = shampoo_novo.mean()\n",
    "media_shampoo_novo"
   ],
   "metadata": {
    "colab": {
     "base_uri": "https://localhost:8080/"
    },
    "id": "ksBtDIQZ7RpK",
    "outputId": "1cca79b5-f4bc-4a8f-aebd-a93cf37f1734",
    "pycharm": {
     "name": "#%%\n"
    }
   },
   "execution_count": null,
   "outputs": [
    {
     "output_type": "execute_result",
     "data": {
      "text/plain": [
       "3.88"
      ]
     },
     "metadata": {},
     "execution_count": 145
    }
   ]
  },
  {
   "cell_type": "code",
   "source": [
    "media_shampoo_antigo = shampoo_antigo.mean()\n",
    "media_shampoo_antigo"
   ],
   "metadata": {
    "colab": {
     "base_uri": "https://localhost:8080/"
    },
    "id": "cfCNcaSM7Vwy",
    "outputId": "f06abc74-a8ce-4277-f98b-b1f5af06a747",
    "pycharm": {
     "name": "#%%\n"
    }
   },
   "execution_count": null,
   "outputs": [
    {
     "output_type": "execute_result",
     "data": {
      "text/plain": [
       "1.0"
      ]
     },
     "metadata": {},
     "execution_count": 146
    }
   ]
  },
  {
   "cell_type": "code",
   "source": [
    "desvio_padrao_shampoo_novo = shampoo_novo.std()\n",
    "desvio_padrao_shampoo_novo"
   ],
   "metadata": {
    "colab": {
     "base_uri": "https://localhost:8080/"
    },
    "id": "hT1mSMJb7aSp",
    "outputId": "c3b7022b-bcc4-4b07-deb5-981d9aaa7fa1",
    "pycharm": {
     "name": "#%%\n"
    }
   },
   "execution_count": null,
   "outputs": [
    {
     "output_type": "execute_result",
     "data": {
      "text/plain": [
       "0.9402127418834527"
      ]
     },
     "metadata": {},
     "execution_count": 147
    }
   ]
  },
  {
   "cell_type": "code",
   "source": [
    "desvio_padrao_shampoo_antigo = shampoo_antigo.std()\n",
    "desvio_padrao_shampoo_antigo"
   ],
   "metadata": {
    "colab": {
     "base_uri": "https://localhost:8080/"
    },
    "id": "g48f8uh37lc5",
    "outputId": "dd382644-01ac-4d87-9b17-3ab913945b0d",
    "pycharm": {
     "name": "#%%\n"
    }
   },
   "execution_count": null,
   "outputs": [
    {
     "output_type": "execute_result",
     "data": {
      "text/plain": [
       "0.4546060565661952"
      ]
     },
     "metadata": {},
     "execution_count": 148
    }
   ]
  },
  {
   "cell_type": "code",
   "source": [
    "n_shampoo_novo = len(shampoo_novo)\n",
    "n_shampoo_antigo = len(shampoo_antigo)\n",
    "\n",
    "if n_shampoo_novo + n_shampoo_antigo < 30:\n",
    "    print(\"Usar t (t-Student)\")\n",
    "else:\n",
    "    print(\"Usar z (normal\")"
   ],
   "metadata": {
    "colab": {
     "base_uri": "https://localhost:8080/"
    },
    "id": "w5_AblXM7qUr",
    "outputId": "0918bfa1-552c-405e-9b2b-0a4a0c2ce834",
    "pycharm": {
     "name": "#%%\n"
    }
   },
   "execution_count": null,
   "outputs": [
    {
     "output_type": "stream",
     "name": "stdout",
     "text": [
      "Usar t (t-Student)\n"
     ]
    }
   ]
  },
  {
   "cell_type": "code",
   "source": [
    "import pandas as pd\n",
    "from scipy.stats import t as t_student\n",
    "\n",
    "tabela_t_student = pd.DataFrame(\n",
    "    [],\n",
    "    index=[i for i in range(1, 30)],\n",
    "    columns=[i / 100 for i in range(10, 0, -1)]\n",
    ")\n",
    "\n",
    "for index in tabela_t_student.index:\n",
    "    for column in tabela_t_student.columns:\n",
    "        tabela_t_student.loc[index, column] = t_student.ppf(1 - float(column) / 2, index)\n",
    "\n",
    "index = [(\"Graus de Liberdade (n - 1)\", i) for i in range(1, 30)]\n",
    "tabela_t_student.index = pd.MultiIndex.from_tuples(index)\n",
    "\n",
    "columns = [(f\"{i / 100:0.3f}\", f\"{(i / 100) / 2:0.3f}\") for i in range(10, 0, -1)]\n",
    "tabela_t_student.columns = pd.MultiIndex.from_tuples(columns)\n",
    "\n",
    "tabela_t_student.rename_axis([\"Bicaudal\", \"Unicaudal\"], axis=1, inplace=True)\n",
    "\n",
    "tabela_t_student"
   ],
   "metadata": {
    "colab": {
     "base_uri": "https://localhost:8080/",
     "height": 990
    },
    "id": "Eujv-58576oM",
    "outputId": "e382ecf4-599d-4fe4-e570-d1ff9f9ecf9b",
    "pycharm": {
     "name": "#%%\n"
    }
   },
   "execution_count": null,
   "outputs": [
    {
     "output_type": "execute_result",
     "data": {
      "text/plain": [
       "Bicaudal                          0.100     0.090     0.080     0.070  \\\n",
       "Unicaudal                         0.050     0.045     0.040     0.035   \n",
       "Graus de Liberdade (n - 1) 1   6.313752  7.026366  7.915815  9.057887   \n",
       "                           2   2.919986  3.103977  3.319764  3.578247   \n",
       "                           3   2.353363  2.470807  2.605427  2.762599   \n",
       "                           4   2.131847    2.2261  2.332873  2.455892   \n",
       "                           5   2.015048  2.097837  2.190958  2.297392   \n",
       "                           6    1.94318  2.019201  2.104306  2.201059   \n",
       "                           7   1.894579  1.966153  2.046011  2.136453   \n",
       "                           8   1.859548  1.927986  2.004152  2.090166   \n",
       "                           9   1.833113  1.899222  1.972653  2.055395   \n",
       "                           10  1.812461  1.876774  1.948099  2.028327   \n",
       "                           11  1.795885  1.858772  1.928427  2.006663   \n",
       "                           12  1.782288  1.844015  1.912313  1.988934   \n",
       "                           13  1.770933    1.8317  1.898874  1.974158   \n",
       "                           14   1.76131  1.821267  1.887496  1.961656   \n",
       "                           15   1.75305  1.812316  1.877739   1.95094   \n",
       "                           16  1.745884  1.804553  1.869279  1.941654   \n",
       "                           17  1.739607  1.797755  1.861875   1.93353   \n",
       "                           18  1.734064  1.791754   1.85534  1.926362   \n",
       "                           19  1.729133  1.786417   1.84953  1.919992   \n",
       "                           20  1.724718   1.78164  1.844331  1.914292   \n",
       "                           21  1.720743  1.777339  1.839651  1.909164   \n",
       "                           22  1.717144  1.773447  1.835417  1.904524   \n",
       "                           23  1.713872  1.769907  1.831567  1.900307   \n",
       "                           24  1.710882  1.766675  1.828051  1.896457   \n",
       "                           25  1.708141  1.763711  1.824828  1.892928   \n",
       "                           26  1.705618  1.760983  1.821863  1.889682   \n",
       "                           27  1.703288  1.758466  1.819126  1.886686   \n",
       "                           28  1.701131  1.756134  1.816592  1.883912   \n",
       "                           29  1.699127  1.753968  1.814238  1.881336   \n",
       "\n",
       "Bicaudal                           0.060      0.050      0.040      0.030  \\\n",
       "Unicaudal                          0.030      0.025      0.020      0.015   \n",
       "Graus de Liberdade (n - 1) 1   10.578895  12.706205  15.894545  21.204949   \n",
       "                           2    3.896425   4.302653   4.848732   5.642778   \n",
       "                           3     2.95051   3.182446   3.481909   3.896046   \n",
       "                           4    2.600762   2.776445   2.998528    3.29763   \n",
       "                           5    2.421585   2.570582   2.756509   3.002875   \n",
       "                           6    2.313263   2.446912   2.612242   2.828928   \n",
       "                           7    2.240879   2.364624   2.516752   2.714573   \n",
       "                           8    2.189155   2.306004   2.448985   2.633814   \n",
       "                           9    2.150375   2.262157   2.398441   2.573804   \n",
       "                           10   2.120234   2.228139   2.359315   2.527484   \n",
       "                           11   2.096139   2.200985    2.32814   2.490664   \n",
       "                           12   2.076441   2.178813   2.302722     2.4607   \n",
       "                           13   2.060038   2.160369   2.281604   2.435845   \n",
       "                           14   2.046169   2.144787   2.263781   2.414898   \n",
       "                           15   2.034289    2.13145    2.24854   2.397005   \n",
       "                           16      2.024   2.119905   2.235358   2.381545   \n",
       "                           17   2.015002   2.109816   2.223845   2.368055   \n",
       "                           18   2.007067   2.100922   2.213703    2.35618   \n",
       "                           19   2.000017   2.093024   2.204701   2.345648   \n",
       "                           20   1.993713   2.085963   2.196658   2.336242   \n",
       "                           21   1.988041   2.079614   2.189427   2.327792   \n",
       "                           22   1.982911   2.073873   2.182893    2.32016   \n",
       "                           23   1.978249   2.068658   2.176958   2.313231   \n",
       "                           24   1.973994   2.063899   2.171545   2.306913   \n",
       "                           25   1.970095   2.059539   2.166587    2.30113   \n",
       "                           26   1.966509   2.055529   2.162029   2.295815   \n",
       "                           27     1.9632   2.051831   2.157825   2.290914   \n",
       "                           28   1.960136   2.048407   2.153935    2.28638   \n",
       "                           29   1.957293    2.04523   2.150325   2.282175   \n",
       "\n",
       "Bicaudal                           0.020      0.010  \n",
       "Unicaudal                          0.010      0.005  \n",
       "Graus de Liberdade (n - 1) 1   31.820516  63.656741  \n",
       "                           2    6.964557   9.924843  \n",
       "                           3    4.540703   5.840909  \n",
       "                           4    3.746947   4.604095  \n",
       "                           5     3.36493   4.032143  \n",
       "                           6    3.142668   3.707428  \n",
       "                           7    2.997952   3.499483  \n",
       "                           8    2.896459   3.355387  \n",
       "                           9    2.821438   3.249836  \n",
       "                           10   2.763769   3.169273  \n",
       "                           11   2.718079   3.105807  \n",
       "                           12   2.680998    3.05454  \n",
       "                           13   2.650309   3.012276  \n",
       "                           14   2.624494   2.976843  \n",
       "                           15    2.60248   2.946713  \n",
       "                           16   2.583487   2.920782  \n",
       "                           17   2.566934   2.898231  \n",
       "                           18    2.55238    2.87844  \n",
       "                           19   2.539483   2.860935  \n",
       "                           20   2.527977    2.84534  \n",
       "                           21   2.517648    2.83136  \n",
       "                           22   2.508325   2.818756  \n",
       "                           23   2.499867   2.807336  \n",
       "                           24   2.492159    2.79694  \n",
       "                           25   2.485107   2.787436  \n",
       "                           26    2.47863   2.778715  \n",
       "                           27    2.47266   2.770683  \n",
       "                           28    2.46714   2.763262  \n",
       "                           29   2.462021   2.756386  "
      ],
      "text/html": [
       "\n",
       "  <div id=\"df-863aba1d-23a6-4d7b-9a60-84ce6fe50ba6\">\n",
       "    <div class=\"colab-df-container\">\n",
       "      <div>\n",
       "<style scoped>\n",
       "    .dataframe tbody tr th:only-of-type {\n",
       "        vertical-align: middle;\n",
       "    }\n",
       "\n",
       "    .dataframe tbody tr th {\n",
       "        vertical-align: top;\n",
       "    }\n",
       "\n",
       "    .dataframe thead tr th {\n",
       "        text-align: left;\n",
       "    }\n",
       "</style>\n",
       "<table border=\"1\" class=\"dataframe\">\n",
       "  <thead>\n",
       "    <tr>\n",
       "      <th></th>\n",
       "      <th>Bicaudal</th>\n",
       "      <th>0.100</th>\n",
       "      <th>0.090</th>\n",
       "      <th>0.080</th>\n",
       "      <th>0.070</th>\n",
       "      <th>0.060</th>\n",
       "      <th>0.050</th>\n",
       "      <th>0.040</th>\n",
       "      <th>0.030</th>\n",
       "      <th>0.020</th>\n",
       "      <th>0.010</th>\n",
       "    </tr>\n",
       "    <tr>\n",
       "      <th></th>\n",
       "      <th>Unicaudal</th>\n",
       "      <th>0.050</th>\n",
       "      <th>0.045</th>\n",
       "      <th>0.040</th>\n",
       "      <th>0.035</th>\n",
       "      <th>0.030</th>\n",
       "      <th>0.025</th>\n",
       "      <th>0.020</th>\n",
       "      <th>0.015</th>\n",
       "      <th>0.010</th>\n",
       "      <th>0.005</th>\n",
       "    </tr>\n",
       "  </thead>\n",
       "  <tbody>\n",
       "    <tr>\n",
       "      <th rowspan=\"29\" valign=\"top\">Graus de Liberdade (n - 1)</th>\n",
       "      <th>1</th>\n",
       "      <td>6.313752</td>\n",
       "      <td>7.026366</td>\n",
       "      <td>7.915815</td>\n",
       "      <td>9.057887</td>\n",
       "      <td>10.578895</td>\n",
       "      <td>12.706205</td>\n",
       "      <td>15.894545</td>\n",
       "      <td>21.204949</td>\n",
       "      <td>31.820516</td>\n",
       "      <td>63.656741</td>\n",
       "    </tr>\n",
       "    <tr>\n",
       "      <th>2</th>\n",
       "      <td>2.919986</td>\n",
       "      <td>3.103977</td>\n",
       "      <td>3.319764</td>\n",
       "      <td>3.578247</td>\n",
       "      <td>3.896425</td>\n",
       "      <td>4.302653</td>\n",
       "      <td>4.848732</td>\n",
       "      <td>5.642778</td>\n",
       "      <td>6.964557</td>\n",
       "      <td>9.924843</td>\n",
       "    </tr>\n",
       "    <tr>\n",
       "      <th>3</th>\n",
       "      <td>2.353363</td>\n",
       "      <td>2.470807</td>\n",
       "      <td>2.605427</td>\n",
       "      <td>2.762599</td>\n",
       "      <td>2.95051</td>\n",
       "      <td>3.182446</td>\n",
       "      <td>3.481909</td>\n",
       "      <td>3.896046</td>\n",
       "      <td>4.540703</td>\n",
       "      <td>5.840909</td>\n",
       "    </tr>\n",
       "    <tr>\n",
       "      <th>4</th>\n",
       "      <td>2.131847</td>\n",
       "      <td>2.2261</td>\n",
       "      <td>2.332873</td>\n",
       "      <td>2.455892</td>\n",
       "      <td>2.600762</td>\n",
       "      <td>2.776445</td>\n",
       "      <td>2.998528</td>\n",
       "      <td>3.29763</td>\n",
       "      <td>3.746947</td>\n",
       "      <td>4.604095</td>\n",
       "    </tr>\n",
       "    <tr>\n",
       "      <th>5</th>\n",
       "      <td>2.015048</td>\n",
       "      <td>2.097837</td>\n",
       "      <td>2.190958</td>\n",
       "      <td>2.297392</td>\n",
       "      <td>2.421585</td>\n",
       "      <td>2.570582</td>\n",
       "      <td>2.756509</td>\n",
       "      <td>3.002875</td>\n",
       "      <td>3.36493</td>\n",
       "      <td>4.032143</td>\n",
       "    </tr>\n",
       "    <tr>\n",
       "      <th>6</th>\n",
       "      <td>1.94318</td>\n",
       "      <td>2.019201</td>\n",
       "      <td>2.104306</td>\n",
       "      <td>2.201059</td>\n",
       "      <td>2.313263</td>\n",
       "      <td>2.446912</td>\n",
       "      <td>2.612242</td>\n",
       "      <td>2.828928</td>\n",
       "      <td>3.142668</td>\n",
       "      <td>3.707428</td>\n",
       "    </tr>\n",
       "    <tr>\n",
       "      <th>7</th>\n",
       "      <td>1.894579</td>\n",
       "      <td>1.966153</td>\n",
       "      <td>2.046011</td>\n",
       "      <td>2.136453</td>\n",
       "      <td>2.240879</td>\n",
       "      <td>2.364624</td>\n",
       "      <td>2.516752</td>\n",
       "      <td>2.714573</td>\n",
       "      <td>2.997952</td>\n",
       "      <td>3.499483</td>\n",
       "    </tr>\n",
       "    <tr>\n",
       "      <th>8</th>\n",
       "      <td>1.859548</td>\n",
       "      <td>1.927986</td>\n",
       "      <td>2.004152</td>\n",
       "      <td>2.090166</td>\n",
       "      <td>2.189155</td>\n",
       "      <td>2.306004</td>\n",
       "      <td>2.448985</td>\n",
       "      <td>2.633814</td>\n",
       "      <td>2.896459</td>\n",
       "      <td>3.355387</td>\n",
       "    </tr>\n",
       "    <tr>\n",
       "      <th>9</th>\n",
       "      <td>1.833113</td>\n",
       "      <td>1.899222</td>\n",
       "      <td>1.972653</td>\n",
       "      <td>2.055395</td>\n",
       "      <td>2.150375</td>\n",
       "      <td>2.262157</td>\n",
       "      <td>2.398441</td>\n",
       "      <td>2.573804</td>\n",
       "      <td>2.821438</td>\n",
       "      <td>3.249836</td>\n",
       "    </tr>\n",
       "    <tr>\n",
       "      <th>10</th>\n",
       "      <td>1.812461</td>\n",
       "      <td>1.876774</td>\n",
       "      <td>1.948099</td>\n",
       "      <td>2.028327</td>\n",
       "      <td>2.120234</td>\n",
       "      <td>2.228139</td>\n",
       "      <td>2.359315</td>\n",
       "      <td>2.527484</td>\n",
       "      <td>2.763769</td>\n",
       "      <td>3.169273</td>\n",
       "    </tr>\n",
       "    <tr>\n",
       "      <th>11</th>\n",
       "      <td>1.795885</td>\n",
       "      <td>1.858772</td>\n",
       "      <td>1.928427</td>\n",
       "      <td>2.006663</td>\n",
       "      <td>2.096139</td>\n",
       "      <td>2.200985</td>\n",
       "      <td>2.32814</td>\n",
       "      <td>2.490664</td>\n",
       "      <td>2.718079</td>\n",
       "      <td>3.105807</td>\n",
       "    </tr>\n",
       "    <tr>\n",
       "      <th>12</th>\n",
       "      <td>1.782288</td>\n",
       "      <td>1.844015</td>\n",
       "      <td>1.912313</td>\n",
       "      <td>1.988934</td>\n",
       "      <td>2.076441</td>\n",
       "      <td>2.178813</td>\n",
       "      <td>2.302722</td>\n",
       "      <td>2.4607</td>\n",
       "      <td>2.680998</td>\n",
       "      <td>3.05454</td>\n",
       "    </tr>\n",
       "    <tr>\n",
       "      <th>13</th>\n",
       "      <td>1.770933</td>\n",
       "      <td>1.8317</td>\n",
       "      <td>1.898874</td>\n",
       "      <td>1.974158</td>\n",
       "      <td>2.060038</td>\n",
       "      <td>2.160369</td>\n",
       "      <td>2.281604</td>\n",
       "      <td>2.435845</td>\n",
       "      <td>2.650309</td>\n",
       "      <td>3.012276</td>\n",
       "    </tr>\n",
       "    <tr>\n",
       "      <th>14</th>\n",
       "      <td>1.76131</td>\n",
       "      <td>1.821267</td>\n",
       "      <td>1.887496</td>\n",
       "      <td>1.961656</td>\n",
       "      <td>2.046169</td>\n",
       "      <td>2.144787</td>\n",
       "      <td>2.263781</td>\n",
       "      <td>2.414898</td>\n",
       "      <td>2.624494</td>\n",
       "      <td>2.976843</td>\n",
       "    </tr>\n",
       "    <tr>\n",
       "      <th>15</th>\n",
       "      <td>1.75305</td>\n",
       "      <td>1.812316</td>\n",
       "      <td>1.877739</td>\n",
       "      <td>1.95094</td>\n",
       "      <td>2.034289</td>\n",
       "      <td>2.13145</td>\n",
       "      <td>2.24854</td>\n",
       "      <td>2.397005</td>\n",
       "      <td>2.60248</td>\n",
       "      <td>2.946713</td>\n",
       "    </tr>\n",
       "    <tr>\n",
       "      <th>16</th>\n",
       "      <td>1.745884</td>\n",
       "      <td>1.804553</td>\n",
       "      <td>1.869279</td>\n",
       "      <td>1.941654</td>\n",
       "      <td>2.024</td>\n",
       "      <td>2.119905</td>\n",
       "      <td>2.235358</td>\n",
       "      <td>2.381545</td>\n",
       "      <td>2.583487</td>\n",
       "      <td>2.920782</td>\n",
       "    </tr>\n",
       "    <tr>\n",
       "      <th>17</th>\n",
       "      <td>1.739607</td>\n",
       "      <td>1.797755</td>\n",
       "      <td>1.861875</td>\n",
       "      <td>1.93353</td>\n",
       "      <td>2.015002</td>\n",
       "      <td>2.109816</td>\n",
       "      <td>2.223845</td>\n",
       "      <td>2.368055</td>\n",
       "      <td>2.566934</td>\n",
       "      <td>2.898231</td>\n",
       "    </tr>\n",
       "    <tr>\n",
       "      <th>18</th>\n",
       "      <td>1.734064</td>\n",
       "      <td>1.791754</td>\n",
       "      <td>1.85534</td>\n",
       "      <td>1.926362</td>\n",
       "      <td>2.007067</td>\n",
       "      <td>2.100922</td>\n",
       "      <td>2.213703</td>\n",
       "      <td>2.35618</td>\n",
       "      <td>2.55238</td>\n",
       "      <td>2.87844</td>\n",
       "    </tr>\n",
       "    <tr>\n",
       "      <th>19</th>\n",
       "      <td>1.729133</td>\n",
       "      <td>1.786417</td>\n",
       "      <td>1.84953</td>\n",
       "      <td>1.919992</td>\n",
       "      <td>2.000017</td>\n",
       "      <td>2.093024</td>\n",
       "      <td>2.204701</td>\n",
       "      <td>2.345648</td>\n",
       "      <td>2.539483</td>\n",
       "      <td>2.860935</td>\n",
       "    </tr>\n",
       "    <tr>\n",
       "      <th>20</th>\n",
       "      <td>1.724718</td>\n",
       "      <td>1.78164</td>\n",
       "      <td>1.844331</td>\n",
       "      <td>1.914292</td>\n",
       "      <td>1.993713</td>\n",
       "      <td>2.085963</td>\n",
       "      <td>2.196658</td>\n",
       "      <td>2.336242</td>\n",
       "      <td>2.527977</td>\n",
       "      <td>2.84534</td>\n",
       "    </tr>\n",
       "    <tr>\n",
       "      <th>21</th>\n",
       "      <td>1.720743</td>\n",
       "      <td>1.777339</td>\n",
       "      <td>1.839651</td>\n",
       "      <td>1.909164</td>\n",
       "      <td>1.988041</td>\n",
       "      <td>2.079614</td>\n",
       "      <td>2.189427</td>\n",
       "      <td>2.327792</td>\n",
       "      <td>2.517648</td>\n",
       "      <td>2.83136</td>\n",
       "    </tr>\n",
       "    <tr>\n",
       "      <th>22</th>\n",
       "      <td>1.717144</td>\n",
       "      <td>1.773447</td>\n",
       "      <td>1.835417</td>\n",
       "      <td>1.904524</td>\n",
       "      <td>1.982911</td>\n",
       "      <td>2.073873</td>\n",
       "      <td>2.182893</td>\n",
       "      <td>2.32016</td>\n",
       "      <td>2.508325</td>\n",
       "      <td>2.818756</td>\n",
       "    </tr>\n",
       "    <tr>\n",
       "      <th>23</th>\n",
       "      <td>1.713872</td>\n",
       "      <td>1.769907</td>\n",
       "      <td>1.831567</td>\n",
       "      <td>1.900307</td>\n",
       "      <td>1.978249</td>\n",
       "      <td>2.068658</td>\n",
       "      <td>2.176958</td>\n",
       "      <td>2.313231</td>\n",
       "      <td>2.499867</td>\n",
       "      <td>2.807336</td>\n",
       "    </tr>\n",
       "    <tr>\n",
       "      <th>24</th>\n",
       "      <td>1.710882</td>\n",
       "      <td>1.766675</td>\n",
       "      <td>1.828051</td>\n",
       "      <td>1.896457</td>\n",
       "      <td>1.973994</td>\n",
       "      <td>2.063899</td>\n",
       "      <td>2.171545</td>\n",
       "      <td>2.306913</td>\n",
       "      <td>2.492159</td>\n",
       "      <td>2.79694</td>\n",
       "    </tr>\n",
       "    <tr>\n",
       "      <th>25</th>\n",
       "      <td>1.708141</td>\n",
       "      <td>1.763711</td>\n",
       "      <td>1.824828</td>\n",
       "      <td>1.892928</td>\n",
       "      <td>1.970095</td>\n",
       "      <td>2.059539</td>\n",
       "      <td>2.166587</td>\n",
       "      <td>2.30113</td>\n",
       "      <td>2.485107</td>\n",
       "      <td>2.787436</td>\n",
       "    </tr>\n",
       "    <tr>\n",
       "      <th>26</th>\n",
       "      <td>1.705618</td>\n",
       "      <td>1.760983</td>\n",
       "      <td>1.821863</td>\n",
       "      <td>1.889682</td>\n",
       "      <td>1.966509</td>\n",
       "      <td>2.055529</td>\n",
       "      <td>2.162029</td>\n",
       "      <td>2.295815</td>\n",
       "      <td>2.47863</td>\n",
       "      <td>2.778715</td>\n",
       "    </tr>\n",
       "    <tr>\n",
       "      <th>27</th>\n",
       "      <td>1.703288</td>\n",
       "      <td>1.758466</td>\n",
       "      <td>1.819126</td>\n",
       "      <td>1.886686</td>\n",
       "      <td>1.9632</td>\n",
       "      <td>2.051831</td>\n",
       "      <td>2.157825</td>\n",
       "      <td>2.290914</td>\n",
       "      <td>2.47266</td>\n",
       "      <td>2.770683</td>\n",
       "    </tr>\n",
       "    <tr>\n",
       "      <th>28</th>\n",
       "      <td>1.701131</td>\n",
       "      <td>1.756134</td>\n",
       "      <td>1.816592</td>\n",
       "      <td>1.883912</td>\n",
       "      <td>1.960136</td>\n",
       "      <td>2.048407</td>\n",
       "      <td>2.153935</td>\n",
       "      <td>2.28638</td>\n",
       "      <td>2.46714</td>\n",
       "      <td>2.763262</td>\n",
       "    </tr>\n",
       "    <tr>\n",
       "      <th>29</th>\n",
       "      <td>1.699127</td>\n",
       "      <td>1.753968</td>\n",
       "      <td>1.814238</td>\n",
       "      <td>1.881336</td>\n",
       "      <td>1.957293</td>\n",
       "      <td>2.04523</td>\n",
       "      <td>2.150325</td>\n",
       "      <td>2.282175</td>\n",
       "      <td>2.462021</td>\n",
       "      <td>2.756386</td>\n",
       "    </tr>\n",
       "  </tbody>\n",
       "</table>\n",
       "</div>\n",
       "      <button class=\"colab-df-convert\" onclick=\"convertToInteractive('df-863aba1d-23a6-4d7b-9a60-84ce6fe50ba6')\"\n",
       "              title=\"Convert this dataframe to an interactive table.\"\n",
       "              style=\"display:none;\">\n",
       "        \n",
       "  <svg xmlns=\"http://www.w3.org/2000/svg\" height=\"24px\"viewBox=\"0 0 24 24\"\n",
       "       width=\"24px\">\n",
       "    <path d=\"M0 0h24v24H0V0z\" fill=\"none\"/>\n",
       "    <path d=\"M18.56 5.44l.94 2.06.94-2.06 2.06-.94-2.06-.94-.94-2.06-.94 2.06-2.06.94zm-11 1L8.5 8.5l.94-2.06 2.06-.94-2.06-.94L8.5 2.5l-.94 2.06-2.06.94zm10 10l.94 2.06.94-2.06 2.06-.94-2.06-.94-.94-2.06-.94 2.06-2.06.94z\"/><path d=\"M17.41 7.96l-1.37-1.37c-.4-.4-.92-.59-1.43-.59-.52 0-1.04.2-1.43.59L10.3 9.45l-7.72 7.72c-.78.78-.78 2.05 0 2.83L4 21.41c.39.39.9.59 1.41.59.51 0 1.02-.2 1.41-.59l7.78-7.78 2.81-2.81c.8-.78.8-2.07 0-2.86zM5.41 20L4 18.59l7.72-7.72 1.47 1.35L5.41 20z\"/>\n",
       "  </svg>\n",
       "      </button>\n",
       "      \n",
       "  <style>\n",
       "    .colab-df-container {\n",
       "      display:flex;\n",
       "      flex-wrap:wrap;\n",
       "      gap: 12px;\n",
       "    }\n",
       "\n",
       "    .colab-df-convert {\n",
       "      background-color: #E8F0FE;\n",
       "      border: none;\n",
       "      border-radius: 50%;\n",
       "      cursor: pointer;\n",
       "      display: none;\n",
       "      fill: #1967D2;\n",
       "      height: 32px;\n",
       "      padding: 0 0 0 0;\n",
       "      width: 32px;\n",
       "    }\n",
       "\n",
       "    .colab-df-convert:hover {\n",
       "      background-color: #E2EBFA;\n",
       "      box-shadow: 0px 1px 2px rgba(60, 64, 67, 0.3), 0px 1px 3px 1px rgba(60, 64, 67, 0.15);\n",
       "      fill: #174EA6;\n",
       "    }\n",
       "\n",
       "    [theme=dark] .colab-df-convert {\n",
       "      background-color: #3B4455;\n",
       "      fill: #D2E3FC;\n",
       "    }\n",
       "\n",
       "    [theme=dark] .colab-df-convert:hover {\n",
       "      background-color: #434B5C;\n",
       "      box-shadow: 0px 1px 3px 1px rgba(0, 0, 0, 0.15);\n",
       "      filter: drop-shadow(0px 1px 2px rgba(0, 0, 0, 0.3));\n",
       "      fill: #FFFFFF;\n",
       "    }\n",
       "  </style>\n",
       "\n",
       "      <script>\n",
       "        const buttonEl =\n",
       "          document.querySelector('#df-863aba1d-23a6-4d7b-9a60-84ce6fe50ba6 button.colab-df-convert');\n",
       "        buttonEl.style.display =\n",
       "          google.colab.kernel.accessAllowed ? 'block' : 'none';\n",
       "\n",
       "        async function convertToInteractive(key) {\n",
       "          const element = document.querySelector('#df-863aba1d-23a6-4d7b-9a60-84ce6fe50ba6');\n",
       "          const dataTable =\n",
       "            await google.colab.kernel.invokeFunction('convertToInteractive',\n",
       "                                                     [key], {});\n",
       "          if (!dataTable) return;\n",
       "\n",
       "          const docLinkHtml = 'Like what you see? Visit the ' +\n",
       "            '<a target=\"_blank\" href=https://colab.research.google.com/notebooks/data_table.ipynb>data table notebook</a>'\n",
       "            + ' to learn more about interactive tables.';\n",
       "          element.innerHTML = '';\n",
       "          dataTable['output_type'] = 'display_data';\n",
       "          await google.colab.output.renderOutput(dataTable, element);\n",
       "          const docLink = document.createElement('div');\n",
       "          docLink.innerHTML = docLinkHtml;\n",
       "          element.appendChild(docLink);\n",
       "        }\n",
       "      </script>\n",
       "    </div>\n",
       "  </div>\n",
       "  "
      ]
     },
     "metadata": {},
     "execution_count": 150
    }
   ]
  },
  {
   "cell_type": "code",
   "source": [
    "from scipy.stats import t as t_student"
   ],
   "metadata": {
    "id": "C6bR00soAZXl",
    "pycharm": {
     "name": "#%%\n"
    }
   },
   "execution_count": null,
   "outputs": []
  },
  {
   "cell_type": "code",
   "source": [
    "graus_de_liberdade = n_shampoo_novo + n_shampoo_antigo - 2\n",
    "t_alpha = t_student.ppf(confianca, graus_de_liberdade)\n",
    "t_alpha"
   ],
   "metadata": {
    "colab": {
     "base_uri": "https://localhost:8080/"
    },
    "id": "FNa9Cbe79BOO",
    "outputId": "d77c5feb-2ffc-44c3-8436-3828f072b8d4",
    "pycharm": {
     "name": "#%%\n"
    }
   },
   "execution_count": null,
   "outputs": [
    {
     "output_type": "execute_result",
     "data": {
      "text/plain": [
       "1.7340636066175354"
      ]
     },
     "metadata": {},
     "execution_count": 152
    }
   ]
  },
  {
   "cell_type": "code",
   "source": [
    "numerador = (media_shampoo_novo - media_shampoo_antigo) - d_0\n",
    "denominador = np.sqrt((desvio_padrao_shampoo_novo ** 2 / n_shampoo_novo) + (desvio_padrao_shampoo_antigo ** 2 / n_shampoo_antigo))\n",
    "t = numerador / denominador\n",
    "p_valor = t_student.sf(t, graus_de_liberdade)\n",
    "print(t.round(3), p_valor.round(3), graus_de_liberdade)"
   ],
   "metadata": {
    "colab": {
     "base_uri": "https://localhost:8080/"
    },
    "id": "QrwB2Z4-9xxX",
    "outputId": "13e68af8-d058-400a-ac6d-6026b8872319",
    "pycharm": {
     "name": "#%%\n"
    }
   },
   "execution_count": null,
   "outputs": [
    {
     "output_type": "stream",
     "name": "stdout",
     "text": [
      "2.665 0.008 18\n"
     ]
    }
   ]
  },
  {
   "cell_type": "code",
   "source": [
    "print(f\"Hipótese Nula H0 (média de crescimento do shampoo novo menor ou igual a 2 cm em relação ao shampoo antigo): {'Rejeitada' if t >= t_alpha else 'Não Rejeitada'}\")"
   ],
   "metadata": {
    "colab": {
     "base_uri": "https://localhost:8080/"
    },
    "id": "KamT0Det98-_",
    "outputId": "0d361b77-9c29-40da-fc5b-aedfee024b20",
    "pycharm": {
     "name": "#%%\n"
    }
   },
   "execution_count": null,
   "outputs": [
    {
     "output_type": "stream",
     "name": "stdout",
     "text": [
      "Hipótese Nula H0 (média de crescimento do shampoo novo menor ou igual a 2 cm em relação ao shampoo antigo): Rejeitada\n"
     ]
    }
   ]
  },
  {
   "cell_type": "code",
   "source": [
    "from statsmodels.stats.weightstats import DescrStatsW\n",
    "    \n",
    "test_a = DescrStatsW(shampoo_novo)\n",
    "test_b = DescrStatsW(shampoo_antigo)\n",
    "    \n",
    "test = test_a.get_compare(test_b)\n",
    "    \n",
    "t, p_valor, df = test.ttest_ind(value=d_0, alternative=\"larger\")\n",
    "    \n",
    "print(t.round(3), p_valor.round(3), df)"
   ],
   "metadata": {
    "colab": {
     "base_uri": "https://localhost:8080/"
    },
    "id": "cMxDjTYF-wEd",
    "outputId": "9f30bcc8-fb25-4b8b-c6b4-ad60310f74fe",
    "pycharm": {
     "name": "#%%\n"
    }
   },
   "execution_count": null,
   "outputs": [
    {
     "output_type": "stream",
     "name": "stdout",
     "text": [
      "2.665 0.008 18.0\n"
     ]
    }
   ]
  },
  {
   "cell_type": "code",
   "source": [
    "print(f\"Hipótese Nula H0 (média de crescimento do shampoo menor ou igual a 2 cm em relação ao shampoo antigo): {'Rejeitada' if t >= t_alpha else 'Não Rejeitada'}\")"
   ],
   "metadata": {
    "colab": {
     "base_uri": "https://localhost:8080/"
    },
    "id": "w6JT4pPGDqND",
    "outputId": "0c75a846-a98a-49d6-8783-fb8db1f77ffc",
    "pycharm": {
     "name": "#%%\n"
    }
   },
   "execution_count": null,
   "outputs": [
    {
     "output_type": "stream",
     "name": "stdout",
     "text": [
      "Hipótese Nula H0 (média de crescimento do shampoo menor ou igual a 2 cm em relação ao shampoo antigo): Rejeitada\n"
     ]
    }
   ]
  }
 ],
 "metadata": {
  "kernelspec": {
   "display_name": "Python 3",
   "language": "python",
   "name": "python3"
  },
  "language_info": {
   "codemirror_mode": {
    "name": "ipython",
    "version": 2
   },
   "file_extension": ".py",
   "mimetype": "text/x-python",
   "name": "python",
   "nbconvert_exporter": "python",
   "pygments_lexer": "ipython2",
   "version": "2.7.6"
  },
  "colab": {
   "name": "Exercicio_Shampoo.ipynb",
   "provenance": []
  }
 },
 "nbformat": 4,
 "nbformat_minor": 0
}